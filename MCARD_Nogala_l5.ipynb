{
  "nbformat": 4,
  "nbformat_minor": 0,
  "metadata": {
    "colab": {
      "provenance": [],
      "authorship_tag": "ABX9TyPxAgWxkJOn8TYHLQJTwmyx",
      "include_colab_link": true
    },
    "kernelspec": {
      "name": "python3",
      "display_name": "Python 3"
    },
    "language_info": {
      "name": "python"
    }
  },
  "cells": [
    {
      "cell_type": "markdown",
      "metadata": {
        "id": "view-in-github",
        "colab_type": "text"
      },
      "source": [
        "<a href=\"https://colab.research.google.com/github/ZuzannaNogala/MCARD/blob/master/MCARD_Nogala_l5.ipynb\" target=\"_parent\"><img src=\"https://colab.research.google.com/assets/colab-badge.svg\" alt=\"Open In Colab\"/></a>"
      ]
    },
    {
      "cell_type": "markdown",
      "source": [
        "\n",
        "# LIST NR 5: Linear Regression (and extensions), classification and Neural Networks in PyTorch.\n",
        "\n",
        "Zuzanna Nogala"
      ],
      "metadata": {
        "id": "S0AJGQR0r6XP"
      }
    },
    {
      "cell_type": "code",
      "execution_count": 49,
      "metadata": {
        "colab": {
          "base_uri": "https://localhost:8080/"
        },
        "id": "hNn3Hx0ir2G7",
        "outputId": "7933ce8b-100f-4630-fe69-3d37bd326e16"
      },
      "outputs": [
        {
          "output_type": "stream",
          "name": "stdout",
          "text": [
            "Using device: cpu\n"
          ]
        }
      ],
      "source": [
        "import torch\n",
        "import torch.nn as nn\n",
        "import torch.nn.functional as F\n",
        "import torch.optim as optim\n",
        "from torch.utils.data import DataLoader, TensorDataset\n",
        "\n",
        "import numpy as np\n",
        "\n",
        "import matplotlib.pyplot as plt\n",
        "from datetime import datetime\n",
        "\n",
        "from sklearn.metrics import accuracy_score\n",
        "from sklearn.datasets import load_wine\n",
        "from sklearn.model_selection import train_test_split\n",
        "\n",
        "import time\n",
        "\n",
        "from keras.datasets import mnist # <-- dataset from here, 28x28 images\n",
        "\n",
        "# Select device\n",
        "device = torch.device('cuda' if torch.cuda.is_available() else 'cpu')\n",
        "print(f'Using device: {device}')"
      ]
    },
    {
      "cell_type": "markdown",
      "source": [
        "## Load data"
      ],
      "metadata": {
        "id": "BJW8UhO6sXxc"
      }
    },
    {
      "cell_type": "code",
      "source": [
        "# For reproducibility\n",
        "torch.manual_seed(42)\n",
        "np.random.seed(42)\n",
        "\n",
        "# LOAD DATA:\n",
        "(x_train, y_train), (x_test, y_test) = mnist.load_data()\n",
        "\n",
        "print(\"x_train.shape = \", x_train.shape)\n",
        "print(\"x_test.shape = \", x_test.shape)\n",
        "\n",
        "# We consider only classes 0 and 1\n",
        "x_train2 = x_train[(y_train == 0) | (y_train == 1)]\n",
        "y_train2 = y_train[(y_train == 0) | (y_train == 1)]\n",
        "\n",
        "x_test2 = x_test[(y_test == 0) | (y_test == 1)]\n",
        "y_test2 = y_test[(y_test == 0) | (y_test == 1)]\n",
        "\n",
        "# nr of samples, size  of images\n",
        "n_samples_train, h, w = x_train2.shape\n",
        "n_samples_test, _, _ = x_test2.shape\n",
        "print(\"images of size: h= \", h, \", w = \", w)\n",
        "\n",
        "# reshape nr_samples * \"vectorized image\"\n",
        "num_features = h*w\n",
        "x_train2 = x_train2.reshape((-1, h*w))\n",
        "x_test2 = x_test2.reshape((-1, h*w))\n",
        "\n",
        "print(\"x_train2.shape = \", x_train2.shape)\n",
        "print(\"x_test2.shape = \", x_test2.shape)\n",
        "\n",
        "# normalizing data by number of pixels\n",
        "x_train2 = x_train2 / 255\n",
        "x_test2 = x_test2 / 255"
      ],
      "metadata": {
        "colab": {
          "base_uri": "https://localhost:8080/"
        },
        "id": "TgWEKOy_sGIX",
        "outputId": "243ad278-612d-40a0-bf36-100877940099"
      },
      "execution_count": 73,
      "outputs": [
        {
          "output_type": "stream",
          "name": "stdout",
          "text": [
            "x_train.shape =  (60000, 28, 28)\n",
            "x_test.shape =  (10000, 28, 28)\n",
            "images of size: h=  28 , w =  28\n",
            "x_train2.shape =  (12665, 784)\n",
            "x_test2.shape =  (2115, 784)\n"
          ]
        }
      ]
    },
    {
      "cell_type": "markdown",
      "source": [
        "# Q5.1 (10 pts)\n",
        "\n",
        "* Above we implemented logistic regression as the following  network with 1  neuron:\n",
        "```python\n",
        "model_lr_torch = nn.Sequential(\n",
        "    nn.Linear(num_features,1),\n",
        "    nn.Sigmoid()).to(device)\n",
        "```\n",
        "* **Task** Reimplement  the model using:\n",
        "```python\n",
        "model_lr_torch_v2 = nn.Sequential(\n",
        "    nn.Linear(num_features,1)    \n",
        "```\n",
        "* Since the output is now a raw real number (logit), adjust the loss function accordingly. Compare the results with those from `model_lr_torch`\n",
        "* *Hint*: When computing $\\log(s)$ in practice, to avoid numerical issues (such as $\\log(0)$), add a small constant and compute  $\\log(s+\\textrm{eps})$ instead. A recommended value is: `eps=1e-7`"
      ],
      "metadata": {
        "id": "0VKF2tQesNls"
      }
    },
    {
      "cell_type": "code",
      "source": [
        "# MODELS WITH LOGIT LINK:\n",
        "model_lr_torch = nn.Sequential(\n",
        "    nn.Linear(num_features, 1),\n",
        "    nn.Sigmoid())\n",
        "\n",
        "# MODELS WITH ONLY LINEAR LINK:\n",
        "model_lr_torch_v2 = nn.Sequential(\n",
        "  nn.Linear(num_features, 1),\n",
        ")"
      ],
      "metadata": {
        "id": "d7_CysRvseCb"
      },
      "execution_count": 3,
      "outputs": []
    },
    {
      "cell_type": "code",
      "source": [
        "# TRAINER OF MODEL\n",
        "class MyTorchClassifierTrainer:\n",
        "\n",
        "    def __init__(self, model, dataloader=None, lr=0.01, num_epochs=150, loss_function=nn.BCELoss()):\n",
        "        self.model = model\n",
        "        self.dataloader = dataloader\n",
        "        self.num_epochs = num_epochs\n",
        "        self.lr = lr\n",
        "        self.loss_history = []\n",
        "        self.loss_function = loss_function\n",
        "\n",
        "    def create_dataloader(self, x_train, y_train, batch_size=128):\n",
        "        x_train_tensor = torch.tensor(x_train, dtype=torch.float32)\n",
        "        y_train_tensor = torch.tensor(y_train, dtype=torch.float32).unsqueeze(1)\n",
        "\n",
        "        dataset = TensorDataset(x_train_tensor, y_train_tensor)\n",
        "        dataloader = DataLoader(dataset, batch_size=batch_size, shuffle=True)\n",
        "        self.dataloader = dataloader\n",
        "\n",
        "    def fit(self, verbose=True):\n",
        "        print(f\"TRAINING MODEL... \")\n",
        "\n",
        "        optimizer = optim.Adam(self.model.parameters(), lr=self.lr)\n",
        "\n",
        "        loss_history = []\n",
        "\n",
        "        for epoch in range(self.num_epochs):\n",
        "\n",
        "            self.model.train()\n",
        "            epoch_loss = 0.0\n",
        "\n",
        "            for batch_X, batch_y in self.dataloader:\n",
        "                # Zero the gradients\n",
        "                optimizer.zero_grad()\n",
        "                # Forward pass\n",
        "                output_probs = self.model(batch_X)\n",
        "\n",
        "                loss = self.loss_function(output_probs, batch_y)\n",
        "\n",
        "                # Backward pass and update\n",
        "                loss.backward()\n",
        "                optimizer.step()\n",
        "\n",
        "                epoch_loss += loss.item()\n",
        "\n",
        "            average_loss = epoch_loss / len(self.dataloader)\n",
        "            loss_history.append(average_loss)\n",
        "            if verbose:\n",
        "                if (epoch + 1) % 20 == 0:\n",
        "                    print(f'Epoch [{epoch + 1}/{self.num_epochs}], Loss: {average_loss:.6f}')\n",
        "\n",
        "    def predict(self, x_test):\n",
        "        self.model.eval()\n",
        "        x_test_tensor = torch.tensor(x_test, dtype=torch.float32)\n",
        "        with torch.no_grad():\n",
        "          predictions = self.model(x_test_tensor)\n",
        "        return predictions"
      ],
      "metadata": {
        "id": "sYFA4CqHsiIa"
      },
      "execution_count": 6,
      "outputs": []
    },
    {
      "cell_type": "code",
      "source": [
        "# TRAINING MODEL model_lr_torch\n",
        "# Creating trainer object for model_lr_torch (model with nn.Sigmoid())\n",
        "model_lr_torch_training = MyTorchClassifierTrainer(model=model_lr_torch)\n",
        "\n",
        "# Create a TensorDataset and DataLoader for model_lr_torch (the same dataloader will be used for the second model)\n",
        "model_lr_torch_training.create_dataloader(x_train2, y_train2)\n",
        "dataloader = model_lr_torch_training.dataloader\n",
        "\n",
        "# TRAINING model_lr_torch\n",
        "start_time = datetime.now()\n",
        "model_lr_torch_training.fit()\n",
        "time_elapsed = datetime.now() - start_time\n",
        "print('TRAINING TIME (hh:mm:ss.ms) {}'.format(time_elapsed))"
      ],
      "metadata": {
        "colab": {
          "base_uri": "https://localhost:8080/"
        },
        "id": "YQbnmA0Fsn2c",
        "outputId": "9199ab43-c8fe-4f52-d501-9e31f6b1e55d"
      },
      "execution_count": 7,
      "outputs": [
        {
          "output_type": "stream",
          "name": "stdout",
          "text": [
            "TRAINING MODEL... \n",
            "Epoch [20/150], Loss: 0.000648\n",
            "Epoch [40/150], Loss: 0.000171\n",
            "Epoch [60/150], Loss: 0.000059\n",
            "Epoch [80/150], Loss: 0.000023\n",
            "Epoch [100/150], Loss: 0.000049\n",
            "Epoch [120/150], Loss: 0.000003\n",
            "Epoch [140/150], Loss: 0.000002\n",
            "TRAINING TIME (hh:mm:ss.ms) 0:00:39.431948\n"
          ]
        }
      ]
    },
    {
      "cell_type": "code",
      "source": [
        "# TRAINING MODEL model_lr_torch_v2\n",
        "# Creating trainer object for model_lr_torch_v2 with previous used dataloader\n",
        "model_lr_torch_v2_training = MyTorchClassifierTrainer(model=model_lr_torch_v2,\n",
        "                                                      dataloader=dataloader,\n",
        "                                                      loss_function=nn.BCEWithLogitsLoss()) # modified loss function\n",
        "\n",
        "# TRAINING model_lr_torch_v2\n",
        "start_time = datetime.now()\n",
        "model_lr_torch_v2_training.fit()\n",
        "time_elapsed = datetime.now() - start_time\n",
        "print('TRAINING TIME (hh:mm:ss.ms) {}'.format(time_elapsed))"
      ],
      "metadata": {
        "colab": {
          "base_uri": "https://localhost:8080/"
        },
        "id": "I8y4fO4StcMb",
        "outputId": "c56425ec-e833-41b5-d7c2-0389391ad1d9"
      },
      "execution_count": 8,
      "outputs": [
        {
          "output_type": "stream",
          "name": "stdout",
          "text": [
            "TRAINING MODEL... \n",
            "Epoch [20/150], Loss: 0.000629\n",
            "Epoch [40/150], Loss: 0.000167\n",
            "Epoch [60/150], Loss: 0.000059\n",
            "Epoch [80/150], Loss: 0.000025\n",
            "Epoch [100/150], Loss: 0.000009\n",
            "Epoch [120/150], Loss: 0.000004\n",
            "Epoch [140/150], Loss: 0.000001\n",
            "TRAINING TIME (hh:mm:ss.ms) 0:00:31.117820\n"
          ]
        }
      ]
    },
    {
      "cell_type": "code",
      "source": [
        "# COMPARISON OF ACCURACY\n",
        "x_test2_pred_output_probs = model_lr_torch_training.predict(x_test2)\n",
        "x_test2_pred_output_probs_v2 = model_lr_torch_v2_training.predict(x_test2)\n",
        "\n",
        "x_test2_pred_output_classes = (x_test2_pred_output_probs > 0.5)\n",
        "x_test2_pred_output_classes_v2 = (nn.Sigmoid()(x_test2_pred_output_probs_v2) > 0.5)\n",
        "# model_lr_torch_v2 - real predictions, therefore we use nn.Sigmoid() functions on predictions\n",
        "\n",
        "print(f\"Predictions of first 5 pictures from model_lr_torch: {x_test2_pred_output_probs.flatten()[1:5]}\")\n",
        "print(f\"Predictions of first 5 pictures from model_lr_torch_v2: {x_test2_pred_output_probs_v2.flatten()[1:5]}\")\n",
        "\n",
        "print(\" \")\n",
        "\n",
        "print(\"model_lr_torch (classification of 0 and 1 digits): accuracy  =  \\t\",\n",
        "      accuracy_score(x_test2_pred_output_classes, y_test2))\n",
        "print(\"model_lr_torch_v2 (classification of 0 and 1 digits): accuracy  =  \\t\",\n",
        "      accuracy_score(x_test2_pred_output_classes_v2, y_test2))"
      ],
      "metadata": {
        "colab": {
          "base_uri": "https://localhost:8080/"
        },
        "id": "TaZV6NHEtzk0",
        "outputId": "a3626e6c-7043-4d4b-cbcf-a60faa85efce"
      },
      "execution_count": 17,
      "outputs": [
        {
          "output_type": "stream",
          "name": "stdout",
          "text": [
            "Predictions of first 5 pictures from model_lr_torch: tensor([9.7863e-19, 1.0000e+00, 6.8066e-18, 1.7636e-16])\n",
            "Predictions of first 5 pictures from model_lr_torch_v2: tensor([-40.8445,  21.3824, -39.4365, -35.9686])\n",
            " \n",
            "model_lr_torch (classification of 0 and 1 digits): accuracy  =  \t 0.9995271867612293\n",
            "model_lr_torch_v2 (classification of 0 and 1 digits): accuracy  =  \t 0.9995271867612293\n"
          ]
        }
      ]
    },
    {
      "cell_type": "code",
      "source": [
        "# COMPARISON OF BCE OF MODELS (computing by hand):\n",
        "# BCE = -mean( y*log(prob) + (1-y)*log(1-prob))\n",
        "eps = 1e-7\n",
        "y_test2_tensor = torch.tensor(y_test2, dtype=torch.float32).unsqueeze(1)  # shape (N,1)\n",
        "\n",
        "BCE_torch = -torch.mean(\n",
        "    y_test2_tensor * torch.log(x_test2_pred_output_probs + eps) +\n",
        "    (1 - y_test2_tensor) * torch.log(1 - x_test2_pred_output_probs + eps)\n",
        ")\n",
        "\n",
        "# torch.sigmoid is applied on predictions from model_lr_torch_v2\n",
        "BCE_torch_v2 = -torch.mean(\n",
        "    y_test2_tensor * torch.log(torch.sigmoid(x_test2_pred_output_probs_v2) + eps) +\n",
        "    (1 - y_test2_tensor) * torch.log(1 - torch.sigmoid(x_test2_pred_output_probs_v2) + eps)\n",
        ")\n",
        "print(\"PyTorch BCE on x_test2 - model_lr_torch = \", BCE_torch.item())\n",
        "print(\"PyTorch BCE on x_test2 - model_lr_torch_v2 = \", BCE_torch_v2.item())"
      ],
      "metadata": {
        "colab": {
          "base_uri": "https://localhost:8080/"
        },
        "id": "Fv_OvLP-uP4G",
        "outputId": "66da6de4-9324-4a4a-b6bc-597a6bb52c48"
      },
      "execution_count": 21,
      "outputs": [
        {
          "output_type": "stream",
          "name": "stdout",
          "text": [
            "PyTorch BCE on x_test2 - model_lr_torch =  0.0022953697480261326\n",
            "PyTorch BCE on x_test2 - model_lr_torch_v2 =  0.0026996550150215626\n"
          ]
        }
      ]
    },
    {
      "cell_type": "code",
      "source": [
        "# PLOT OF MODELS COEFFICIENTS AND BIAS:\n",
        "nn_coef = model_lr_torch[0].weight.detach().cpu().numpy().reshape(-1)\n",
        "nn_bias = model_lr_torch[0].bias.detach().cpu().numpy()[0]\n",
        "\n",
        "nn_coef_v2 = model_lr_torch_v2[0].weight.detach().cpu().numpy().reshape(-1)\n",
        "nn_bias_v2 = model_lr_torch_v2[0].bias.detach().cpu().numpy()[0]\n",
        "\n",
        "plt.figure(figsize=(14, 6), dpi=80, facecolor='w', edgecolor='k')\n",
        "plt.plot(np.arange(h*w), nn_coef, label=\"NN coef\")\n",
        "plt.plot(np.arange(h*w), nn_coef_v2, label=\"NN_v2 coef\")\n",
        "plt.title(\"NN bias=\"+str(np.round(nn_bias, 3)) + \",  NN v2 bias=\"+str(np.round(nn_bias_v2, 3)))\n",
        "\n",
        "print(\"Sum(|nn_coef|) LC: \", np.sum(np.abs(nn_coef)))\n",
        "print(\"Sum(|nn_coef_v2|) LC: \", np.sum(np.abs(nn_coef_v2)))\n",
        "\n",
        "plt.legend()\n",
        "plt.show()"
      ],
      "metadata": {
        "colab": {
          "base_uri": "https://localhost:8080/",
          "height": 473
        },
        "id": "Z0w_BH-3v4FM",
        "outputId": "e9b7658b-e581-447b-ab26-c4c33ade4cf6"
      },
      "execution_count": 22,
      "outputs": [
        {
          "output_type": "stream",
          "name": "stdout",
          "text": [
            "Sum(|nn_coef|) LC:  556.8666\n",
            "Sum(|nn_coef_v2|) LC:  560.5941\n"
          ]
        },
        {
          "output_type": "display_data",
          "data": {
            "text/plain": [
              "<Figure size 1120x480 with 1 Axes>"
            ],
            "image/png": "[encoded data removed]"
          },
          "metadata": {}
        }
      ]
    },
    {
      "cell_type": "code",
      "source": [
        "# PLOT OF MODELS COEFFICIENTS IN GRAY SCALE:\n",
        "f = plt.figure(figsize=(10, 10))\n",
        "\n",
        "ax1 = f.add_subplot(1, 2, 1)\n",
        "ax1.imshow(nn_coef.reshape(h, w), cmap='gray')\n",
        "ax1.set_title(\"model_lr_torch coefficients\")\n",
        "\n",
        "ax2 = f.add_subplot(1, 2, 2)\n",
        "ax2.imshow(nn_coef_v2.reshape(h, w), cmap='gray')\n",
        "ax2.set_title(\"model_lr_torch_v2 coefficients\")\n",
        "\n",
        "plt.show()"
      ],
      "metadata": {
        "colab": {
          "base_uri": "https://localhost:8080/",
          "height": 435
        },
        "id": "aZk01-WPv-uS",
        "outputId": "eee836b1-922a-4f1a-9a9a-5275d062f015"
      },
      "execution_count": 23,
      "outputs": [
        {
          "output_type": "display_data",
          "data": {
            "text/plain": [
              "<Figure size 1000x1000 with 2 Axes>"
            ],
            "image/png": "[encoded data removed]"
          },
          "metadata": {}
        }
      ]
    },
    {
      "cell_type": "markdown",
      "source": [
        "# Q5.2 (10 pts)\n",
        "**Q5.2 STARTS**\n",
        "\n",
        "* Implement a neural network with the same architecture as `model_4digits_torch_2_layers, but without using `torch.nn` modules\n",
        "\n",
        "* It is convenient first to augment data -- currently we have 784 features, we will add one extra column (first one) with fixed value of 1:\n",
        "\n",
        "**More details:**"
      ],
      "metadata": {
        "id": "gt7cqTlIwHBC"
      }
    },
    {
      "cell_type": "code",
      "source": [
        "num_classes = 4 # CLASSES 0, 1, 2, 3\n",
        "\n",
        "model_4digits_torch_2_layers = nn.Sequential(\n",
        "    nn.Linear(num_features, 128), #num_features = 28x28 = 784\n",
        "    nn.ReLU(),\n",
        "    nn.Linear(128, num_classes),\n",
        "    nn.Softmax(dim=1)  # Output probabilities\n",
        ").to(device)"
      ],
      "metadata": {
        "id": "dBEt7IElwVww"
      },
      "execution_count": 70,
      "outputs": []
    },
    {
      "cell_type": "markdown",
      "source": [
        "*  The original input vector has 784 features, denote augmented input as $\\mathbf{x}_{\\text{aug}}$:\n",
        "* $$\n",
        "\\mathbf{x} =\n",
        "\\begin{bmatrix}\n",
        "x_1 \\\\ x_2 \\\\ \\vdots \\\\ x_{784}\n",
        "\\end{bmatrix} \\in \\mathbb{R}^{784},\n",
        "\\qquad\n",
        "\\mathbf{x}_{\\text{aug}} =\n",
        "\\begin{bmatrix}\n",
        "1 \\\\ x_1 \\\\ x_2 \\\\ \\vdots \\\\ x_{784}\n",
        "\\end{bmatrix} \\in \\mathbb{R}^{785}.\n",
        "$$\n",
        "* Define the first weight matrix\n",
        "$\n",
        "\\mathbf{W}_1 \\in \\mathbb{R}^{785 \\times 128}.\n",
        "$\n",
        "*Compute the hidden representation using the ReLU activation:\n",
        "$$\n",
        "\\mathbf{H} = \\operatorname{ReLU}\\left( \\mathbf{x}_{\\text{aug}}^\\top \\mathbf{W}_1 \\right).\n",
        "$$\n",
        "* **Hint:** Use `torch.relu` to perform the ReLU operation element-wise.\n",
        "* Next, to incorporate the bias for the hidden-to-output layer, augment the hidden representation by prepending 1. Denote this augmented hidden representation by\n",
        "$\n",
        "\\mathbf{H}_{\\text{aug}} \\in \\mathbb{R}^{129}\\quad (\\text{since } 128+1 = 129).\n",
        "$\n",
        "* Define the second weight matrix\n",
        "$$\n",
        "\\mathbf{W}_2 \\in \\mathbb{R}^{129 \\times 4}.\n",
        "$$\n",
        "* Compute the output logits as follows:\n",
        "$$\n",
        "\\mathbf{y}_{\\text{logits}} = \\mathbf{H}_{\\text{aug}}^\\top \\mathbf{W}_2.\n",
        "$$\n",
        "Finally, obtain the class probabilities by applying the softmax function:\n",
        "$$\n",
        "\\mathbf{y}_{\\text{probs}} = \\operatorname{softmax}\\left(\\mathbf{y}_{\\text{logits}}\\right).\n",
        "$$\n",
        "* Your **task** is to implement this network using only `PyTorch` tensor operations (i.e., matrix multiplications) without any `torch.nn` layers. Augment the input data as described, define and initialize the matrices ($\\textbf{W}$ for weights and $\\textbf{H}$ for the hidden representation) properly, compute the forward pass using `torch.relu` for the activation, and use an optimizer (e.g., `torch.optim.Adam` to update the weight matrices during training on a dataset with one-hot encoded targets.\n",
        "* Below a template for solution is written, \"just\" write function `forward()`\n",
        "\n"
      ],
      "metadata": {
        "id": "sqanlibqxFLX"
      }
    },
    {
      "cell_type": "code",
      "source": [
        "x_trainM, y_trainM = x_train, y_train\n",
        "x_testM, y_testM = x_test, y_test\n",
        "\n",
        "# CLASSES 0, 1, 2, 3\n",
        "x_trainM, y_trainM = x_train[y_train <= 3], y_train[y_train <= 3]\n",
        "x_testM, y_testM = x_test[y_test <= 3], y_test[y_test <= 3]\n",
        "\n",
        "\n",
        "# nr of samples, size  of images\n",
        "n_samples_trainM, h, w = x_trainM.shape\n",
        "n_samples_testM, _, _ = x_testM.shape\n",
        "print(\"images of size: h= \", h, \", w = \", w)\n",
        "\n",
        "num_features = h*w\n",
        "\n",
        "x_trainM = x_trainM.reshape((-1, h*w))\n",
        "x_testM = x_testM.reshape((-1, h*w))\n",
        "\n",
        "print(\"x_trainM.shape = \", x_trainM.shape)\n",
        "print(\"x_testM.shape = \", x_testM.shape)\n",
        "\n",
        "# normalizing\n",
        "x_trainM = x_trainM / 255\n",
        "x_testM = x_testM / 255"
      ],
      "metadata": {
        "colab": {
          "base_uri": "https://localhost:8080/"
        },
        "id": "46xMp2JfweQn",
        "outputId": "224dc89f-12cd-4314-8966-8885f739829d"
      },
      "execution_count": 74,
      "outputs": [
        {
          "output_type": "stream",
          "name": "stdout",
          "text": [
            "images of size: h=  28 , w =  28\n",
            "x_trainM.shape =  (24754, 784)\n",
            "x_testM.shape =  (4157, 784)\n"
          ]
        }
      ]
    },
    {
      "cell_type": "code",
      "source": [
        "def categorical_crossentropy(predictions, targets, eps=1e-7):\n",
        "    # predictions are probabilities, targets are one-hot encoded\n",
        "    return -torch.mean(torch.sum(targets * torch.log(predictions + eps), dim=1))"
      ],
      "metadata": {
        "id": "erm7MhZ30NIa"
      },
      "execution_count": 75,
      "outputs": []
    },
    {
      "cell_type": "code",
      "source": [
        "class MyTwoLayerNNClassifier:\n",
        "\n",
        "    def __init__(self, first_layer_size, n_classes, lr=0.001, n_epochs=20, batch_size=16):\n",
        "        self.lr = lr\n",
        "        self.batch_size = batch_size\n",
        "        self.first_layer_size = first_layer_size\n",
        "        self.n_classes = n_classes\n",
        "        self.n_epochs = n_epochs\n",
        "        self.W1 = None\n",
        "        self.W2 = None\n",
        "\n",
        "    def forward(self, x_batch):\n",
        "        H = torch.matmul(x_batch, self.W1)  # 16x785, 785x128\n",
        "        H_relu = torch.relu(H)\n",
        "\n",
        "        # Augment H_relu by adding a column of ones at the beginning (for bias)\n",
        "        ones = torch.ones(H_relu.shape[0], 1)\n",
        "        H_aug = torch.cat((ones, H_relu), dim=1)  # 16 x 129\n",
        "\n",
        "        y_logis = torch.matmul(H_aug, self.W2)  # 16 x 129, 129 x 4\n",
        "        y_pred = torch.softmax(y_logis, dim=1)\n",
        "\n",
        "        return y_pred\n",
        "\n",
        "    def fit(self, x_train, y_train, verbose=True):\n",
        "        x_train_tensor = torch.tensor(x_train, dtype=torch.float32)\n",
        "        y_train_tensor = torch.tensor(y_train, dtype=torch.long)\n",
        "\n",
        "        ones_column = torch.ones(x_train_tensor.size(0), 1)\n",
        "\n",
        "        x_train_tensor_augmented = torch.cat((ones_column, x_train_tensor), dim=1)\n",
        "        y_train_one_hot = F.one_hot(y_train_tensor, num_classes=self.n_classes).float()\n",
        "\n",
        "        train_dataset_augmented = TensorDataset(x_train_tensor_augmented, y_train_one_hot)\n",
        "        train_loader_augmented = DataLoader(train_dataset_augmented, batch_size=self.batch_size, shuffle=True)\n",
        "\n",
        "        self.W1 = torch.randn(x_train_tensor.size(1) + 1, self.first_layer_size, requires_grad=True)\n",
        "        self.W2 = torch.randn(self.first_layer_size + 1, self.n_classes, requires_grad=True)\n",
        "\n",
        "        optimizer = optim.Adam([self.W1, self.W2], lr=self.lr)\n",
        "\n",
        "        print(f\"TRAINING MODEL... \")\n",
        "\n",
        "        for epoch in range(self.n_epochs):\n",
        "            running_loss = 0.0\n",
        "\n",
        "            for batch_x, batch_y in train_loader_augmented:\n",
        "                optimizer.zero_grad()\n",
        "                preds_batch = self.forward(batch_x)\n",
        "                loss = categorical_crossentropy(preds_batch, batch_y)\n",
        "                loss.backward()\n",
        "                optimizer.step()\n",
        "                running_loss += loss.item() * batch_x.size(0)\n",
        "            epoch_loss = running_loss / len(train_dataset_augmented)\n",
        "\n",
        "            if verbose:\n",
        "                print(f\"Epoch {epoch + 1}/{self.n_epochs}, Loss: {epoch_loss:.6f}\")\n",
        "\n",
        "    def predict(self, x_test):\n",
        "        x_test_tensor = torch.tensor(x_test, dtype=torch.float32)\n",
        "        x_test_tensor_aug = torch.cat((torch.ones(x_test_tensor.size(0), 1), x_test_tensor), dim=1)\n",
        "\n",
        "        with torch.no_grad():\n",
        "          preds_test = self.forward(x_test_tensor_aug)\n",
        "          predicted_classes = preds_test.argmax(dim=1)\n",
        "        return predicted_classes"
      ],
      "metadata": {
        "id": "QNXsJQs1wuI-"
      },
      "execution_count": 76,
      "outputs": []
    },
    {
      "cell_type": "code",
      "source": [
        "# TRAINING\n",
        "model = MyTwoLayerNNClassifier(first_layer_size=128, n_classes=4, n_epochs=20)\n",
        "\n",
        "start_time = datetime.now()\n",
        "model.fit(x_trainM, y_trainM)\n",
        "time_elapsed = datetime.now() - start_time\n",
        "print('TRAINING TIME (hh:mm:ss.ms) {}'.format(time_elapsed))"
      ],
      "metadata": {
        "colab": {
          "base_uri": "https://localhost:8080/"
        },
        "id": "pf_qdTfFyu4U",
        "outputId": "4bda64ce-f556-424d-ec6d-480d644b113e"
      },
      "execution_count": 43,
      "outputs": [
        {
          "output_type": "stream",
          "name": "stdout",
          "text": [
            "TRAINING MODEL... \n",
            "Epoch 1/20, Loss: 1.470866\n",
            "Epoch 2/20, Loss: 0.580492\n",
            "Epoch 3/20, Loss: 0.428717\n",
            "Epoch 4/20, Loss: 0.360060\n",
            "Epoch 5/20, Loss: 0.313312\n",
            "Epoch 6/20, Loss: 0.265896\n",
            "Epoch 7/20, Loss: 0.236152\n",
            "Epoch 8/20, Loss: 0.235719\n",
            "Epoch 9/20, Loss: 0.214863\n",
            "Epoch 10/20, Loss: 0.190017\n",
            "Epoch 11/20, Loss: 0.177643\n",
            "Epoch 12/20, Loss: 0.162651\n",
            "Epoch 13/20, Loss: 0.141571\n",
            "Epoch 14/20, Loss: 0.134739\n",
            "Epoch 15/20, Loss: 0.130756\n",
            "Epoch 16/20, Loss: 0.116043\n",
            "Epoch 17/20, Loss: 0.105383\n",
            "Epoch 18/20, Loss: 0.101693\n",
            "Epoch 19/20, Loss: 0.096155\n",
            "Epoch 20/20, Loss: 0.096007\n",
            "TRAINING TIME (hh:mm:ss.ms) 0:01:48.507706\n"
          ]
        }
      ]
    },
    {
      "cell_type": "code",
      "source": [
        "# CHECK ACCURACY ON TEST SET\n",
        "predicted_classes = model.predict(x_testM)\n",
        "\n",
        "print(\"W1, W2, accuracy  = \\t\", accuracy_score(predicted_classes,y_testM),\n",
        "      \" correctly cl. cases=\", np.sum(predicted_classes.detach().numpy() == y_testM))"
      ],
      "metadata": {
        "colab": {
          "base_uri": "https://localhost:8080/"
        },
        "id": "STr0cegb0YKA",
        "outputId": "f209d8f4-043d-4e49-c42d-999d345e174c"
      },
      "execution_count": 44,
      "outputs": [
        {
          "output_type": "stream",
          "name": "stdout",
          "text": [
            "W1, W2, accuracy  = \t 0.9886937695453452  correctly cl. cases= 4110\n"
          ]
        }
      ]
    },
    {
      "cell_type": "markdown",
      "source": [
        "# Q5.3\n",
        "**Q5.3 STARTS**\n",
        "* In this task you will classify `Wine dataset`, which is a 3-class dataset (wines from 3 different cultivars) comprising 178 samples with 13 chemical features each.\n",
        "* First, let us read in dataset, split it into train and test set, and transform it to torch:"
      ],
      "metadata": {
        "id": "aKX380f023c7"
      }
    },
    {
      "cell_type": "markdown",
      "source": [
        "* **TASK** Create a simple three-layer network with the following architecture:"
      ],
      "metadata": {
        "id": "LxFhg48w4HbX"
      }
    },
    {
      "cell_type": "markdown",
      "source": [
        "![image.png](data:image/png;base64,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)"
      ],
      "metadata": {
        "id": "EB3XxQBV4IXM"
      }
    },
    {
      "cell_type": "markdown",
      "source": [
        "* Train the model with `Adam` optimizer with `lr=0.01` for `n_epochs=500`.\n",
        "* Compute final accuracy. Check if decreasing batch size (e.g., `batch_size=16`) improves the results."
      ],
      "metadata": {
        "id": "dcMPLoYO4UB8"
      }
    },
    {
      "cell_type": "code",
      "source": [
        "# Load Wine dataset: 178 samples, 13 features, 3 classes.\n",
        "wine = load_wine()\n",
        "X = wine.data\n",
        "y = wine.target\n",
        "\n",
        "num_classes = 3\n",
        "\n",
        "# Split into train/test (80%/20%) with stratification.\n",
        "# keeping the same percentage of each class in train/test set\n",
        "X_train, X_test, y_train, y_test = train_test_split(\n",
        "    X, y, test_size=0.2, random_state=42, stratify=y)\n",
        "\n",
        "print(f\"Original y_test: {y_test}\")\n",
        "\n",
        "# Convert data to torch tensors.\n",
        "X_train_tensor = torch.tensor(X_train, dtype=torch.float32)\n",
        "X_test_tensor = torch.tensor(X_test, dtype=torch.float32)\n",
        "y_train_tensor = torch.tensor(y_train, dtype=torch.long)\n",
        "y_test_tensor = torch.tensor(y_test, dtype=torch.long)\n",
        "\n",
        "# One-hot encode target labels (for 3 classes).\n",
        "y_train_tensor = F.one_hot(y_train_tensor, num_classes=3).float()\n",
        "y_test_tensor = F.one_hot(y_test_tensor, num_classes=3).float()"
      ],
      "metadata": {
        "colab": {
          "base_uri": "https://localhost:8080/"
        },
        "id": "eQCfGJeo2-jx",
        "outputId": "1688ea72-fbfd-47f3-a0fb-0aff8831e58e"
      },
      "execution_count": 50,
      "outputs": [
        {
          "output_type": "stream",
          "name": "stdout",
          "text": [
            "Original y_test: [0 2 0 1 1 0 0 1 1 2 1 2 0 2 0 1 1 0 1 0 1 1 0 0 1 1 0 2 1 2 0 2 1 2 2 2]\n"
          ]
        }
      ]
    },
    {
      "cell_type": "code",
      "source": [
        "def create_dataloader(dataset, batch_size):\n",
        "    dataloader = DataLoader(dataset, batch_size=batch_size, shuffle=True)\n",
        "    return dataloader\n",
        "\n",
        "\n",
        "def accuracy_and_predictions_model(model, x_test_tensor=X_test_tensor, Y_test=y_test):\n",
        "    model.eval()\n",
        "    with torch.no_grad():\n",
        "        test_outputs = model(x_test_tensor.to(device))\n",
        "        # Get predicted classes by taking argmax\n",
        "        torch_preds = test_outputs.argmax(dim=1).cpu().numpy()\n",
        "        print(f\"predictions of y_test: {torch_preds}\")\n",
        "\n",
        "    # Accuracy:\n",
        "    print(\"accuracy  = \\t\\t\", accuracy_score(torch_preds, Y_test),\n",
        "          \"correctly cl. cases=\", np.sum(torch_preds == Y_test), \" out of \", len(Y_test))\n",
        "\n",
        "    return accuracy_score(torch_preds, Y_test)"
      ],
      "metadata": {
        "id": "cHMbJG-L3-zd"
      },
      "execution_count": 51,
      "outputs": []
    },
    {
      "cell_type": "code",
      "source": [
        "# Model 1 - training with batch_size = 128\n",
        "\n",
        "train_dataset = TensorDataset(X_train_tensor, y_train_tensor)\n",
        "train_loader = create_dataloader(train_dataset, batch_size=128)\n",
        "\n",
        "WineClassifer_torch_model = nn.Sequential(\n",
        "    nn.Linear(13, 8),\n",
        "    nn.ReLU(),\n",
        "    nn.Linear(8, 5),\n",
        "    nn.ReLU(),\n",
        "    nn.Linear(5, num_classes),\n",
        "    nn.Softmax(dim=1)\n",
        ").to(device)"
      ],
      "metadata": {
        "id": "39Q1EMgw3uCo"
      },
      "execution_count": 59,
      "outputs": []
    },
    {
      "cell_type": "code",
      "source": [
        "print(\"MODEL 1 (batch_size=128)\")\n",
        "\n",
        "training1 = MyTorchClassifierTrainer(model=WineClassifer_torch_model,\n",
        "                                     dataloader=train_loader,\n",
        "                                     num_epochs=500,\n",
        "                                     loss_function=categorical_crossentropy)\n",
        "\n",
        "start_time = time.time()\n",
        "training1.fit(verbose=True)\n",
        "print(\"PyTorch training took {:.2f} seconds\".format(time.time() - start_time))\n",
        "\n",
        "print(\" \")\n",
        "\n",
        "print(f\"Original y_test: {y_test}\")\n",
        "accuracy_and_predictions_model(WineClassifer_torch_model)"
      ],
      "metadata": {
        "colab": {
          "base_uri": "https://localhost:8080/"
        },
        "id": "uTDKH6dD4bip",
        "outputId": "1c7d1ca9-40d4-40dc-d793-a8052103ed21"
      },
      "execution_count": 63,
      "outputs": [
        {
          "output_type": "stream",
          "name": "stdout",
          "text": [
            "MODEL 1 (batch_size=128)\n",
            "TRAINING MODEL... \n",
            "Epoch [20/500], Loss: 5.074140\n",
            "Epoch [40/500], Loss: 5.023195\n",
            "Epoch [60/500], Loss: 5.528792\n",
            "Epoch [80/500], Loss: 5.016283\n",
            "Epoch [100/500], Loss: 5.024194\n",
            "Epoch [120/500], Loss: 7.072957\n",
            "Epoch [140/500], Loss: 4.501801\n",
            "Epoch [160/500], Loss: 3.474933\n",
            "Epoch [180/500], Loss: 5.021167\n",
            "Epoch [200/500], Loss: 7.062188\n",
            "Epoch [220/500], Loss: 5.011992\n",
            "Epoch [240/500], Loss: 5.012181\n",
            "Epoch [260/500], Loss: 5.024222\n",
            "Epoch [280/500], Loss: 5.046051\n",
            "Epoch [300/500], Loss: 0.979928\n",
            "Epoch [320/500], Loss: 0.739758\n",
            "Epoch [340/500], Loss: 0.625396\n",
            "Epoch [360/500], Loss: 0.595020\n",
            "Epoch [380/500], Loss: 0.565264\n",
            "Epoch [400/500], Loss: 0.567987\n",
            "Epoch [420/500], Loss: 0.500760\n",
            "Epoch [440/500], Loss: 0.494637\n",
            "Epoch [460/500], Loss: 0.490343\n",
            "Epoch [480/500], Loss: 0.465432\n",
            "Epoch [500/500], Loss: 0.645066\n",
            "PyTorch training took 2.45 seconds\n",
            " \n",
            "Original y_test: [0 2 0 1 1 0 0 1 1 2 1 2 0 2 0 1 1 0 1 0 1 1 0 0 1 1 0 2 1 2 0 2 1 2 2 2]\n",
            "predictions of y_test: [2 2 0 1 0 2 2 1 0 2 1 2 2 2 2 1 1 0 0 2 1 2 0 2 1 1 2 2 0 2 2 2 1 2 2 2]\n",
            "accuracy  = \t\t 0.6111111111111112 correctly cl. cases= 22  out of  36\n"
          ]
        },
        {
          "output_type": "execute_result",
          "data": {
            "text/plain": [
              "0.6111111111111112"
            ]
          },
          "metadata": {},
          "execution_count": 63
        }
      ]
    },
    {
      "cell_type": "code",
      "source": [
        "# Model 2 - training with batch_size = 16\n",
        "\n",
        "train_loader2 = create_dataloader(train_dataset, batch_size=16)\n",
        "\n",
        "WineClassifer_torch_model2 = nn.Sequential(\n",
        "    nn.Linear(13, 8),\n",
        "    nn.ReLU(),\n",
        "    nn.Linear(8, 5),\n",
        "    nn.ReLU(),\n",
        "    nn.Linear(5, num_classes),\n",
        "    nn.Softmax(dim=1)\n",
        ").to(device)"
      ],
      "metadata": {
        "id": "CJOrVsfP40Q-"
      },
      "execution_count": 64,
      "outputs": []
    },
    {
      "cell_type": "code",
      "source": [
        "print(\"MODEL 2 (batch_size=16)\")\n",
        "\n",
        "training2 = MyTorchClassifierTrainer(model=WineClassifer_torch_model2,\n",
        "                                     dataloader=train_loader2,\n",
        "                                     num_epochs=500,\n",
        "                                     loss_function=categorical_crossentropy)\n",
        "\n",
        "start_time = time.time()\n",
        "training2.fit(verbose=True)\n",
        "print(\"PyTorch training took {:.2f} seconds\".format(time.time() - start_time))\n",
        "\n",
        "print(\" \")\n",
        "\n",
        "print(f\"Original y_test: {y_test}\")\n",
        "accuracy_and_predictions_model(WineClassifer_torch_model2)"
      ],
      "metadata": {
        "colab": {
          "base_uri": "https://localhost:8080/"
        },
        "id": "fEqzjLN648kK",
        "outputId": "e6f3a1a3-c964-47b4-a505-d361c9123c1c"
      },
      "execution_count": 65,
      "outputs": [
        {
          "output_type": "stream",
          "name": "stdout",
          "text": [
            "MODEL 2 (batch_size=16)\n",
            "TRAINING MODEL... \n",
            "Epoch [20/500], Loss: 0.823238\n",
            "Epoch [40/500], Loss: 0.568463\n",
            "Epoch [60/500], Loss: 0.581562\n",
            "Epoch [80/500], Loss: 0.324984\n",
            "Epoch [100/500], Loss: 0.173237\n",
            "Epoch [120/500], Loss: 0.178444\n",
            "Epoch [140/500], Loss: 0.120384\n",
            "Epoch [160/500], Loss: 0.106863\n",
            "Epoch [180/500], Loss: 0.114521\n",
            "Epoch [200/500], Loss: 0.108156\n",
            "Epoch [220/500], Loss: 0.226432\n",
            "Epoch [240/500], Loss: 0.074957\n",
            "Epoch [260/500], Loss: 0.085612\n",
            "Epoch [280/500], Loss: 0.095077\n",
            "Epoch [300/500], Loss: 0.088930\n",
            "Epoch [320/500], Loss: 0.111444\n",
            "Epoch [340/500], Loss: 0.060261\n",
            "Epoch [360/500], Loss: 0.242931\n",
            "Epoch [380/500], Loss: 0.080287\n",
            "Epoch [400/500], Loss: 0.068907\n",
            "Epoch [420/500], Loss: 0.554583\n",
            "Epoch [440/500], Loss: 0.064050\n",
            "Epoch [460/500], Loss: 0.070114\n",
            "Epoch [480/500], Loss: 0.102107\n",
            "Epoch [500/500], Loss: 0.080283\n",
            "PyTorch training took 7.49 seconds\n",
            " \n",
            "Original y_test: [0 2 0 1 1 0 0 1 1 2 1 2 0 2 0 1 1 0 1 0 1 1 0 0 1 1 0 2 1 2 0 2 1 2 2 2]\n",
            "predictions of y_test: [0 2 0 1 1 0 0 1 1 2 1 2 0 1 0 1 1 0 1 0 1 1 0 0 0 1 0 2 1 2 0 2 1 2 2 2]\n",
            "accuracy  = \t\t 0.9444444444444444 correctly cl. cases= 34  out of  36\n"
          ]
        },
        {
          "output_type": "execute_result",
          "data": {
            "text/plain": [
              "0.9444444444444444"
            ]
          },
          "metadata": {},
          "execution_count": 65
        }
      ]
    },
    {
      "cell_type": "code",
      "source": [
        "# Average results:\n",
        "\n",
        "K = 50\n",
        "acc_results = np.zeros((K, 2))\n",
        "\n",
        "for i in range(K):\n",
        "    print(f\"Id of Iteration {i}:\")\n",
        "\n",
        "    train_dataset = TensorDataset(X_train_tensor, y_train_tensor)\n",
        "    train_loader = create_dataloader(train_dataset, batch_size=128)\n",
        "\n",
        "    WineClassifer_torch_model = nn.Sequential(\n",
        "        nn.Linear(13, 8),\n",
        "        nn.ReLU(),\n",
        "        nn.Linear(8, 5),\n",
        "        nn.ReLU(),\n",
        "        nn.Linear(5, num_classes),\n",
        "        nn.Softmax(dim=1)\n",
        "    ).to(device)\n",
        "    print(\" \")\n",
        "    print(\"MODEL 1 (batch_size=128)\")\n",
        "\n",
        "    training1 = MyTorchClassifierTrainer(model=WineClassifer_torch_model,\n",
        "                                         dataloader=train_loader,\n",
        "                                         num_epochs=500,\n",
        "                                         loss_function=categorical_crossentropy)\n",
        "\n",
        "    training1.fit(verbose=False)\n",
        "\n",
        "    acc_1 = accuracy_and_predictions_model(WineClassifer_torch_model)\n",
        "\n",
        "    # Model 2 - training with batch_size = 16\n",
        "\n",
        "    train_loader2 = create_dataloader(train_dataset, batch_size=16)\n",
        "\n",
        "    WineClassifer_torch_model2 = nn.Sequential(\n",
        "        nn.Linear(13, 8),\n",
        "        nn.ReLU(),\n",
        "        nn.Linear(8, 5),\n",
        "        nn.ReLU(),\n",
        "        nn.Linear(5, num_classes),\n",
        "        nn.Softmax(dim=1)\n",
        "    ).to(device)\n",
        "\n",
        "    print(\" \")\n",
        "    print(\"MODEL 2 (batch_size=16)\")\n",
        "\n",
        "    training2 = MyTorchClassifierTrainer(model=WineClassifer_torch_model2,\n",
        "                                         dataloader=train_loader2,\n",
        "                                         num_epochs=500,\n",
        "                                         loss_function=categorical_crossentropy)\n",
        "\n",
        "    training2.fit(verbose=False)\n",
        "\n",
        "    acc_2 = accuracy_and_predictions_model(WineClassifer_torch_model2)\n",
        "\n",
        "    acc_results[i, :] = [acc_1, acc_2]"
      ],
      "metadata": {
        "colab": {
          "base_uri": "https://localhost:8080/"
        },
        "id": "VNyFJknE5Gd2",
        "outputId": "c544e80d-e0ab-4039-cec6-e0bb6c4591b5"
      },
      "execution_count": 66,
      "outputs": [
        {
          "output_type": "stream",
          "name": "stdout",
          "text": [
            "Id of Iteration 0:\n",
            " \n",
            "MODEL 1 (batch_size=128)\n",
            "TRAINING MODEL... \n",
            "predictions of y_test: [0 2 0 1 1 0 0 1 1 2 1 2 0 1 0 1 1 0 0 0 1 1 0 0 0 1 0 2 1 2 0 2 1 2 2 2]\n",
            "accuracy  = \t\t 0.9166666666666666 correctly cl. cases= 33  out of  36\n",
            " \n",
            "MODEL 2 (batch_size=16)\n",
            "TRAINING MODEL... \n",
            "predictions of y_test: [1 1 1 1 1 1 1 1 1 1 1 1 1 1 1 1 1 1 1 1 1 1 1 1 1 1 1 1 1 1 1 1 1 1 1 1]\n",
            "accuracy  = \t\t 0.3888888888888889 correctly cl. cases= 14  out of  36\n",
            "Id of Iteration 1:\n",
            " \n",
            "MODEL 1 (batch_size=128)\n",
            "TRAINING MODEL... \n",
            "predictions of y_test: [1 1 1 1 1 1 1 1 1 1 1 1 1 1 1 1 1 1 1 1 1 1 1 1 1 1 1 1 1 1 1 1 1 1 1 1]\n",
            "accuracy  = \t\t 0.3888888888888889 correctly cl. cases= 14  out of  36\n",
            " \n",
            "MODEL 2 (batch_size=16)\n",
            "TRAINING MODEL... \n",
            "predictions of y_test: [0 2 0 1 1 0 0 1 1 2 1 2 0 1 0 1 1 0 0 0 1 1 0 0 0 1 0 2 1 2 0 2 1 2 2 2]\n",
            "accuracy  = \t\t 0.9166666666666666 correctly cl. cases= 33  out of  36\n",
            "Id of Iteration 2:\n",
            " \n",
            "MODEL 1 (batch_size=128)\n",
            "TRAINING MODEL... \n",
            "predictions of y_test: [0 2 0 1 1 0 0 1 1 2 1 1 0 1 0 1 1 0 0 0 1 1 0 0 0 1 0 2 1 2 0 2 1 2 2 2]\n",
            "accuracy  = \t\t 0.8888888888888888 correctly cl. cases= 32  out of  36\n",
            " \n",
            "MODEL 2 (batch_size=16)\n",
            "TRAINING MODEL... \n",
            "predictions of y_test: [1 1 1 1 1 1 1 1 1 1 1 1 1 1 1 1 1 1 1 1 1 1 1 1 1 1 1 1 1 1 1 1 1 1 1 1]\n",
            "accuracy  = \t\t 0.3888888888888889 correctly cl. cases= 14  out of  36\n",
            "Id of Iteration 3:\n",
            " \n",
            "MODEL 1 (batch_size=128)\n",
            "TRAINING MODEL... \n",
            "predictions of y_test: [1 1 1 1 1 1 1 1 1 1 1 1 1 1 1 1 1 1 1 1 1 1 1 1 1 1 1 1 1 1 1 1 1 1 1 1]\n",
            "accuracy  = \t\t 0.3888888888888889 correctly cl. cases= 14  out of  36\n",
            " \n",
            "MODEL 2 (batch_size=16)\n",
            "TRAINING MODEL... \n",
            "predictions of y_test: [1 1 1 1 1 1 1 1 1 1 1 1 1 1 1 1 1 1 1 1 1 1 1 1 1 1 1 1 1 1 1 1 1 1 1 1]\n",
            "accuracy  = \t\t 0.3888888888888889 correctly cl. cases= 14  out of  36\n",
            "Id of Iteration 4:\n",
            " \n",
            "MODEL 1 (batch_size=128)\n",
            "TRAINING MODEL... \n",
            "predictions of y_test: [0 2 0 1 1 0 0 2 2 0 1 2 0 1 0 1 1 2 2 0 1 2 0 0 2 1 0 1 2 0 0 0 1 2 2 0]\n",
            "accuracy  = \t\t 0.6388888888888888 correctly cl. cases= 23  out of  36\n",
            " \n",
            "MODEL 2 (batch_size=16)\n",
            "TRAINING MODEL... \n",
            "predictions of y_test: [0 2 0 1 1 0 0 1 1 2 1 2 0 1 0 1 1 0 1 0 1 1 0 0 1 1 0 2 1 2 0 2 1 2 2 2]\n",
            "accuracy  = \t\t 0.9722222222222222 correctly cl. cases= 35  out of  36\n",
            "Id of Iteration 5:\n",
            " \n",
            "MODEL 1 (batch_size=128)\n",
            "TRAINING MODEL... \n",
            "predictions of y_test: [0 2 0 1 1 0 0 1 1 2 1 2 0 1 0 1 1 1 1 0 1 1 0 0 1 1 0 2 1 2 0 2 1 2 2 2]\n",
            "accuracy  = \t\t 0.9444444444444444 correctly cl. cases= 34  out of  36\n",
            " \n",
            "MODEL 2 (batch_size=16)\n",
            "TRAINING MODEL... \n",
            "predictions of y_test: [0 1 0 1 1 0 0 1 1 2 1 2 0 1 0 1 1 0 1 0 1 1 0 0 1 1 0 2 1 2 0 2 1 2 2 2]\n",
            "accuracy  = \t\t 0.9444444444444444 correctly cl. cases= 34  out of  36\n",
            "Id of Iteration 6:\n",
            " \n",
            "MODEL 1 (batch_size=128)\n",
            "TRAINING MODEL... \n",
            "predictions of y_test: [1 1 1 1 1 1 1 1 1 1 1 1 1 1 1 1 1 1 1 1 1 1 1 1 1 1 1 1 1 1 1 1 1 1 1 1]\n",
            "accuracy  = \t\t 0.3888888888888889 correctly cl. cases= 14  out of  36\n",
            " \n",
            "MODEL 2 (batch_size=16)\n",
            "TRAINING MODEL... \n",
            "predictions of y_test: [0 2 0 1 1 0 0 1 1 2 1 2 0 1 0 1 1 0 0 0 1 1 0 0 0 1 0 2 1 2 0 2 1 2 2 2]\n",
            "accuracy  = \t\t 0.9166666666666666 correctly cl. cases= 33  out of  36\n",
            "Id of Iteration 7:\n",
            " \n",
            "MODEL 1 (batch_size=128)\n",
            "TRAINING MODEL... \n",
            "predictions of y_test: [0 2 0 1 1 0 0 1 1 2 1 2 0 1 0 1 1 0 1 0 1 1 0 0 1 1 0 2 1 2 0 2 1 2 2 2]\n",
            "accuracy  = \t\t 0.9722222222222222 correctly cl. cases= 35  out of  36\n",
            " \n",
            "MODEL 2 (batch_size=16)\n",
            "TRAINING MODEL... \n",
            "predictions of y_test: [0 2 0 1 2 0 0 2 2 2 1 2 0 2 0 1 1 0 0 0 1 2 0 0 0 1 0 2 2 0 0 0 1 2 2 0]\n",
            "accuracy  = \t\t 0.7222222222222222 correctly cl. cases= 26  out of  36\n",
            "Id of Iteration 8:\n",
            " \n",
            "MODEL 1 (batch_size=128)\n",
            "TRAINING MODEL... \n",
            "predictions of y_test: [1 1 1 1 1 1 1 1 1 1 1 1 1 1 1 1 1 1 1 1 1 1 1 1 1 1 1 1 1 1 1 1 1 1 1 1]\n",
            "accuracy  = \t\t 0.3888888888888889 correctly cl. cases= 14  out of  36\n",
            " \n",
            "MODEL 2 (batch_size=16)\n",
            "TRAINING MODEL... \n",
            "predictions of y_test: [0 2 0 1 1 0 0 1 2 2 1 2 0 1 0 1 1 2 2 0 1 2 0 0 2 1 0 1 2 0 0 0 1 2 2 0]\n",
            "accuracy  = \t\t 0.6944444444444444 correctly cl. cases= 25  out of  36\n",
            "Id of Iteration 9:\n",
            " \n",
            "MODEL 1 (batch_size=128)\n",
            "TRAINING MODEL... \n",
            "predictions of y_test: [1 1 1 1 1 1 1 1 1 1 1 1 1 1 1 1 1 1 1 1 1 1 1 1 1 1 1 1 1 1 1 1 1 1 1 1]\n",
            "accuracy  = \t\t 0.3888888888888889 correctly cl. cases= 14  out of  36\n",
            " \n",
            "MODEL 2 (batch_size=16)\n",
            "TRAINING MODEL... \n",
            "predictions of y_test: [1 1 1 1 1 1 1 1 1 1 1 1 1 1 1 1 1 1 1 1 1 1 1 1 1 1 1 1 1 1 1 1 1 1 1 1]\n",
            "accuracy  = \t\t 0.3888888888888889 correctly cl. cases= 14  out of  36\n",
            "Id of Iteration 10:\n",
            " \n",
            "MODEL 1 (batch_size=128)\n",
            "TRAINING MODEL... \n",
            "predictions of y_test: [0 2 0 1 2 0 0 2 2 2 1 2 0 2 0 1 1 0 2 0 1 2 0 0 2 1 0 1 2 2 0 2 1 1 2 2]\n",
            "accuracy  = \t\t 0.75 correctly cl. cases= 27  out of  36\n",
            " \n",
            "MODEL 2 (batch_size=16)\n",
            "TRAINING MODEL... \n",
            "predictions of y_test: [0 2 0 1 1 0 0 2 2 0 1 2 0 2 0 1 1 2 2 0 1 2 0 0 2 1 0 1 2 0 0 0 1 2 2 0]\n",
            "accuracy  = \t\t 0.6666666666666666 correctly cl. cases= 24  out of  36\n",
            "Id of Iteration 11:\n",
            " \n",
            "MODEL 1 (batch_size=128)\n",
            "TRAINING MODEL... \n",
            "predictions of y_test: [1 1 1 1 1 1 1 1 1 1 1 1 1 1 1 1 1 1 1 1 1 1 1 1 1 1 1 1 1 1 1 1 1 1 1 1]\n",
            "accuracy  = \t\t 0.3888888888888889 correctly cl. cases= 14  out of  36\n",
            " \n",
            "MODEL 2 (batch_size=16)\n",
            "TRAINING MODEL... \n",
            "predictions of y_test: [0 2 0 1 1 0 0 0 1 2 1 2 0 1 0 1 1 0 1 0 1 1 0 0 0 1 0 2 1 2 0 2 1 2 2 2]\n",
            "accuracy  = \t\t 0.9166666666666666 correctly cl. cases= 33  out of  36\n",
            "Id of Iteration 12:\n",
            " \n",
            "MODEL 1 (batch_size=128)\n",
            "TRAINING MODEL... \n",
            "predictions of y_test: [1 1 1 1 1 1 1 1 1 1 1 1 1 1 1 1 1 1 1 1 1 1 1 1 1 1 1 1 1 1 1 1 1 1 1 1]\n",
            "accuracy  = \t\t 0.3888888888888889 correctly cl. cases= 14  out of  36\n",
            " \n",
            "MODEL 2 (batch_size=16)\n",
            "TRAINING MODEL... \n",
            "predictions of y_test: [0 2 2 1 2 0 0 1 2 2 1 2 0 1 0 1 1 2 2 0 1 2 0 0 2 1 0 1 2 0 0 0 1 2 2 0]\n",
            "accuracy  = \t\t 0.6388888888888888 correctly cl. cases= 23  out of  36\n",
            "Id of Iteration 13:\n",
            " \n",
            "MODEL 1 (batch_size=128)\n",
            "TRAINING MODEL... \n",
            "predictions of y_test: [1 1 1 1 1 1 1 1 1 1 1 1 1 1 1 1 1 1 1 1 1 1 1 1 1 1 1 1 1 1 1 1 1 1 1 1]\n",
            "accuracy  = \t\t 0.3888888888888889 correctly cl. cases= 14  out of  36\n",
            " \n",
            "MODEL 2 (batch_size=16)\n",
            "TRAINING MODEL... \n",
            "predictions of y_test: [0 2 2 1 1 0 0 1 2 0 1 2 0 1 0 1 1 2 2 0 1 1 0 0 2 1 0 1 1 0 0 0 1 2 2 0]\n",
            "accuracy  = \t\t 0.6944444444444444 correctly cl. cases= 25  out of  36\n",
            "Id of Iteration 14:\n",
            " \n",
            "MODEL 1 (batch_size=128)\n",
            "TRAINING MODEL... \n",
            "predictions of y_test: [1 1 1 1 1 1 1 1 1 1 1 1 1 1 1 1 1 1 1 1 1 1 1 1 1 1 1 1 1 1 1 1 1 1 1 1]\n",
            "accuracy  = \t\t 0.3888888888888889 correctly cl. cases= 14  out of  36\n",
            " \n",
            "MODEL 2 (batch_size=16)\n",
            "TRAINING MODEL... \n",
            "predictions of y_test: [0 1 0 1 1 0 0 1 1 2 1 2 0 1 0 1 1 0 1 0 1 1 0 0 1 1 0 2 1 2 0 2 1 2 2 2]\n",
            "accuracy  = \t\t 0.9444444444444444 correctly cl. cases= 34  out of  36\n",
            "Id of Iteration 15:\n",
            " \n",
            "MODEL 1 (batch_size=128)\n",
            "TRAINING MODEL... \n",
            "predictions of y_test: [0 2 0 1 2 0 0 2 2 0 1 2 0 2 0 1 1 0 2 0 1 2 0 0 2 1 0 2 2 0 0 0 1 2 2 0]\n",
            "accuracy  = \t\t 0.6944444444444444 correctly cl. cases= 25  out of  36\n",
            " \n",
            "MODEL 2 (batch_size=16)\n",
            "TRAINING MODEL... \n",
            "predictions of y_test: [1 1 1 1 1 1 1 1 1 1 1 1 1 1 1 1 1 1 1 1 1 1 1 1 1 1 1 1 1 1 1 1 1 1 1 1]\n",
            "accuracy  = \t\t 0.3888888888888889 correctly cl. cases= 14  out of  36\n",
            "Id of Iteration 16:\n",
            " \n",
            "MODEL 1 (batch_size=128)\n",
            "TRAINING MODEL... \n",
            "predictions of y_test: [0 2 0 1 1 0 0 1 1 2 1 2 0 1 0 1 1 0 1 0 1 1 0 0 1 1 0 2 1 2 0 2 1 2 2 2]\n",
            "accuracy  = \t\t 0.9722222222222222 correctly cl. cases= 35  out of  36\n",
            " \n",
            "MODEL 2 (batch_size=16)\n",
            "TRAINING MODEL... \n",
            "predictions of y_test: [0 2 0 1 1 0 0 1 2 2 1 2 0 2 0 1 1 2 1 0 1 1 0 0 2 1 0 2 1 2 0 2 1 2 2 2]\n",
            "accuracy  = \t\t 0.9166666666666666 correctly cl. cases= 33  out of  36\n",
            "Id of Iteration 17:\n",
            " \n",
            "MODEL 1 (batch_size=128)\n",
            "TRAINING MODEL... \n",
            "predictions of y_test: [1 1 1 1 1 1 1 1 1 1 1 1 1 1 1 1 1 1 1 1 1 1 1 1 1 1 1 1 1 1 1 1 1 1 1 1]\n",
            "accuracy  = \t\t 0.3888888888888889 correctly cl. cases= 14  out of  36\n",
            " \n",
            "MODEL 2 (batch_size=16)\n",
            "TRAINING MODEL... \n",
            "predictions of y_test: [0 2 0 1 1 0 0 1 1 2 1 2 0 1 0 1 1 0 1 0 1 1 0 0 0 1 0 2 1 2 0 2 1 2 2 2]\n",
            "accuracy  = \t\t 0.9444444444444444 correctly cl. cases= 34  out of  36\n",
            "Id of Iteration 18:\n",
            " \n",
            "MODEL 1 (batch_size=128)\n",
            "TRAINING MODEL... \n",
            "predictions of y_test: [1 1 1 1 1 1 1 1 1 1 1 1 1 1 1 1 1 1 1 1 1 1 1 1 1 1 1 1 1 1 1 1 1 1 1 1]\n",
            "accuracy  = \t\t 0.3888888888888889 correctly cl. cases= 14  out of  36\n",
            " \n",
            "MODEL 2 (batch_size=16)\n",
            "TRAINING MODEL... \n",
            "predictions of y_test: [0 2 0 1 1 0 0 1 1 2 1 2 0 1 0 1 1 0 1 0 1 1 0 0 1 1 0 2 1 2 0 2 1 2 2 2]\n",
            "accuracy  = \t\t 0.9722222222222222 correctly cl. cases= 35  out of  36\n",
            "Id of Iteration 19:\n",
            " \n",
            "MODEL 1 (batch_size=128)\n",
            "TRAINING MODEL... \n",
            "predictions of y_test: [1 1 1 1 1 1 1 1 1 1 1 1 1 1 1 1 1 1 1 1 1 1 1 1 1 1 1 1 1 1 1 1 1 1 1 1]\n",
            "accuracy  = \t\t 0.3888888888888889 correctly cl. cases= 14  out of  36\n",
            " \n",
            "MODEL 2 (batch_size=16)\n",
            "TRAINING MODEL... \n",
            "predictions of y_test: [0 2 0 1 1 0 0 1 1 2 1 2 0 1 0 1 1 0 1 0 1 1 0 0 1 1 0 2 1 2 0 2 1 2 2 2]\n",
            "accuracy  = \t\t 0.9722222222222222 correctly cl. cases= 35  out of  36\n",
            "Id of Iteration 20:\n",
            " \n",
            "MODEL 1 (batch_size=128)\n",
            "TRAINING MODEL... \n",
            "predictions of y_test: [1 1 1 1 1 1 1 1 1 1 1 1 1 1 1 1 1 1 1 1 1 1 1 1 1 1 1 1 1 1 1 1 1 1 1 1]\n",
            "accuracy  = \t\t 0.3888888888888889 correctly cl. cases= 14  out of  36\n",
            " \n",
            "MODEL 2 (batch_size=16)\n",
            "TRAINING MODEL... \n",
            "predictions of y_test: [1 1 1 1 1 1 1 1 1 1 1 1 1 1 1 1 1 1 1 1 1 1 1 1 1 1 1 1 1 1 1 1 1 1 1 1]\n",
            "accuracy  = \t\t 0.3888888888888889 correctly cl. cases= 14  out of  36\n",
            "Id of Iteration 21:\n",
            " \n",
            "MODEL 1 (batch_size=128)\n",
            "TRAINING MODEL... \n",
            "predictions of y_test: [1 1 1 1 1 1 1 1 1 1 1 1 1 1 1 1 1 1 1 1 1 1 1 1 1 1 1 1 1 1 1 1 1 1 1 1]\n",
            "accuracy  = \t\t 0.3888888888888889 correctly cl. cases= 14  out of  36\n",
            " \n",
            "MODEL 2 (batch_size=16)\n",
            "TRAINING MODEL... \n",
            "predictions of y_test: [1 1 1 1 1 1 1 1 1 1 1 1 1 1 1 1 1 1 1 1 1 1 1 1 1 1 1 1 1 1 1 1 1 1 1 1]\n",
            "accuracy  = \t\t 0.3888888888888889 correctly cl. cases= 14  out of  36\n",
            "Id of Iteration 22:\n",
            " \n",
            "MODEL 1 (batch_size=128)\n",
            "TRAINING MODEL... \n",
            "predictions of y_test: [1 1 1 1 1 1 1 1 1 1 1 1 1 1 1 1 1 1 1 1 1 1 1 1 1 1 1 1 1 1 1 1 1 1 1 1]\n",
            "accuracy  = \t\t 0.3888888888888889 correctly cl. cases= 14  out of  36\n",
            " \n",
            "MODEL 2 (batch_size=16)\n",
            "TRAINING MODEL... \n",
            "predictions of y_test: [0 2 1 1 1 0 0 1 1 2 1 2 0 1 0 1 1 1 1 0 1 1 0 0 1 1 0 2 1 2 0 2 1 2 2 2]\n",
            "accuracy  = \t\t 0.9166666666666666 correctly cl. cases= 33  out of  36\n",
            "Id of Iteration 23:\n",
            " \n",
            "MODEL 1 (batch_size=128)\n",
            "TRAINING MODEL... \n",
            "predictions of y_test: [0 2 0 1 1 0 0 1 1 2 1 2 0 1 0 1 1 1 1 0 1 1 0 0 1 1 0 2 1 2 0 2 1 2 2 2]\n",
            "accuracy  = \t\t 0.9444444444444444 correctly cl. cases= 34  out of  36\n",
            " \n",
            "MODEL 2 (batch_size=16)\n",
            "TRAINING MODEL... \n",
            "predictions of y_test: [1 1 1 1 1 1 1 1 1 1 1 1 1 1 1 1 1 1 1 1 1 1 1 1 1 1 1 1 1 1 1 1 1 1 1 1]\n",
            "accuracy  = \t\t 0.3888888888888889 correctly cl. cases= 14  out of  36\n",
            "Id of Iteration 24:\n",
            " \n",
            "MODEL 1 (batch_size=128)\n",
            "TRAINING MODEL... \n",
            "predictions of y_test: [0 2 0 1 0 0 0 1 1 2 1 2 0 1 0 1 1 0 0 0 1 0 0 0 0 1 0 2 1 2 0 2 1 2 2 2]\n",
            "accuracy  = \t\t 0.8611111111111112 correctly cl. cases= 31  out of  36\n",
            " \n",
            "MODEL 2 (batch_size=16)\n",
            "TRAINING MODEL... \n",
            "predictions of y_test: [1 1 1 1 1 1 1 1 1 1 1 1 1 1 1 1 1 1 1 1 1 1 1 1 1 1 1 1 1 1 1 1 1 1 1 1]\n",
            "accuracy  = \t\t 0.3888888888888889 correctly cl. cases= 14  out of  36\n",
            "Id of Iteration 25:\n",
            " \n",
            "MODEL 1 (batch_size=128)\n",
            "TRAINING MODEL... \n",
            "predictions of y_test: [0 1 0 0 1 0 0 0 1 2 1 1 0 1 0 1 1 0 0 0 1 1 0 0 0 1 0 2 1 2 0 1 1 2 2 1]\n",
            "accuracy  = \t\t 0.75 correctly cl. cases= 27  out of  36\n",
            " \n",
            "MODEL 2 (batch_size=16)\n",
            "TRAINING MODEL... \n",
            "predictions of y_test: [0 2 0 1 1 0 0 0 1 2 1 2 0 1 0 1 1 0 1 0 1 1 0 0 0 1 0 2 1 2 0 2 1 2 2 2]\n",
            "accuracy  = \t\t 0.9166666666666666 correctly cl. cases= 33  out of  36\n",
            "Id of Iteration 26:\n",
            " \n",
            "MODEL 1 (batch_size=128)\n",
            "TRAINING MODEL... \n",
            "predictions of y_test: [0 2 0 1 1 0 0 1 1 2 1 2 0 2 0 1 1 0 0 0 1 1 0 0 0 1 0 2 1 2 0 2 1 2 2 2]\n",
            "accuracy  = \t\t 0.9444444444444444 correctly cl. cases= 34  out of  36\n",
            " \n",
            "MODEL 2 (batch_size=16)\n",
            "TRAINING MODEL... \n",
            "predictions of y_test: [0 1 1 1 1 0 0 1 1 2 1 2 0 1 0 1 1 1 1 0 1 1 0 0 1 1 0 2 1 2 0 2 1 2 2 2]\n",
            "accuracy  = \t\t 0.8888888888888888 correctly cl. cases= 32  out of  36\n",
            "Id of Iteration 27:\n",
            " \n",
            "MODEL 1 (batch_size=128)\n",
            "TRAINING MODEL... \n",
            "predictions of y_test: [0 2 0 1 1 0 0 1 1 2 1 2 0 2 0 1 1 1 1 0 1 1 0 0 1 1 0 2 1 2 0 2 1 2 2 2]\n",
            "accuracy  = \t\t 0.9722222222222222 correctly cl. cases= 35  out of  36\n",
            " \n",
            "MODEL 2 (batch_size=16)\n",
            "TRAINING MODEL... \n",
            "predictions of y_test: [0 2 0 1 1 0 0 1 1 2 1 2 0 1 0 1 1 0 0 0 1 1 0 0 1 1 0 2 1 2 0 2 1 2 2 2]\n",
            "accuracy  = \t\t 0.9444444444444444 correctly cl. cases= 34  out of  36\n",
            "Id of Iteration 28:\n",
            " \n",
            "MODEL 1 (batch_size=128)\n",
            "TRAINING MODEL... \n",
            "predictions of y_test: [0 1 0 1 1 0 0 0 1 1 1 1 0 1 0 1 1 0 0 0 1 1 0 0 0 1 0 1 1 1 0 1 1 1 1 1]\n",
            "accuracy  = \t\t 0.6388888888888888 correctly cl. cases= 23  out of  36\n",
            " \n",
            "MODEL 2 (batch_size=16)\n",
            "TRAINING MODEL... \n",
            "predictions of y_test: [1 1 1 1 1 1 1 1 1 1 1 1 1 1 1 1 1 1 1 1 1 1 1 1 1 1 1 1 1 1 1 1 1 1 1 1]\n",
            "accuracy  = \t\t 0.3888888888888889 correctly cl. cases= 14  out of  36\n",
            "Id of Iteration 29:\n",
            " \n",
            "MODEL 1 (batch_size=128)\n",
            "TRAINING MODEL... \n",
            "predictions of y_test: [1 1 1 1 1 1 1 1 1 1 1 1 1 1 1 1 1 1 1 1 1 1 1 1 1 1 1 1 1 1 1 1 1 1 1 1]\n",
            "accuracy  = \t\t 0.3888888888888889 correctly cl. cases= 14  out of  36\n",
            " \n",
            "MODEL 2 (batch_size=16)\n",
            "TRAINING MODEL... \n",
            "predictions of y_test: [0 2 0 1 1 0 0 1 1 2 1 2 0 1 0 1 1 0 0 0 1 1 0 0 0 1 0 2 1 2 0 2 1 2 2 2]\n",
            "accuracy  = \t\t 0.9166666666666666 correctly cl. cases= 33  out of  36\n",
            "Id of Iteration 30:\n",
            " \n",
            "MODEL 1 (batch_size=128)\n",
            "TRAINING MODEL... \n",
            "predictions of y_test: [0 1 0 1 1 0 0 0 1 1 1 1 0 1 0 1 2 0 0 0 1 1 0 0 0 1 0 1 1 1 0 1 1 2 1 1]\n",
            "accuracy  = \t\t 0.6388888888888888 correctly cl. cases= 23  out of  36\n",
            " \n",
            "MODEL 2 (batch_size=16)\n",
            "TRAINING MODEL... \n",
            "predictions of y_test: [0 2 0 1 1 0 0 1 1 2 1 2 0 2 0 1 1 0 0 0 1 1 0 0 1 1 0 2 1 2 0 2 1 2 2 2]\n",
            "accuracy  = \t\t 0.9722222222222222 correctly cl. cases= 35  out of  36\n",
            "Id of Iteration 31:\n",
            " \n",
            "MODEL 1 (batch_size=128)\n",
            "TRAINING MODEL... \n",
            "predictions of y_test: [0 2 2 1 1 0 0 1 1 2 1 2 0 1 0 1 1 2 2 0 1 2 0 0 1 1 0 1 1 2 0 2 1 2 2 2]\n",
            "accuracy  = \t\t 0.8333333333333334 correctly cl. cases= 30  out of  36\n",
            " \n",
            "MODEL 2 (batch_size=16)\n",
            "TRAINING MODEL... \n",
            "predictions of y_test: [0 1 0 1 1 0 0 1 0 2 1 2 0 1 0 1 1 0 0 0 1 0 0 0 0 1 0 2 1 2 0 2 1 2 2 2]\n",
            "accuracy  = \t\t 0.8333333333333334 correctly cl. cases= 30  out of  36\n",
            "Id of Iteration 32:\n",
            " \n",
            "MODEL 1 (batch_size=128)\n",
            "TRAINING MODEL... \n",
            "predictions of y_test: [0 2 0 1 1 0 0 0 1 2 1 2 0 2 0 1 1 0 1 0 1 1 0 0 0 1 0 2 1 2 0 2 1 2 2 2]\n",
            "accuracy  = \t\t 0.9444444444444444 correctly cl. cases= 34  out of  36\n",
            " \n",
            "MODEL 2 (batch_size=16)\n",
            "TRAINING MODEL... \n",
            "predictions of y_test: [0 1 0 1 1 0 0 1 0 2 1 2 0 1 0 1 1 0 0 0 1 0 0 0 0 1 0 2 0 2 0 2 1 2 2 2]\n",
            "accuracy  = \t\t 0.8055555555555556 correctly cl. cases= 29  out of  36\n",
            "Id of Iteration 33:\n",
            " \n",
            "MODEL 1 (batch_size=128)\n",
            "TRAINING MODEL... \n",
            "predictions of y_test: [1 1 1 1 1 1 1 1 1 1 1 1 1 1 1 1 1 1 1 1 1 1 1 1 1 1 1 1 1 1 1 1 1 1 1 1]\n",
            "accuracy  = \t\t 0.3888888888888889 correctly cl. cases= 14  out of  36\n",
            " \n",
            "MODEL 2 (batch_size=16)\n",
            "TRAINING MODEL... \n",
            "predictions of y_test: [0 2 0 1 1 0 0 1 1 2 1 2 0 2 0 1 1 0 1 0 1 1 0 0 1 1 0 2 1 2 0 2 1 2 2 2]\n",
            "accuracy  = \t\t 1.0 correctly cl. cases= 36  out of  36\n",
            "Id of Iteration 34:\n",
            " \n",
            "MODEL 1 (batch_size=128)\n",
            "TRAINING MODEL... \n",
            "predictions of y_test: [1 1 1 1 1 1 1 1 1 1 1 1 1 1 1 1 1 1 1 1 1 1 1 1 1 1 1 1 1 1 1 1 1 1 1 1]\n",
            "accuracy  = \t\t 0.3888888888888889 correctly cl. cases= 14  out of  36\n",
            " \n",
            "MODEL 2 (batch_size=16)\n",
            "TRAINING MODEL... \n",
            "predictions of y_test: [1 1 1 1 1 1 1 1 1 1 1 1 1 1 1 1 1 1 1 1 1 1 1 1 1 1 1 1 1 1 1 1 1 1 1 1]\n",
            "accuracy  = \t\t 0.3888888888888889 correctly cl. cases= 14  out of  36\n",
            "Id of Iteration 35:\n",
            " \n",
            "MODEL 1 (batch_size=128)\n",
            "TRAINING MODEL... \n",
            "predictions of y_test: [1 1 1 1 1 1 1 1 1 1 1 1 1 1 1 1 1 1 1 1 1 1 1 1 1 1 1 1 1 1 1 1 1 1 1 1]\n",
            "accuracy  = \t\t 0.3888888888888889 correctly cl. cases= 14  out of  36\n",
            " \n",
            "MODEL 2 (batch_size=16)\n",
            "TRAINING MODEL... \n",
            "predictions of y_test: [0 2 0 1 1 0 0 1 1 2 1 2 0 1 0 1 1 0 1 0 1 1 0 0 0 1 0 2 1 2 0 2 1 2 2 2]\n",
            "accuracy  = \t\t 0.9444444444444444 correctly cl. cases= 34  out of  36\n",
            "Id of Iteration 36:\n",
            " \n",
            "MODEL 1 (batch_size=128)\n",
            "TRAINING MODEL... \n",
            "predictions of y_test: [1 1 1 1 1 1 1 1 1 1 1 1 1 1 1 1 1 1 1 1 1 1 1 1 1 1 1 1 1 1 1 1 1 1 1 1]\n",
            "accuracy  = \t\t 0.3888888888888889 correctly cl. cases= 14  out of  36\n",
            " \n",
            "MODEL 2 (batch_size=16)\n",
            "TRAINING MODEL... \n",
            "predictions of y_test: [0 2 2 1 1 0 0 2 2 2 1 2 0 1 0 1 1 2 2 0 1 2 0 0 2 1 0 1 1 0 0 0 1 1 2 0]\n",
            "accuracy  = \t\t 0.6388888888888888 correctly cl. cases= 23  out of  36\n",
            "Id of Iteration 37:\n",
            " \n",
            "MODEL 1 (batch_size=128)\n",
            "TRAINING MODEL... \n",
            "predictions of y_test: [0 2 0 1 1 0 0 1 1 2 1 2 0 1 0 1 1 0 1 0 1 1 0 0 1 1 0 2 1 2 0 2 1 2 2 2]\n",
            "accuracy  = \t\t 0.9722222222222222 correctly cl. cases= 35  out of  36\n",
            " \n",
            "MODEL 2 (batch_size=16)\n",
            "TRAINING MODEL... \n",
            "predictions of y_test: [1 1 1 1 1 1 1 1 1 1 1 1 1 1 1 1 1 1 1 1 1 1 1 1 1 1 1 1 1 1 1 1 1 1 1 1]\n",
            "accuracy  = \t\t 0.3888888888888889 correctly cl. cases= 14  out of  36\n",
            "Id of Iteration 38:\n",
            " \n",
            "MODEL 1 (batch_size=128)\n",
            "TRAINING MODEL... \n",
            "predictions of y_test: [1 1 1 1 1 1 1 1 1 1 1 1 1 1 1 1 1 1 1 1 1 1 1 1 1 1 1 1 1 1 1 1 1 1 1 1]\n",
            "accuracy  = \t\t 0.3888888888888889 correctly cl. cases= 14  out of  36\n",
            " \n",
            "MODEL 2 (batch_size=16)\n",
            "TRAINING MODEL... \n",
            "predictions of y_test: [0 2 0 1 1 0 0 1 1 2 1 2 0 1 0 1 1 0 1 0 1 1 0 0 1 1 0 2 1 2 0 2 1 2 2 2]\n",
            "accuracy  = \t\t 0.9722222222222222 correctly cl. cases= 35  out of  36\n",
            "Id of Iteration 39:\n",
            " \n",
            "MODEL 1 (batch_size=128)\n",
            "TRAINING MODEL... \n",
            "predictions of y_test: [1 1 1 1 1 1 1 1 1 1 1 1 1 1 1 1 1 1 1 1 1 1 1 1 1 1 1 1 1 1 1 1 1 1 1 1]\n",
            "accuracy  = \t\t 0.3888888888888889 correctly cl. cases= 14  out of  36\n",
            " \n",
            "MODEL 2 (batch_size=16)\n",
            "TRAINING MODEL... \n",
            "predictions of y_test: [0 2 0 1 1 0 0 1 1 2 1 2 0 1 0 1 1 0 0 0 1 1 0 0 0 1 0 2 1 2 0 2 1 2 2 2]\n",
            "accuracy  = \t\t 0.9166666666666666 correctly cl. cases= 33  out of  36\n",
            "Id of Iteration 40:\n",
            " \n",
            "MODEL 1 (batch_size=128)\n",
            "TRAINING MODEL... \n",
            "predictions of y_test: [0 2 2 1 2 0 0 1 2 2 1 2 0 2 0 1 1 2 2 0 1 2 0 0 1 1 0 2 2 2 0 2 1 2 2 2]\n",
            "accuracy  = \t\t 0.8055555555555556 correctly cl. cases= 29  out of  36\n",
            " \n",
            "MODEL 2 (batch_size=16)\n",
            "TRAINING MODEL... \n",
            "predictions of y_test: [1 1 1 1 1 1 1 1 1 1 1 1 1 1 1 1 1 1 1 1 1 1 1 1 1 1 1 1 1 1 1 1 1 1 1 1]\n",
            "accuracy  = \t\t 0.3888888888888889 correctly cl. cases= 14  out of  36\n",
            "Id of Iteration 41:\n",
            " \n",
            "MODEL 1 (batch_size=128)\n",
            "TRAINING MODEL... \n",
            "predictions of y_test: [1 1 1 1 1 1 1 1 1 1 1 1 1 1 1 1 1 1 1 1 1 1 1 1 1 1 1 1 1 1 1 1 1 1 1 1]\n",
            "accuracy  = \t\t 0.3888888888888889 correctly cl. cases= 14  out of  36\n",
            " \n",
            "MODEL 2 (batch_size=16)\n",
            "TRAINING MODEL... \n",
            "predictions of y_test: [1 1 1 1 1 1 1 1 1 1 1 1 1 1 1 1 1 1 1 1 1 1 1 1 1 1 1 1 1 1 1 1 1 1 1 1]\n",
            "accuracy  = \t\t 0.3888888888888889 correctly cl. cases= 14  out of  36\n",
            "Id of Iteration 42:\n",
            " \n",
            "MODEL 1 (batch_size=128)\n",
            "TRAINING MODEL... \n",
            "predictions of y_test: [0 2 0 1 1 0 0 1 1 2 1 2 0 1 0 1 1 0 1 0 1 1 0 0 1 1 0 2 1 2 0 2 1 2 2 2]\n",
            "accuracy  = \t\t 0.9722222222222222 correctly cl. cases= 35  out of  36\n",
            " \n",
            "MODEL 2 (batch_size=16)\n",
            "TRAINING MODEL... \n",
            "predictions of y_test: [1 1 1 1 1 1 1 1 1 1 1 1 1 1 1 1 1 1 1 1 1 1 1 1 1 1 1 1 1 1 1 1 1 1 1 1]\n",
            "accuracy  = \t\t 0.3888888888888889 correctly cl. cases= 14  out of  36\n",
            "Id of Iteration 43:\n",
            " \n",
            "MODEL 1 (batch_size=128)\n",
            "TRAINING MODEL... \n",
            "predictions of y_test: [1 1 1 1 1 1 1 1 1 1 1 1 1 1 1 1 1 1 1 1 1 1 1 1 1 1 1 1 1 1 1 1 1 1 1 1]\n",
            "accuracy  = \t\t 0.3888888888888889 correctly cl. cases= 14  out of  36\n",
            " \n",
            "MODEL 2 (batch_size=16)\n",
            "TRAINING MODEL... \n",
            "predictions of y_test: [1 1 1 1 1 1 1 1 1 1 1 1 1 1 1 1 1 1 1 1 1 1 1 1 1 1 1 1 1 1 1 1 1 1 1 1]\n",
            "accuracy  = \t\t 0.3888888888888889 correctly cl. cases= 14  out of  36\n",
            "Id of Iteration 44:\n",
            " \n",
            "MODEL 1 (batch_size=128)\n",
            "TRAINING MODEL... \n",
            "predictions of y_test: [1 1 1 1 1 1 1 1 1 1 1 1 1 1 1 1 1 1 1 1 1 1 1 1 1 1 1 1 1 1 1 1 1 1 1 1]\n",
            "accuracy  = \t\t 0.3888888888888889 correctly cl. cases= 14  out of  36\n",
            " \n",
            "MODEL 2 (batch_size=16)\n",
            "TRAINING MODEL... \n",
            "predictions of y_test: [0 1 0 1 1 0 0 1 1 2 1 2 0 1 0 1 1 0 1 0 1 1 0 0 0 1 0 2 1 2 0 2 1 2 2 2]\n",
            "accuracy  = \t\t 0.9166666666666666 correctly cl. cases= 33  out of  36\n",
            "Id of Iteration 45:\n",
            " \n",
            "MODEL 1 (batch_size=128)\n",
            "TRAINING MODEL... \n",
            "predictions of y_test: [1 1 1 1 1 1 1 1 1 1 1 1 1 1 1 1 1 1 1 1 1 1 1 1 1 1 1 1 1 1 1 1 1 1 1 1]\n",
            "accuracy  = \t\t 0.3888888888888889 correctly cl. cases= 14  out of  36\n",
            " \n",
            "MODEL 2 (batch_size=16)\n",
            "TRAINING MODEL... \n",
            "predictions of y_test: [0 2 0 1 1 0 0 1 1 2 1 2 0 1 0 1 1 0 1 0 1 1 0 0 1 1 0 2 1 2 0 2 1 2 2 2]\n",
            "accuracy  = \t\t 0.9722222222222222 correctly cl. cases= 35  out of  36\n",
            "Id of Iteration 46:\n",
            " \n",
            "MODEL 1 (batch_size=128)\n",
            "TRAINING MODEL... \n",
            "predictions of y_test: [1 1 1 1 1 1 1 1 1 1 1 1 1 1 1 1 1 1 1 1 1 1 1 1 1 1 1 1 1 1 1 1 1 1 1 1]\n",
            "accuracy  = \t\t 0.3888888888888889 correctly cl. cases= 14  out of  36\n",
            " \n",
            "MODEL 2 (batch_size=16)\n",
            "TRAINING MODEL... \n",
            "predictions of y_test: [1 1 1 1 1 1 1 1 1 1 1 1 1 1 1 1 1 1 1 1 1 1 1 1 1 1 1 1 1 1 1 1 1 1 1 1]\n",
            "accuracy  = \t\t 0.3888888888888889 correctly cl. cases= 14  out of  36\n",
            "Id of Iteration 47:\n",
            " \n",
            "MODEL 1 (batch_size=128)\n",
            "TRAINING MODEL... \n",
            "predictions of y_test: [0 1 0 0 1 0 0 0 1 2 1 2 0 1 0 1 1 0 1 0 1 1 0 0 0 1 0 2 1 2 0 2 1 2 2 2]\n",
            "accuracy  = \t\t 0.8611111111111112 correctly cl. cases= 31  out of  36\n",
            " \n",
            "MODEL 2 (batch_size=16)\n",
            "TRAINING MODEL... \n",
            "predictions of y_test: [1 1 1 1 1 1 1 1 1 1 1 1 1 1 1 1 1 1 1 1 1 1 1 1 1 1 1 1 1 1 1 1 1 1 1 1]\n",
            "accuracy  = \t\t 0.3888888888888889 correctly cl. cases= 14  out of  36\n",
            "Id of Iteration 48:\n",
            " \n",
            "MODEL 1 (batch_size=128)\n",
            "TRAINING MODEL... \n",
            "predictions of y_test: [0 2 0 1 1 0 0 2 1 0 1 2 0 1 0 1 1 0 2 0 1 2 0 0 2 1 0 1 1 0 0 0 1 2 2 0]\n",
            "accuracy  = \t\t 0.7222222222222222 correctly cl. cases= 26  out of  36\n",
            " \n",
            "MODEL 2 (batch_size=16)\n",
            "TRAINING MODEL... \n",
            "predictions of y_test: [0 2 0 0 1 0 0 0 1 2 1 2 0 1 0 1 1 0 1 0 1 1 0 0 0 1 0 2 1 2 0 2 1 2 2 2]\n",
            "accuracy  = \t\t 0.8888888888888888 correctly cl. cases= 32  out of  36\n",
            "Id of Iteration 49:\n",
            " \n",
            "MODEL 1 (batch_size=128)\n",
            "TRAINING MODEL... \n",
            "predictions of y_test: [1 1 1 1 1 1 1 1 1 1 1 1 1 1 1 1 1 1 1 1 1 1 1 1 1 1 1 1 1 1 1 1 1 1 1 1]\n",
            "accuracy  = \t\t 0.3888888888888889 correctly cl. cases= 14  out of  36\n",
            " \n",
            "MODEL 2 (batch_size=16)\n",
            "TRAINING MODEL... \n",
            "predictions of y_test: [0 0 1 1 1 0 0 1 0 2 1 2 0 0 0 1 1 1 1 1 1 0 1 2 1 1 0 2 0 2 0 2 1 2 2 2]\n",
            "accuracy  = \t\t 0.7222222222222222 correctly cl. cases= 26  out of  36\n"
          ]
        }
      ]
    },
    {
      "cell_type": "code",
      "source": [
        "# Average accuracy\n",
        "avg_results = acc_results.mean(axis=0)\n",
        "\n",
        "print(f\"Average accuracy for batch_size=128: {avg_results[0]}.\")\n",
        "print(f\"Average accuracy for batch_size=16: {avg_results[1]}.\")"
      ],
      "metadata": {
        "colab": {
          "base_uri": "https://localhost:8080/"
        },
        "id": "z9zkgUxe5gDX",
        "outputId": "6970b9ad-36c6-4e24-8300-672ddb1ec5cf"
      },
      "execution_count": 69,
      "outputs": [
        {
          "output_type": "stream",
          "name": "stdout",
          "text": [
            "Average accuracy for batch_size=128: 0.5905555555555556.\n",
            "Average accuracy for batch_size=16: 0.7.\n"
          ]
        }
      ]
    }
  ]
}