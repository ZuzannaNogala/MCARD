{
  "nbformat": 4,
  "nbformat_minor": 0,
  "metadata": {
    "colab": {
      "provenance": [],
      "authorship_tag": "ABX9TyOO8BfHXJhhDkFb3Ozw0AjF",
      "include_colab_link": true
    },
    "kernelspec": {
      "name": "python3",
      "display_name": "Python 3"
    },
    "language_info": {
      "name": "python"
    }
  },
  "cells": [
    {
      "cell_type": "markdown",
      "metadata": {
        "id": "view-in-github",
        "colab_type": "text"
      },
      "source": [
        "<a href=\"https://colab.research.google.com/github/ZuzannaNogala/MCARD/blob/master/MCDR_Nogala_l2.ipynb\" target=\"_parent\"><img src=\"https://colab.research.google.com/assets/colab-badge.svg\" alt=\"Open In Colab\"/></a>"
      ]
    },
    {
      "cell_type": "markdown",
      "source": [
        "# LIST NR 2: Gradient methods. Automatic differentiation\n",
        "\n",
        "\n",
        "\n"
      ],
      "metadata": {
        "id": "D3o71PfVMTkj"
      }
    },
    {
      "cell_type": "code",
      "execution_count": null,
      "metadata": {
        "id": "swz0_46DMCGv"
      },
      "outputs": [],
      "source": [
        "import numpy as np\n",
        "import torch\n",
        "from sklearn.base import RegressorMixin, BaseEstimator\n",
        "from sklearn.model_selection import GridSearchCV, RandomizedSearchCV, train_test_split\n",
        "from sklearn.linear_model import LinearRegression\n",
        "from sklearn.metrics import mean_squared_error, explained_variance_score\n",
        "from sklearn.decomposition import TruncatedSVD\n",
        "from sklearn.datasets import fetch_california_housing\n",
        "from scipy.stats import uniform\n",
        "import matplotlib.pyplot as plt"
      ]
    },
    {
      "cell_type": "markdown",
      "source": [
        "# Q2.1 (**10 pts**)\n",
        "* Sample `x_test`, a vector of size 50 of i.i.d $\\mathcal{U}(0,1)$ random variables and similarly compute corresponding\n",
        "\n",
        "$\\qquad$ `y_test = b_true + a_true * x_test + .1 * np.random.randn(nr_points, 1)`"
      ],
      "metadata": {
        "id": "Nwg4pYe7MhP_"
      }
    },
    {
      "cell_type": "code",
      "source": [
        "nr_points = 200\n",
        "np.random.seed(42)\n",
        "\n",
        "x_train = np.random.uniform(0, 1, nr_points).reshape(-1, 1)\n",
        "\n",
        "a_true = 2.0\n",
        "b_true = 1.0\n",
        "\n",
        "y_train = b_true + a_true * x_train + .1 * np.random.randn(nr_points, 1)\n",
        "\n",
        "x_test = np.random.uniform(0, 1, 50).reshape(-1, 1)\n",
        "y_test = b_true + a_true * x_test + .1 * np.random.randn(50, 1)"
      ],
      "metadata": {
        "id": "4s95DBZOMHVc"
      },
      "execution_count": null,
      "outputs": []
    },
    {
      "cell_type": "markdown",
      "source": [
        "* Take the model (aka `a` and `b`) trained on `(x_train,y_train)` and compute final loss on test set, i.e.,\n",
        "$$\\textrm{loss}_{\\rm final} = {1\\over n}\\sum_{i=1}^{50} (a\\cdot x\\_{test} + b - y_{test})^2$$"
      ],
      "metadata": {
        "id": "lrqGpr06MPPQ"
      }
    },
    {
      "cell_type": "code",
      "source": [
        "LinReg = LinearRegression()\n",
        "LinReg.fit(x_train, y_train)\n",
        "a_est = LinReg.coef_.item()\n",
        "b_est = LinReg.intercept_.item()\n",
        "\n",
        "loss_final = np.mean((a_est * x_test + b_est - y_test) ** 2) # or mean_square_error\n",
        "\n",
        "print(f\"Value of loss_final is {loss_final}.\")"
      ],
      "metadata": {
        "colab": {
          "base_uri": "https://localhost:8080/"
        },
        "id": "F4333djhMq10",
        "outputId": "a6f2ac33-1eee-4227-f3ff-4ec5c932cd08"
      },
      "execution_count": null,
      "outputs": [
        {
          "output_type": "stream",
          "name": "stdout",
          "text": [
            "Value of loss_final is 0.01199110714351241.\n"
          ]
        }
      ]
    },
    {
      "cell_type": "markdown",
      "source": [
        "* Using SGD or Adam find new $a$ and $b$ minimizing function\n",
        "$$g(a,b)={1\\over n}\\sum_{i=1}^n (\\hat{y}_i-y_i)^2 + \\lambda(a^2+b^2)$$\n",
        "with $\\lambda=0.1$"
      ],
      "metadata": {
        "id": "OWuSuwkCNPMU"
      }
    },
    {
      "cell_type": "code",
      "source": [
        "class TorchLinearRegression1D(RegressorMixin, BaseEstimator):\n",
        "\n",
        "    def __init__(self, lr=0.06, lmb=0, n_epochs=500, optimizer_name=\"Adam\", device=None):\n",
        "        \"\"\"\n",
        "        Initialize the model with hyperparameters.\n",
        "\n",
        "        Parameters:\n",
        "            lr (float): Learning rate.\n",
        "            lmb (float): Penalty value; if lmb = 0, then the standard linear regression is produced\n",
        "            n_epochs (int): Number of training epochs.\n",
        "            optimizer_name (str): Optimizer to use (\"SGD\" or \"Adam\").\n",
        "            device (torch.device): Device to run computations on. Defaults to CPU.\n",
        "        \"\"\"\n",
        "        self.lr = lr\n",
        "        self.lmb = lmb\n",
        "        self.n_epochs = n_epochs\n",
        "        self.optimizer_name = optimizer_name\n",
        "        self.device = device if device is not None else torch.device(\"cpu\")\n",
        "        self.a = None\n",
        "        self.b = None\n",
        "        self.loss_history = []\n",
        "        self.a_history = []\n",
        "        self.b_history = []\n",
        "\n",
        "    def fit(self, x_train, y_train, verbose=False):\n",
        "\n",
        "        x_train_tensor = torch.tensor(np.ravel(x_train), dtype=torch.float32, device=self.device).view(-1, 1)\n",
        "        y_train_tensor = torch.tensor(np.ravel(y_train), dtype=torch.float32, device=self.device).view(-1, 1)\n",
        "\n",
        "        # Initialize parameters a and b randomly, with gradient tracking.\n",
        "        self.a = torch.randn(1, requires_grad=True, dtype=torch.float32, device=self.device)\n",
        "        self.b = torch.randn(1, requires_grad=True, dtype=torch.float32, device=self.device)\n",
        "\n",
        "        if self.optimizer_name.lower() == \"sgd\":\n",
        "            optimizer = torch.optim.SGD([self.a, self.b], lr=self.lr)\n",
        "        elif self.optimizer_name.lower() == \"adam\":\n",
        "            optimizer = torch.optim.Adam([self.a, self.b], lr=self.lr)\n",
        "        else:\n",
        "            raise ValueError(\"Unsupported optimizer. Choose 'SGD' or 'Adam'.\")\n",
        "\n",
        "        # Reset histories\n",
        "        self.loss_history = []\n",
        "        self.a_history = []\n",
        "        self.b_history = []\n",
        "\n",
        "        # Main training loop\n",
        "        for epoch in range(self.n_epochs):\n",
        "\n",
        "            yhat = self.a * x_train_tensor + self.b\n",
        "            error = y_train_tensor - yhat\n",
        "            loss = torch.mean(error ** 2) + self.lmb * (self.a ** 2 + self.b ** 2)\n",
        "\n",
        "            loss.backward()\n",
        "\n",
        "            optimizer.step()\n",
        "            optimizer.zero_grad()\n",
        "\n",
        "            # Record training history every 10 epochs.\n",
        "            if epoch % 10 == 0:\n",
        "                self.loss_history.append(loss.item())\n",
        "                self.a_history.append(self.a.item())\n",
        "                self.b_history.append(self.b.item())\n",
        "                if verbose:\n",
        "                    print(f\"Epoch {epoch}: loss = {loss.item():.4f}\")\n",
        "\n",
        "        return self\n",
        "\n",
        "    def predict(self, x):\n",
        "\n",
        "        x_tensor = torch.tensor(np.ravel(x), dtype=torch.float32, device=self.device).view(-1, 1)\n",
        "        y_prediction = self.a * x_tensor + self.b\n",
        "        return y_prediction.detach().cpu().numpy().flatten()"
      ],
      "metadata": {
        "id": "RBXzsGykNTJu"
      },
      "execution_count": null,
      "outputs": []
    },
    {
      "cell_type": "code",
      "source": [
        "model_LT = TorchLinearRegression1D(lmb=0.1, optimizer_name=\"sgd\")\n",
        "model_LT.fit(x_train, y_train, verbose=True)\n",
        "\n",
        "print(f\"The most optimal params a and b for g(a, b) loss function\"\n",
        "      f\" are: a = {float(model_LT.a)}, b = {float(model_LT.b)}.\")"
      ],
      "metadata": {
        "colab": {
          "base_uri": "https://localhost:8080/"
        },
        "id": "LxmqMPHYNp5P",
        "outputId": "739921c4-b948-42d5-b090-3bc65a96f3d4"
      },
      "execution_count": null,
      "outputs": [
        {
          "output_type": "stream",
          "name": "stdout",
          "text": [
            "Epoch 0: loss = 3.9913\n",
            "Epoch 10: loss = 0.5584\n",
            "Epoch 20: loss = 0.4353\n",
            "Epoch 30: loss = 0.4161\n",
            "Epoch 40: loss = 0.4052\n",
            "Epoch 50: loss = 0.3980\n",
            "Epoch 60: loss = 0.3932\n",
            "Epoch 70: loss = 0.3901\n",
            "Epoch 80: loss = 0.3880\n",
            "Epoch 90: loss = 0.3866\n",
            "Epoch 100: loss = 0.3856\n",
            "Epoch 110: loss = 0.3850\n",
            "Epoch 120: loss = 0.3846\n",
            "Epoch 130: loss = 0.3843\n",
            "Epoch 140: loss = 0.3842\n",
            "Epoch 150: loss = 0.3840\n",
            "Epoch 160: loss = 0.3840\n",
            "Epoch 170: loss = 0.3839\n",
            "Epoch 180: loss = 0.3839\n",
            "Epoch 190: loss = 0.3839\n",
            "Epoch 200: loss = 0.3838\n",
            "Epoch 210: loss = 0.3838\n",
            "Epoch 220: loss = 0.3838\n",
            "Epoch 230: loss = 0.3838\n",
            "Epoch 240: loss = 0.3838\n",
            "Epoch 250: loss = 0.3838\n",
            "Epoch 260: loss = 0.3838\n",
            "Epoch 270: loss = 0.3838\n",
            "Epoch 280: loss = 0.3838\n",
            "Epoch 290: loss = 0.3838\n",
            "Epoch 300: loss = 0.3838\n",
            "Epoch 310: loss = 0.3838\n",
            "Epoch 320: loss = 0.3838\n",
            "Epoch 330: loss = 0.3838\n",
            "Epoch 340: loss = 0.3838\n",
            "Epoch 350: loss = 0.3838\n",
            "Epoch 360: loss = 0.3838\n",
            "Epoch 370: loss = 0.3838\n",
            "Epoch 380: loss = 0.3838\n",
            "Epoch 390: loss = 0.3838\n",
            "Epoch 400: loss = 0.3838\n",
            "Epoch 410: loss = 0.3838\n",
            "Epoch 420: loss = 0.3838\n",
            "Epoch 430: loss = 0.3838\n",
            "Epoch 440: loss = 0.3838\n",
            "Epoch 450: loss = 0.3838\n",
            "Epoch 460: loss = 0.3838\n",
            "Epoch 470: loss = 0.3838\n",
            "Epoch 480: loss = 0.3838\n",
            "Epoch 490: loss = 0.3838\n",
            "The most optimal params a and b for g(a, b) loss function are: a = 1.247514247894287, b = 1.2463196516036987.\n"
          ]
        }
      ]
    },
    {
      "cell_type": "markdown",
      "source": [
        "* Optimize    for `lambda>0` using `GridSearch` or `RandomizedSearch`. For fixed $\\lambda$ find $\\textrm{argmin}_{a,b} g(a,b)$ on the training set, and compute the $\\textrm{loss}_{\\rm final}$ on test set. Choose $\\lambda$ that yields lowest $\\textrm{loss}_{\\rm final}$. Compare with $\\lambda=0$ (i.e., original model)."
      ],
      "metadata": {
        "id": "Ro2BJsU2N0ok"
      }
    },
    {
      "cell_type": "code",
      "source": [
        "lambda_grid = {'lmb': [0.0001, 0.001, 0.01, 0.1, 0.2]}\n",
        "\n",
        "model = TorchLinearRegression1D(lr=0.1, n_epochs=1000)\n",
        "\n",
        "grid_search = GridSearchCV(model, lambda_grid, cv=5, scoring='neg_mean_squared_error')\n",
        "grid_search.fit(x_train, y_train)\n",
        "y_hat = grid_search.best_estimator_.predict(x_test)\n",
        "\n",
        "loss_final_cv = mean_squared_error(y_test, y_hat)\n",
        "\n",
        "model_2 = TorchLinearRegression1D(lr=0.1, lmb=grid_search.best_params_['lmb'], n_epochs=1000, optimizer_name=\"sgd\")\n",
        "model_2.fit(x_train, y_train)\n",
        "\n",
        "\n",
        "print(f\"The best lambda: {grid_search.best_params_['lmb']}, the loss_final: {loss_final_cv}\")\n",
        "print(f\"Then the best parameters a and b are: a = {model_2.a.item()}, b = {model_2.b.item()}\")"
      ],
      "metadata": {
        "colab": {
          "base_uri": "https://localhost:8080/"
        },
        "id": "0270U3DEN4VY",
        "outputId": "934571be-3b13-4573-ca2d-db84eca46301"
      },
      "execution_count": null,
      "outputs": [
        {
          "output_type": "stream",
          "name": "stdout",
          "text": [
            "The best lambda: 0.0001, the loss_final: 0.012030831552341824\n",
            "Then the best parameters a and b are: a = 1.9904531240463257, b = 1.0112613439559937\n"
          ]
        }
      ]
    },
    {
      "cell_type": "markdown",
      "source": [
        "# Q2.2 (**10 pts**)\n",
        "On previous list we considered Ridge Regression for 1d data (exact solution was provided). Now consider Ridge Regresion for multidimensional data:\n",
        "We are given data points\n",
        "$$(\\textbf{x}_1,y_1),\\ldots,(\\textbf{x}_n,y_n)$$\n",
        "where each $x_i \\in \\mathbb{R}^d$, and our goal is to estimate parameters $\\beta_0, \\ldots, \\beta_d$  such that the model\n",
        "$$\n",
        "y = \\beta_0 + \\beta_1 x_1+\\ldots +\\beta_d x_d\n",
        "$$\n",
        "\"best\" fits the data. By \"best\" we mean that the parameters minimize the loss function\n",
        "$$\n",
        "g(\\beta_0,\\beta_1,\\ldots,\\beta_d, \\lambda)=\\sum_{i=1}^n \\Bigl(y_i-(\\beta_0+\\mathbf{x}_i^T \\boldsymbol{\\beta})\\Bigr)^2 +\\lambda\\sum_{i=0}^d \\beta_i^2,\n",
        "$$\n",
        "where $\\boldsymbol{\\beta} = (\\beta_1, \\beta_2, \\ldots, \\beta_d)^T$ and $\\mathbf{x}_i=(x_{i1},\\ldots,x_{id})^T$  and $\\lambda\\geq 0$ is a hyperparamter.\n",
        "* a) Implement multidimensional Ridge Regression `myRidgeRegression_multiD()` using gradient method (note: just form of loss function is needed, make options `sgd` and `adam` available). Preferred: implementation using a class."
      ],
      "metadata": {
        "id": "ja_O5zwYOUO3"
      }
    },
    {
      "cell_type": "code",
      "source": [
        "class myRidgeRegression_multiD(RegressorMixin, BaseEstimator):\n",
        "\n",
        "    def __init__(self, lr=0.06, lmb=0, n_epochs=500, optimizer_name=\"Adam\", device=None):\n",
        "\n",
        "        self.lr = lr\n",
        "        self.lmb = lmb\n",
        "        self.n_epochs = n_epochs\n",
        "        self.optimizer_name = optimizer_name\n",
        "        self.device = device if device is not None else torch.device(\"cpu\")\n",
        "        self.params = None\n",
        "        self.loss_history = []\n",
        "        self.params_history = []\n",
        "\n",
        "    def fit(self, x_train, y_train, verbose=False):\n",
        "\n",
        "        x_train_tensor = torch.tensor(np.c_[np.ones((x_train.shape[0], 1)), x_train], dtype=torch.float32,\n",
        "                                      device=self.device).view(x_train.shape[0], x_train.shape[1] + 1)\n",
        "\n",
        "        y_train_tensor = torch.tensor(np.ravel(y_train), dtype=torch.float32, device=self.device).view(-1, 1)\n",
        "\n",
        "        self.params = torch.nn.Parameter(torch.randn(x_train_tensor.shape[1], 1, dtype=torch.float32, device=self.device))\n",
        "\n",
        "        if self.optimizer_name.lower() == \"sgd\":\n",
        "            optimizer = torch.optim.SGD([self.params], lr=self.lr)\n",
        "        elif self.optimizer_name.lower() == \"adam\":\n",
        "            optimizer = torch.optim.Adam([self.params], lr=self.lr)\n",
        "        else:\n",
        "            raise ValueError(\"Unsupported optimizer. Choose 'SGD' or 'Adam'.\")\n",
        "\n",
        "        # Reset histories\n",
        "        self.loss_history = []\n",
        "        self.params_history = []\n",
        "\n",
        "        # Main training loop\n",
        "        for epoch in range(self.n_epochs):\n",
        "            yhat = torch.matmul(x_train_tensor, self.params)\n",
        "            error = y_train_tensor - yhat\n",
        "            loss = torch.mean(torch.pow(error, 2)) + self.lmb * torch.sum(torch.pow(self.params, 2))\n",
        "\n",
        "            loss.backward()\n",
        "\n",
        "            optimizer.step()\n",
        "            optimizer.zero_grad()\n",
        "\n",
        "            if epoch % 10 == 0:\n",
        "                self.loss_history.append(loss.item())\n",
        "                self.params_history.append([self.params[i] for i in range(len(self.params))])\n",
        "                if verbose:\n",
        "                    print(f\"Epoch {epoch}: loss = {loss.item():.4f}\")\n",
        "\n",
        "        return self\n",
        "\n",
        "    def predict(self, x):\n",
        "        x_tensor = torch.tensor(np.c_[np.ones((x.shape[0], 1)), x], dtype=torch.float32,\n",
        "                                device=self.device).view(x.shape[0], x.shape[1] + 1)\n",
        "        y_prediction = x_tensor @ self.params\n",
        "        return y_prediction.detach().cpu().numpy().flatten()"
      ],
      "metadata": {
        "id": "xEZ5G72DOcbA"
      },
      "execution_count": null,
      "outputs": []
    },
    {
      "cell_type": "code",
      "source": [
        "model_ridge_reg = myRidgeRegression_multiD(lr=0.01, lmb=0.0001, n_epochs=1000)\n",
        "model_ridge_reg.fit(x_train, y_train)\n",
        "print(f\"myRidgeRegression_multiD model's parameters: b0 = {model_ridge_reg.params[0].item()}, b1 = {model_ridge_reg.params[1].item()}\")\n",
        "\n",
        "# print(model_ridge_reg.params)\n",
        "\n",
        "model_torch = TorchLinearRegression1D(lr=0.01, lmb=0.0001, n_epochs=1000)\n",
        "model_torch.fit(x_train, y_train)\n",
        "print(f\"TorchLinearRegression1D model's parameters: b0 = {model_torch.b.item()}, b1 = {model_torch.a.item()}\")"
      ],
      "metadata": {
        "colab": {
          "base_uri": "https://localhost:8080/"
        },
        "id": "cbVPBwxKPEoC",
        "outputId": "7a445cdc-7555-4aec-d09c-cc1340f2e123"
      },
      "execution_count": null,
      "outputs": [
        {
          "output_type": "stream",
          "name": "stdout",
          "text": [
            "myRidgeRegression_multiD model's parameters: b0 = 1.0208734273910522, b1 = 1.9723896980285645\n",
            "TorchLinearRegression1D model's parameters: b0 = 1.0820910930633545, b1 = 1.8584816455841064\n"
          ]
        }
      ]
    },
    {
      "cell_type": "markdown",
      "source": [
        "* b) Re-consider California House Pricing from previous list. Choose several values of $\\lambda$ and compare results with `myLinearRegression_multiD()`"
      ],
      "metadata": {
        "id": "SOdlG0RrTm5-"
      }
    },
    {
      "cell_type": "code",
      "source": [
        "class myLinearRegression_multiD:\n",
        "\n",
        "    def __init__(self):\n",
        "        self.betas = None\n",
        "\n",
        "    def fit(self, X, y):\n",
        "        matrix_plan = np.c_[np.ones((X.shape[0], 1)), X]\n",
        "        self.betas = np.linalg.inv(matrix_plan.T @ matrix_plan) @ matrix_plan.T @ y\n",
        "        return self\n",
        "\n",
        "    def predict(self, X):\n",
        "        matrix_plan = np.c_[np.ones((X.shape[0], 1)), X]\n",
        "        return np.ravel(matrix_plan @ self.betas)\n",
        "\n",
        "    def get_params(self, deep=True):\n",
        "        return {}\n",
        "\n",
        "    def set_params(self, **params):\n",
        "        for key, value in params.items():\n",
        "            setattr(self, key, value)\n",
        "        return self"
      ],
      "metadata": {
        "id": "PdLEmRkETuwE"
      },
      "execution_count": null,
      "outputs": []
    },
    {
      "cell_type": "code",
      "source": [
        "data = fetch_california_housing()\n",
        "X = data.data\n",
        "Y = data.target\n",
        "\n",
        "X_train, X_test, Y_train, Y_test = train_test_split(X, Y, test_size=0.2, random_state=42)"
      ],
      "metadata": {
        "id": "JP5cVUnCT5N0"
      },
      "execution_count": null,
      "outputs": []
    },
    {
      "cell_type": "code",
      "source": [
        "lambda_grid = {'lmb': [0.0001, 0.001, 0.01, 0.1, 0.2, 0.5, 2]}\n",
        "\n",
        "model = myRidgeRegression_multiD(lr=0.01, n_epochs=1000)\n",
        "grid_search = GridSearchCV(model, lambda_grid, cv=5, scoring='neg_mean_squared_error')\n",
        "grid_search.fit(X_train, Y_train)\n",
        "y_hat = grid_search.best_estimator_.predict(X_test)\n",
        "\n",
        "print(grid_search.cv_results_.get('mean_test_score'))\n",
        "\n",
        "print(\"GridSearchCV best lambda:\", grid_search.best_params_['lmb'])\n",
        "print(\"GridSearchCV best CV MSE:\", -grid_search.best_score_)\n",
        "print(\"GridSearchCV best CV MSE (test set):\", mean_squared_error(Y_test, y_hat))\n",
        "\n",
        "model_linear_reg = myLinearRegression_multiD()\n",
        "Y_prediction = model_linear_reg.fit(X_train, Y_train).predict(X_test)\n",
        "\n",
        "print(f\"MSE of linear model (test set): {mean_squared_error(Y_test, Y_prediction)}\")"
      ],
      "metadata": {
        "colab": {
          "base_uri": "https://localhost:8080/"
        },
        "id": "WCsA58vnUEUx",
        "outputId": "01dbc919-b8f1-43b7-fad0-8d20bf140c91"
      },
      "execution_count": null,
      "outputs": [
        {
          "output_type": "stream",
          "name": "stdout",
          "text": [
            "[-1177.58732503  -776.92538132 -1599.45163864  -964.60537742\n",
            "  -905.78486642 -6483.98248485 -1946.65329188]\n",
            "GridSearchCV best lambda: 0.001\n",
            "GridSearchCV best CV MSE: 776.9253813216634\n",
            "GridSearchCV best CV MSE (test set): 183.64694554387583\n",
            "MSE of linear model (test set): 0.5558915986959397\n"
          ]
        }
      ]
    },
    {
      "cell_type": "markdown",
      "source": [
        "* c) Find \"best\" parameter lambda using `RandomizedSearchCV` (your implementation of `myRidgeRegression_multiD()` may require modification), search for it using uniform(0,5) distr., `cv=5` and `n_iter=100`. Compare model with best $\\lambda$ found this way with previous models.\n"
      ],
      "metadata": {
        "id": "2cOF3XO-VLvd"
      }
    },
    {
      "cell_type": "code",
      "source": [
        "lambda_dist = {'lmb': uniform(0, 5)}\n",
        "model_3 = myRidgeRegression_multiD(lr=0.01, n_epochs=1000)\n",
        "\n",
        "random_search = RandomizedSearchCV(model_3, lambda_dist, cv=5, scoring='neg_mean_squared_error',\n",
        "                                   n_iter=100, random_state=42)\n",
        "random_search.fit(X_train, Y_train)\n",
        "\n",
        "print(\"RandomizedSearchCV best lambda:\", random_search.best_params_['lmb'])\n",
        "print(\"RandomizedSearchCV best CV MSE:\", -random_search.best_score_)\n",
        "\n",
        "Y_hat = random_search.best_estimator_.predict(X_test)\n",
        "\n",
        "print(\"RandomizedSearchCV best CV MSE (test set):\", mean_squared_error(Y_test, Y_hat))"
      ],
      "metadata": {
        "colab": {
          "base_uri": "https://localhost:8080/"
        },
        "id": "_nYP7m19VQZf",
        "outputId": "c40de82c-1d2a-4c04-9564-b4d5b881dc0b"
      },
      "execution_count": null,
      "outputs": [
        {
          "output_type": "stream",
          "name": "stdout",
          "text": [
            "RandomizedSearchCV best lambda: 3.64803089169032\n",
            "RandomizedSearchCV best CV MSE: 23.379386547376328\n",
            "RandomizedSearchCV best CV MSE (test set): 171.71651713502385\n"
          ]
        }
      ]
    },
    {
      "cell_type": "markdown",
      "source": [
        "# Q2.3 (**10 pts**)\n",
        "Consider matrix $Z$:\n",
        "\n",
        "```python\n",
        "d=15\n",
        "n=11\n",
        "Z = torch.randint(0,10,(n,d))\n",
        "print(Z)\n",
        "```\n",
        "\n",
        " $$dist_{Frob}(\\mathbf{Z},\\mathbf{W}\\mathbf{H})=||\\mathbf{Z}-\\mathbf{W}\\mathbf{H}||^2=\\sum_{i,j} (\\mathbf{Z}[i,j] -(\\mathbf{W}\\mathbf{H})[i,j])^2$$\n",
        "\n",
        "A)\n",
        "* Perform Truncated SVD, i.e., decompose $\\mathbf{Z}=\\mathbf{U}\\mathbf{\\Lambda}^{1\\over 2} \\mathbf{V}^T$, denote $\\mathbf{W}=\\mathbf{U}, \\mathbf{H}=\\mathbf{\\Lambda}^{1\\over 2} \\mathbf{V}^T$. Then approximate $\\mathbf{Z}$ by $\\mathbf{Z}_r=\\mathbf{W}_r \\mathbf{H}_r$. Compare with SGD/Adam methods for various values of $r$. What are the conclusions?"
      ],
      "metadata": {
        "id": "j3LKYGN8Wwom"
      }
    },
    {
      "cell_type": "code",
      "source": [
        "d = 15\n",
        "n = 11\n",
        "Z = torch.randint(0, 10, (n, d), dtype=torch.float32)\n",
        "\n",
        "W, Lmb, V = torch.svd(Z)\n",
        "H = torch.matmul(torch.diag(Lmb), V.T)\n",
        "# print(\"Z Shape: \", Z.shape)\n",
        "# print(\"H Shape: \", H.shape)\n",
        "# print(\"U Shape: \", W.shape)\n",
        "# print(\"V Shape: \", V.shape)"
      ],
      "metadata": {
        "id": "iYgUYFZRW6Ie"
      },
      "execution_count": null,
      "outputs": []
    },
    {
      "cell_type": "code",
      "source": [
        "def greater_than_half(torch_Matrix):\n",
        "    with torch.no_grad():\n",
        "        elements_to_fix = torch_Matrix < 0.5\n",
        "        torch_Matrix[elements_to_fix] = 0.501\n",
        "    return torch_Matrix"
      ],
      "metadata": {
        "id": "r8JAm137uXE9"
      },
      "execution_count": null,
      "outputs": []
    },
    {
      "cell_type": "code",
      "source": [
        "class Recovering:\n",
        "\n",
        "    def __init__(self, lr=0.06, n_epochs=500, optimizer_name=\"Adam\",device=None):\n",
        "        self.lr = lr\n",
        "        self.n_epochs = n_epochs\n",
        "        self.optimizer_name = optimizer_name\n",
        "        self.W_r = None\n",
        "        self.H_r = None\n",
        "        self.device = device if device is not None else torch.device(\"cpu\")\n",
        "        self.loss_list = []\n",
        "\n",
        "    def fit(self, Z, r, dist_pow, verbose=True):\n",
        "        self.loss_list = []\n",
        "\n",
        "        W_r = torch.randn((Z.shape[0], r), requires_grad=True, dtype=torch.float, device=self.device)\n",
        "        H_r = torch.randn((r, Z.shape[1]), requires_grad=True, dtype=torch.float, device=self.device)\n",
        "\n",
        "        if self.optimizer_name.lower() == \"sgd\":\n",
        "            optimizer = torch.optim.SGD([W_r, H_r], lr=self.lr)\n",
        "        elif self.optimizer_name.lower() == \"adam\":\n",
        "            optimizer = torch.optim.Adam([W_r, H_r], lr=self.lr)\n",
        "        else:\n",
        "            raise ValueError(\"Unsupported optimizer. Choose 'SGD' or 'Adam'.\")\n",
        "\n",
        "        for epoch in range(self.n_epochs):\n",
        "\n",
        "            loss = torch.mean(torch.pow(Z - torch.matmul(W_r, H_r), dist_pow))\n",
        "\n",
        "            loss.backward()\n",
        "\n",
        "            optimizer.step()\n",
        "            optimizer.zero_grad()\n",
        "\n",
        "            if epoch % 10 == 0:\n",
        "                self.loss_list.append(loss.item())\n",
        "                if verbose:\n",
        "                    print(f\"Epoch {epoch}: loss = {loss.item():.4f}\")\n",
        "\n",
        "        self.W_r = W_r\n",
        "        self.H_r = H_r\n",
        "\n",
        "    def fit_H_greater_than_half(self, Z, r, dist_pow, verbose=True):\n",
        "        self.loss_list = []\n",
        "\n",
        "        W_r = torch.randn((Z.shape[0], r), requires_grad=True, dtype=torch.float, device=self.device)\n",
        "        H_r = torch.randn((r, Z.shape[1]), requires_grad=True, dtype=torch.float, device=self.device)\n",
        "\n",
        "        if self.optimizer_name.lower() == \"sgd\":\n",
        "            optimizer = torch.optim.SGD([W_r, H_r], lr=self.lr)\n",
        "        elif self.optimizer_name.lower() == \"adam\":\n",
        "            optimizer = torch.optim.Adam([W_r, H_r], lr=self.lr)\n",
        "        else:\n",
        "            raise ValueError(\"Unsupported optimizer. Choose 'SGD' or 'Adam'.\")\n",
        "\n",
        "        for epoch in range(self.n_epochs):\n",
        "            H2_r = greater_than_half(H_r)\n",
        "\n",
        "            loss = torch.mean(torch.pow(Z - torch.matmul(W_r, H2_r), dist_pow))\n",
        "\n",
        "            loss.backward()\n",
        "\n",
        "            optimizer.step()\n",
        "            optimizer.zero_grad()\n",
        "\n",
        "            if epoch % 10 == 0:\n",
        "                self.loss_list.append(loss.item())\n",
        "                if verbose:\n",
        "                    print(f\"Epoch {epoch}: loss = {loss.item():.4f}\")\n",
        "\n",
        "        self.W_r = W_r\n",
        "        self.H_r = greater_than_half(H_r)\n",
        "\n",
        "    def fit_nonnegativeW(self, Z, r, dist_pow, verbose=True):\n",
        "        self.loss_list = []\n",
        "\n",
        "        W_r = torch.randn((Z.shape[0], r), requires_grad=True, dtype=torch.float, device=self.device)\n",
        "        H_r = torch.randn((r, Z.shape[1]), requires_grad=True, dtype=torch.float, device=self.device)\n",
        "\n",
        "        if self.optimizer_name.lower() == \"sgd\":\n",
        "            optimizer = torch.optim.SGD([W_r, H_r], lr=self.lr)\n",
        "        elif self.optimizer_name.lower() == \"adam\":\n",
        "            optimizer = torch.optim.Adam([W_r, H_r], lr=self.lr)\n",
        "        else:\n",
        "            raise ValueError(\"Unsupported optimizer. Choose 'SGD' or 'Adam'.\")\n",
        "\n",
        "        for epoch in range(self.n_epochs):\n",
        "            W2_r = torch.exp(W_r)\n",
        "\n",
        "            loss = torch.mean(torch.pow(Z - torch.matmul(W2_r, H_r), dist_pow))\n",
        "\n",
        "            loss.backward()\n",
        "\n",
        "            optimizer.step()\n",
        "            optimizer.zero_grad()\n",
        "\n",
        "            if epoch % 10 == 0:\n",
        "                self.loss_list.append(loss.item())\n",
        "                if verbose:\n",
        "                    print(f\"Epoch {epoch}: loss = {loss.item():.4f}\")\n",
        "\n",
        "        self.W_r = torch.exp(W_r)\n",
        "        self.H_r = H_r\n",
        "\n",
        "    def get_recovered_Z(self):\n",
        "        return torch.matmul(self.W_r, self.H_r)"
      ],
      "metadata": {
        "id": "CMDdtt1DXDQB"
      },
      "execution_count": null,
      "outputs": []
    },
    {
      "cell_type": "code",
      "source": [
        "Z_np = Z.detach().numpy()\n",
        "\n",
        "Rdist2 = Recovering(lr=0.02, n_epochs=1000)\n",
        "loss_dic_dist2 = {}\n",
        "loss_dic_sklearn = {}\n",
        "variances = {}\n",
        "\n",
        "for r in range(1, 12):\n",
        "    # Adam method\n",
        "    Rdist2.fit(Z, r, dist_pow=2, verbose=False)\n",
        "    loss_dic_dist2[r] = Rdist2.loss_list[-1]\n",
        "    variances[r] = explained_variance_score(Z_np, Rdist2.get_recovered_Z().detach().numpy())\n",
        "\n",
        "    # Truncated SVD sklearn\n",
        "    svd_model = TruncatedSVD(n_components=r)\n",
        "    W_r =  svd_model.fit_transform(Z_np)\n",
        "    H_r = svd_model.components_\n",
        "    Z_r = W_r @ H_r\n",
        "    loss_dic_sklearn[r] = np.mean((Z_np - Z_r) ** 2)\n",
        "\n",
        "    print(f\" (sklearn) The loss for r = {r} = {loss_dic_sklearn[r]}\")\n",
        "\n",
        "    print(f\" (Adam)    The loss for r = {r} = {Rdist2.loss_list[-1]}\")\n",
        "    print(f\"Explained variance: {variances[r]}\")\n",
        "    print(\"  \")\n",
        "\n",
        "plt.plot(loss_dic_dist2.keys(), loss_dic_dist2.values(), label=\"power = 2 (Frob)\")\n",
        "plt.plot(loss_dic_sklearn.keys(), loss_dic_sklearn.values(), label=\"Sklearn\", linestyle='--')\n",
        "plt.title(\"Value of loss for various r\")\n",
        "plt.legend()\n",
        "plt.show()"
      ],
      "metadata": {
        "colab": {
          "base_uri": "https://localhost:8080/",
          "height": 1000
        },
        "id": "KbV1YHJ0XUYW",
        "outputId": "1508fdba-9ac5-4f66-e636-949c982138df"
      },
      "execution_count": null,
      "outputs": [
        {
          "output_type": "stream",
          "name": "stdout",
          "text": [
            " (sklearn) The loss for r = 1 = 6.99549674987793\n",
            " (Adam)    The loss for r = 1 = 6.99549674987793\n",
            "Explained variance: 0.06583891063928604\n",
            "  \n",
            " (sklearn) The loss for r = 2 = 4.901149749755859\n",
            " (Adam)    The loss for r = 2 = 4.901149272918701\n",
            "Explained variance: 0.29928120970726013\n",
            "  \n",
            " (sklearn) The loss for r = 3 = 3.602670431137085\n",
            " (Adam)    The loss for r = 3 = 3.602778434753418\n",
            "Explained variance: 0.4882891774177551\n",
            "  \n",
            " (sklearn) The loss for r = 4 = 2.538999557495117\n",
            " (Adam)    The loss for r = 4 = 2.540583372116089\n",
            "Explained variance: 0.6444584131240845\n",
            "  \n",
            " (sklearn) The loss for r = 5 = 1.6703578233718872\n",
            " (Adam)    The loss for r = 5 = 1.6703578233718872\n",
            "Explained variance: 0.7573608160018921\n",
            "  \n",
            " (sklearn) The loss for r = 6 = 1.086913824081421\n",
            " (Adam)    The loss for r = 6 = 1.0869473218917847\n",
            "Explained variance: 0.8268557786941528\n",
            "  \n",
            " (sklearn) The loss for r = 7 = 0.6770666837692261\n",
            " (Adam)    The loss for r = 7 = 0.6772154569625854\n",
            "Explained variance: 0.8910669684410095\n",
            "  \n",
            " (sklearn) The loss for r = 8 = 0.34655821323394775\n",
            " (Adam)    The loss for r = 8 = 0.34663593769073486\n",
            "Explained variance: 0.9432588219642639\n",
            "  \n",
            " (sklearn) The loss for r = 9 = 0.09034331142902374\n",
            " (Adam)    The loss for r = 9 = 0.0903434231877327\n",
            "Explained variance: 0.9842157363891602\n",
            "  \n",
            " (sklearn) The loss for r = 10 = 0.026835886761546135\n",
            " (Adam)    The loss for r = 10 = 0.02778967097401619\n",
            "Explained variance: 0.994973361492157\n",
            "  \n",
            " (sklearn) The loss for r = 11 = 5.010931340004854e-12\n",
            " (Adam)    The loss for r = 11 = 0.0007784306071698666\n",
            "Explained variance: 0.9998943209648132\n",
            "  \n"
          ]
        },
        {
          "output_type": "display_data",
          "data": {
            "text/plain": [
              "<Figure size 640x480 with 1 Axes>"
            ],
            "image/png": "[encoded data removed]"
          },
          "metadata": {}
        }
      ]
    },
    {
      "cell_type": "code",
      "source": [
        "plt.plot(variances.keys(), variances.values(), marker = 'o')\n",
        "plt.title(\"Explained variance\")\n",
        "plt.show()"
      ],
      "metadata": {
        "colab": {
          "base_uri": "https://localhost:8080/",
          "height": 452
        },
        "id": "fQvXEVdkDYKK",
        "outputId": "de44d7a5-6412-4c0f-a922-d65d8e195094"
      },
      "execution_count": null,
      "outputs": [
        {
          "output_type": "display_data",
          "data": {
            "text/plain": [
              "<Figure size 640x480 with 1 Axes>"
            ],
            "image/png": "[encoded data removed]"
          },
          "metadata": {}
        }
      ]
    },
    {
      "cell_type": "markdown",
      "source": [
        "* Consider different distance\n",
        " $$dist_{4}(\\mathbf{Z},\\mathbf{W}\\mathbf{H})=\\sum_{i,j} (\\mathbf{Z}[i,j] -(\\mathbf{W}\\mathbf{H})[i,j])^4$$\n",
        " Find \"best\" matrices $\\mathbf{W}, \\mathbf{H}$ using SGD/Adam methods. Compare with distance computed for truncated SVD."
      ],
      "metadata": {
        "id": "A1aDixUEaXe4"
      }
    },
    {
      "cell_type": "code",
      "source": [
        "Rdist4 = Recovering(lr=0.02, n_epochs=1000)\n",
        "loss_dic_dist4 = {}\n",
        "variance_dist4 = {}\n",
        "\n",
        "for r in range(1, 12):\n",
        "    Rdist4.fit(Z, r, dist_pow=4, verbose=False)\n",
        "    loss_dic_dist4[r] = Rdist4.loss_list[-1]\n",
        "    variance_dist4[r] = explained_variance_score(Z_np, Rdist4.get_recovered_Z().detach().numpy())\n",
        "    print(f\"The loss for r = {r} = {Rdist4.loss_list[-1]}\")\n",
        "    print(f\"Explained variance: {variance_dist4[r]}\")\n",
        "    print(\"  \")\n",
        "\n",
        "\n",
        "plt.plot(loss_dic_dist2.keys(), loss_dic_dist2.values(), label=r'$\\text{dist}_2$')\n",
        "plt.plot(loss_dic_dist4.keys(), loss_dic_dist4.values(), label=r'$\\text{dist}_4$')\n",
        "plt.title(r'Comparison of value of loss with $dist_2$ and $dist_4$ for various r')\n",
        "plt.legend()\n",
        "plt.show()"
      ],
      "metadata": {
        "colab": {
          "base_uri": "https://localhost:8080/",
          "height": 1000
        },
        "id": "YsTbn3jUXfKv",
        "outputId": "326c9d9a-d478-402b-82f0-d80285bb2af6"
      },
      "execution_count": null,
      "outputs": [
        {
          "output_type": "stream",
          "name": "stdout",
          "text": [
            "The loss for r = 1 = 93.15359497070312\n",
            "Explained variance: 0.047126397490501404\n",
            "  \n",
            "The loss for r = 2 = 66.6386489868164\n",
            "Explained variance: 0.19285351037979126\n",
            "  \n",
            "The loss for r = 3 = 27.796613693237305\n",
            "Explained variance: 0.41237619519233704\n",
            "  \n",
            "The loss for r = 4 = 15.629448890686035\n",
            "Explained variance: 0.5551193952560425\n",
            "  \n",
            "The loss for r = 5 = 11.26552963256836\n",
            "Explained variance: 0.613560676574707\n",
            "  \n",
            "The loss for r = 6 = 4.52445125579834\n",
            "Explained variance: 0.7458803057670593\n",
            "  \n",
            "The loss for r = 7 = 4.349696636199951\n",
            "Explained variance: 0.7505562901496887\n",
            "  \n",
            "The loss for r = 8 = 1.6603676080703735\n",
            "Explained variance: 0.8474588394165039\n",
            "  \n",
            "The loss for r = 9 = 1.4653836488723755\n",
            "Explained variance: 0.8478644490242004\n",
            "  \n",
            "The loss for r = 10 = 0.7575218677520752\n",
            "Explained variance: 0.8943228125572205\n",
            "  \n",
            "The loss for r = 11 = 0.2963311970233917\n",
            "Explained variance: 0.935966432094574\n",
            "  \n"
          ]
        },
        {
          "output_type": "display_data",
          "data": {
            "text/plain": [
              "<Figure size 640x480 with 1 Axes>"
            ],
            "image/png": "[encoded data removed]"
          },
          "metadata": {}
        }
      ]
    },
    {
      "cell_type": "markdown",
      "source": [
        "B)\n",
        "* Approximate the same  $\\mathbf{Z}$ as\n",
        "$$\\mathbf{Z}\\approx \\mathbf{W}\\mathbf{H}$$\n",
        "where $\\mathbf{W}$ is of size $n\\times r$ and $\\mathbf{H}$ is of size $r\\times d$ (fix some $r<d$) so that\n",
        "* a) $\\mathbf{W}$ is a symmetric matrix\n",
        "* b) $\\mathbf{W}$ is a symmetric matrix with nonnegative entries\n",
        "* c) $\\mathbf{W}$ is symmetric and each entry of $\\mathbf{H}$ is at least 0.5"
      ],
      "metadata": {
        "id": "VE8XNKQ1b1C8"
      }
    },
    {
      "cell_type": "code",
      "source": [
        "Rb = Recovering(lr=0.02, n_epochs=1000)\n",
        "for r in range(1, 9):\n",
        "    Rb.fit_nonnegativeW(Z, r, dist_pow=2, verbose=False)\n",
        "    print(f\" The loss for r = {r} = {Rb.loss_list[-1]}\")"
      ],
      "metadata": {
        "colab": {
          "base_uri": "https://localhost:8080/"
        },
        "id": "mNlibJMyb2DI",
        "outputId": "db05c34f-cd91-4449-dd0b-1cad65581389"
      },
      "execution_count": null,
      "outputs": [
        {
          "output_type": "stream",
          "name": "stdout",
          "text": [
            " The loss for r = 1 = 6.99549674987793\n",
            " The loss for r = 2 = 4.903521537780762\n",
            " The loss for r = 3 = 3.702287197113037\n",
            " The loss for r = 4 = 2.5404720306396484\n",
            " The loss for r = 5 = 1.6704578399658203\n",
            " The loss for r = 6 = 1.0948641300201416\n",
            " The loss for r = 7 = 0.7166697978973389\n",
            " The loss for r = 8 = 0.35017403960227966\n"
          ]
        }
      ]
    },
    {
      "cell_type": "code",
      "source": [
        "print(f\"Z matrix: {Z}\")\n",
        "print(f\"Recovered Z matrix: {Rb.get_recovered_Z()}\")\n",
        "print(f\"Nonnegative elements of W_r matrix: {Rb.W_r > 0}\")"
      ],
      "metadata": {
        "colab": {
          "base_uri": "https://localhost:8080/"
        },
        "id": "MKDzRq6Huykh",
        "outputId": "3567ba2d-e49d-4973-a07e-ffef24c28341"
      },
      "execution_count": null,
      "outputs": [
        {
          "output_type": "stream",
          "name": "stdout",
          "text": [
            "Z matrix: tensor([[9., 9., 8., 4., 1., 6., 7., 9., 4., 8., 1., 3., 2., 1., 7.],\n",
            "        [9., 8., 8., 4., 8., 7., 6., 2., 2., 5., 0., 3., 4., 0., 8.],\n",
            "        [9., 8., 3., 5., 2., 8., 8., 7., 8., 2., 7., 7., 6., 5., 0.],\n",
            "        [5., 3., 3., 6., 8., 0., 7., 8., 0., 7., 9., 4., 1., 1., 5.],\n",
            "        [5., 7., 3., 2., 2., 4., 5., 6., 0., 2., 2., 8., 6., 8., 7.],\n",
            "        [4., 3., 5., 3., 1., 7., 6., 7., 4., 6., 8., 2., 4., 6., 2.],\n",
            "        [2., 5., 4., 4., 3., 3., 8., 5., 9., 4., 8., 1., 6., 9., 0.],\n",
            "        [1., 1., 2., 1., 4., 9., 3., 7., 9., 2., 9., 5., 0., 5., 6.],\n",
            "        [4., 7., 7., 3., 4., 2., 7., 9., 9., 0., 8., 8., 2., 8., 5.],\n",
            "        [2., 4., 1., 8., 9., 2., 7., 0., 5., 0., 3., 7., 4., 2., 8.],\n",
            "        [2., 8., 5., 4., 5., 3., 3., 2., 0., 0., 7., 1., 8., 4., 0.]])\n",
            "Recovered Z matrix: tensor([[ 1.0010e+01,  8.4097e+00,  8.4851e+00,  3.1861e+00,  1.7380e+00,\n",
            "          5.8939e+00,  7.0698e+00,  8.6266e+00,  3.8631e+00,  7.8010e+00,\n",
            "          1.0872e+00,  3.3037e+00,  1.6507e+00,  1.4236e+00,  6.4386e+00],\n",
            "        [ 8.1192e+00,  8.5317e+00,  7.6864e+00,  5.0089e+00,  7.2308e+00,\n",
            "          7.0988e+00,  5.6810e+00,  2.3503e+00,  2.1240e+00,  5.1238e+00,\n",
            "         -1.7072e-03,  2.8073e+00,  4.2789e+00, -4.4692e-01,  8.4759e+00],\n",
            "        [ 8.3370e+00,  7.4780e+00,  2.6178e+00,  5.3120e+00,  1.4837e+00,\n",
            "          8.0374e+00,  8.8392e+00,  6.6425e+00,  8.0546e+00,  2.8995e+00,\n",
            "          6.3167e+00,  6.6132e+00,  6.5098e+00,  5.7520e+00,  6.3087e-01],\n",
            "        [ 4.4987e+00,  2.6993e+00,  2.9906e+00,  6.2677e+00,  7.5389e+00,\n",
            "          1.0638e-01,  7.5977e+00,  7.8204e+00, -6.6875e-02,  7.2930e+00,\n",
            "          8.7375e+00,  3.8612e+00,  1.2505e+00,  1.2013e+00,  5.3539e+00],\n",
            "        [ 5.2876e+00,  7.5122e+00,  3.6129e+00,  2.0431e+00,  2.0928e+00,\n",
            "          4.1011e+00,  4.3642e+00,  6.3916e+00, -1.8170e-01,  9.2415e-01,\n",
            "          2.7871e+00,  8.4403e+00,  5.5381e+00,  6.9643e+00,  6.5077e+00],\n",
            "        [ 4.4069e+00,  4.2033e+00,  4.4675e+00,  2.3116e+00,  1.7890e+00,\n",
            "          6.8491e+00,  5.0795e+00,  7.7087e+00,  4.2163e+00,  5.4203e+00,\n",
            "          8.4878e+00,  1.9704e+00,  3.6893e+00,  5.2097e+00,  1.5815e+00],\n",
            "        [ 2.4761e+00,  5.7768e+00,  5.1179e+00,  4.1333e+00,  3.1104e+00,\n",
            "          3.1794e+00,  6.9633e+00,  5.6040e+00,  8.6746e+00,  2.2041e+00,\n",
            "          9.3014e+00,  1.7712e+00,  5.2168e+00,  7.3031e+00, -8.3690e-01],\n",
            "        [ 1.0294e+00,  3.7512e-01,  2.2452e+00,  1.1666e+00,  3.8186e+00,\n",
            "          9.0168e+00,  3.3468e+00,  6.6223e+00,  8.9237e+00,  2.2906e+00,\n",
            "          8.7584e+00,  5.0409e+00,  9.0854e-02,  5.4843e+00,  6.0935e+00],\n",
            "        [ 3.2447e+00,  6.7754e+00,  6.0653e+00,  3.4050e+00,  3.5638e+00,\n",
            "          1.9238e+00,  7.5035e+00,  8.7806e+00,  9.2955e+00,  1.2814e+00,\n",
            "          7.1243e+00,  7.3774e+00,  2.6641e+00,  8.9199e+00,  5.7961e+00],\n",
            "        [ 2.8869e+00,  4.3166e+00,  1.2160e+00,  7.0692e+00,  9.8834e+00,\n",
            "          1.9004e+00,  6.5769e+00,  1.9589e-01,  4.9413e+00, -7.0174e-01,\n",
            "          3.4772e+00,  7.2839e+00,  3.5122e+00,  1.6176e+00,  7.3150e+00],\n",
            "        [ 2.0359e+00,  6.8973e+00,  4.7052e+00,  3.8209e+00,  5.0109e+00,\n",
            "          2.8736e+00,  3.8927e+00,  1.2514e+00,  9.3134e-02,  1.1981e+00,\n",
            "          6.0894e+00,  6.8393e-01,  8.4107e+00,  5.4781e+00,  3.8664e-01]],\n",
            "       grad_fn=<MmBackward0>)\n",
            "Nonnegative elements of W_r matrix: tensor([[True, True, True, True, True, True, True, True],\n",
            "        [True, True, True, True, True, True, True, True],\n",
            "        [True, True, True, True, True, True, True, True],\n",
            "        [True, True, True, True, True, True, True, True],\n",
            "        [True, True, True, True, True, True, True, True],\n",
            "        [True, True, True, True, True, True, True, True],\n",
            "        [True, True, True, True, True, True, True, True],\n",
            "        [True, True, True, True, True, True, True, True],\n",
            "        [True, True, True, True, True, True, True, True],\n",
            "        [True, True, True, True, True, True, True, True],\n",
            "        [True, True, True, True, True, True, True, True]])\n"
          ]
        }
      ]
    },
    {
      "cell_type": "code",
      "source": [
        "Rc = Recovering(lr=0.02, n_epochs=1000)\n",
        "for r in range(1, 9):\n",
        "    Rc.fit_H_greater_than_half(Z, r, dist_pow=2, verbose=False)\n",
        "    print(f\" The loss for r = {r} = {Rc.loss_list[-1]}\")"
      ],
      "metadata": {
        "colab": {
          "base_uri": "https://localhost:8080/"
        },
        "id": "Xb6h-Z-BvNH2",
        "outputId": "54367881-2dac-449e-d586-3529f9645955"
      },
      "execution_count": null,
      "outputs": [
        {
          "output_type": "stream",
          "name": "stdout",
          "text": [
            " The loss for r = 1 = 6.995495796203613\n",
            " The loss for r = 2 = 4.901278018951416\n",
            " The loss for r = 3 = 3.828078508377075\n",
            " The loss for r = 4 = 2.5461373329162598\n",
            " The loss for r = 5 = 1.6769355535507202\n",
            " The loss for r = 6 = 1.1150555610656738\n",
            " The loss for r = 7 = 0.6783596277236938\n",
            " The loss for r = 8 = 0.35245779156684875\n"
          ]
        }
      ]
    },
    {
      "cell_type": "code",
      "source": [
        "print(f\"Z matrix: {Z}\")\n",
        "print(f\"Recovered Z matrix: {Rc.get_recovered_Z()}\")\n",
        "print(f\"Elements greater than 0.5 in W_8 matrix: {Rc.H_r > 0.5}\")"
      ],
      "metadata": {
        "colab": {
          "base_uri": "https://localhost:8080/"
        },
        "id": "-schuGJevazF",
        "outputId": "a22f6cba-67d7-4da5-889d-a273b1185f8e"
      },
      "execution_count": null,
      "outputs": [
        {
          "output_type": "stream",
          "name": "stdout",
          "text": [
            "Z matrix: tensor([[9., 9., 8., 4., 1., 6., 7., 9., 4., 8., 1., 3., 2., 1., 7.],\n",
            "        [9., 8., 8., 4., 8., 7., 6., 2., 2., 5., 0., 3., 4., 0., 8.],\n",
            "        [9., 8., 3., 5., 2., 8., 8., 7., 8., 2., 7., 7., 6., 5., 0.],\n",
            "        [5., 3., 3., 6., 8., 0., 7., 8., 0., 7., 9., 4., 1., 1., 5.],\n",
            "        [5., 7., 3., 2., 2., 4., 5., 6., 0., 2., 2., 8., 6., 8., 7.],\n",
            "        [4., 3., 5., 3., 1., 7., 6., 7., 4., 6., 8., 2., 4., 6., 2.],\n",
            "        [2., 5., 4., 4., 3., 3., 8., 5., 9., 4., 8., 1., 6., 9., 0.],\n",
            "        [1., 1., 2., 1., 4., 9., 3., 7., 9., 2., 9., 5., 0., 5., 6.],\n",
            "        [4., 7., 7., 3., 4., 2., 7., 9., 9., 0., 8., 8., 2., 8., 5.],\n",
            "        [2., 4., 1., 8., 9., 2., 7., 0., 5., 0., 3., 7., 4., 2., 8.],\n",
            "        [2., 8., 5., 4., 5., 3., 3., 2., 0., 0., 7., 1., 8., 4., 0.]])\n",
            "Recovered Z matrix: tensor([[ 1.0076e+01,  8.4080e+00,  8.4341e+00,  3.1501e+00,  1.7588e+00,\n",
            "          5.9629e+00,  7.1115e+00,  8.6558e+00,  3.7951e+00,  7.6597e+00,\n",
            "          1.1568e+00,  3.3682e+00,  1.6410e+00,  1.3300e+00,  6.3797e+00],\n",
            "        [ 8.0535e+00,  8.5397e+00,  7.7809e+00,  4.8930e+00,  7.2491e+00,\n",
            "          7.0962e+00,  5.8215e+00,  2.3388e+00,  2.1107e+00,  5.0521e+00,\n",
            "          6.1433e-03,  2.7926e+00,  4.2610e+00, -4.7267e-01,  8.4823e+00],\n",
            "        [ 8.1267e+00,  7.4342e+00,  2.8019e+00,  5.4420e+00,  1.4042e+00,\n",
            "          7.8261e+00,  8.7777e+00,  6.5668e+00,  8.2308e+00,  3.2645e+00,\n",
            "          6.1353e+00,  6.3741e+00,  6.5449e+00,  6.0396e+00,  8.0274e-01],\n",
            "        [ 4.5025e+00,  2.7767e+00,  3.0790e+00,  6.4237e+00,  7.5530e+00,\n",
            "          1.6856e-03,  7.2999e+00,  7.8545e+00,  3.4857e-02,  7.3000e+00,\n",
            "          8.7529e+00,  3.8241e+00,  1.2217e+00,  1.2600e+00,  5.3666e+00],\n",
            "        [ 5.2697e+00,  7.4222e+00,  3.3883e+00,  2.1152e+00,  2.0206e+00,\n",
            "          4.2147e+00,  4.4311e+00,  6.3251e+00, -2.0844e-01,  1.1223e+00,\n",
            "          2.7028e+00,  8.4733e+00,  5.6371e+00,  7.0461e+00,  6.5402e+00],\n",
            "        [ 4.4822e+00,  4.0995e+00,  4.1927e+00,  2.4573e+00,  1.6869e+00,\n",
            "          6.9406e+00,  5.1567e+00,  7.6630e+00,  4.2259e+00,  5.5576e+00,\n",
            "          8.3896e+00,  2.1103e+00,  3.7459e+00,  5.1996e+00,  1.5638e+00],\n",
            "        [ 2.6454e+00,  5.7422e+00,  4.9086e+00,  4.1011e+00,  3.1190e+00,\n",
            "          3.4329e+00,  6.9074e+00,  5.6155e+00,  8.5385e+00,  2.0878e+00,\n",
            "          9.4187e+00,  1.9768e+00,  5.2694e+00,  7.1566e+00, -9.4713e-01],\n",
            "        [ 8.8803e-01,  3.4632e-01,  2.3378e+00,  1.1587e+00,  3.7885e+00,\n",
            "          8.9644e+00,  3.4606e+00,  6.5788e+00,  8.9289e+00,  2.4135e+00,\n",
            "          8.6950e+00,  4.9528e+00,  1.1572e-01,  5.5760e+00,  6.1574e+00],\n",
            "        [ 3.2947e+00,  6.9428e+00,  6.3261e+00,  3.2115e+00,  3.7065e+00,\n",
            "          1.8091e+00,  7.4587e+00,  8.8876e+00,  9.2867e+00,  9.7211e-01,\n",
            "          7.2725e+00,  7.3548e+00,  2.5017e+00,  8.7386e+00,  5.7116e+00],\n",
            "        [ 2.9691e+00,  4.2252e+00,  1.0317e+00,  7.1919e+00,  9.8110e+00,\n",
            "          1.9963e+00,  6.5459e+00,  1.6400e-01,  4.9215e+00, -6.1163e-01,\n",
            "          3.4398e+00,  7.4101e+00,  3.5729e+00,  1.6187e+00,  7.2980e+00],\n",
            "        [ 1.9436e+00,  6.9777e+00,  4.8935e+00,  3.6973e+00,  5.0659e+00,\n",
            "          2.7318e+00,  3.9248e+00,  1.2773e+00,  1.2400e-01,  1.2217e+00,\n",
            "          6.1028e+00,  6.0031e-01,  8.3382e+00,  5.4702e+00,  4.0178e-01]],\n",
            "       grad_fn=<MmBackward0>)\n",
            "Elements greater than 0.5 in W_8 matrix: tensor([[True, True, True, True, True, True, True, True, True, True, True, True,\n",
            "         True, True, True],\n",
            "        [True, True, True, True, True, True, True, True, True, True, True, True,\n",
            "         True, True, True],\n",
            "        [True, True, True, True, True, True, True, True, True, True, True, True,\n",
            "         True, True, True],\n",
            "        [True, True, True, True, True, True, True, True, True, True, True, True,\n",
            "         True, True, True],\n",
            "        [True, True, True, True, True, True, True, True, True, True, True, True,\n",
            "         True, True, True],\n",
            "        [True, True, True, True, True, True, True, True, True, True, True, True,\n",
            "         True, True, True],\n",
            "        [True, True, True, True, True, True, True, True, True, True, True, True,\n",
            "         True, True, True],\n",
            "        [True, True, True, True, True, True, True, True, True, True, True, True,\n",
            "         True, True, True]])\n"
          ]
        }
      ]
    }
  ]
}