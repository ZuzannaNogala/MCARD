{
  "nbformat": 4,
  "nbformat_minor": 0,
  "metadata": {
    "colab": {
      "provenance": []
    },
    "kernelspec": {
      "name": "python3",
      "display_name": "Python 3"
    },
    "language_info": {
      "name": "python"
    }
  },
  "cells": [
    {
      "cell_type": "markdown",
      "source": [
        "# LIST NR 2: Gradient methods. Automatic differentiation\n",
        "\n",
        "\n",
        "\n"
      ],
      "metadata": {
        "id": "D3o71PfVMTkj"
      }
    },
    {
      "cell_type": "code",
      "execution_count": 37,
      "metadata": {
        "id": "swz0_46DMCGv"
      },
      "outputs": [],
      "source": [
        "import numpy as np\n",
        "import torch\n",
        "from sklearn.base import RegressorMixin, BaseEstimator\n",
        "from sklearn.model_selection import GridSearchCV, RandomizedSearchCV, train_test_split\n",
        "from sklearn.linear_model import LinearRegression\n",
        "from sklearn.metrics import mean_squared_error\n",
        "from sklearn.datasets import fetch_california_housing\n",
        "from scipy.stats import uniform\n",
        "import matplotlib.pyplot as plt"
      ]
    },
    {
      "cell_type": "markdown",
      "source": [
        "# Q2.1 (**10 pts**)\n",
        "* Sample `x_test`, a vector of size 50 of i.i.d $\\mathcal{U}(0,1)$ random variables and similarly compute corresponding\n",
        "\n",
        "$\\qquad$ `y_test = b_true + a_true * x_test + .1 * np.random.randn(nr_points, 1)`"
      ],
      "metadata": {
        "id": "Nwg4pYe7MhP_"
      }
    },
    {
      "cell_type": "code",
      "source": [
        "nr_points = 200\n",
        "np.random.seed(42)\n",
        "\n",
        "x_train = np.random.rand(nr_points, 1)\n",
        "\n",
        "a_true = 2.0\n",
        "b_true = 1.0\n",
        "\n",
        "y_train = b_true + a_true * x_train + .1 * np.random.randn(nr_points, 1)\n",
        "\n",
        "x_test = np.random.rand(50, 1)\n",
        "y_test = b_true + a_true * x_test + .1 * np.random.randn(50, 1)"
      ],
      "metadata": {
        "id": "4s95DBZOMHVc"
      },
      "execution_count": 2,
      "outputs": []
    },
    {
      "cell_type": "markdown",
      "source": [
        "* Take the model (aka `a` and `b`) trained on `(x_train,y_train)` and compute final loss on test set, i.e.,\n",
        "$$\\textrm{loss}_{\\rm final} = {1\\over n}\\sum_{i=1}^{50} (a\\cdot x\\_{test} + b - y_{test})^2$$"
      ],
      "metadata": {
        "id": "lrqGpr06MPPQ"
      }
    },
    {
      "cell_type": "code",
      "source": [
        "LinReg = LinearRegression()\n",
        "LinReg.fit(x_train, y_train)\n",
        "a_est = LinReg.coef_.item()\n",
        "b_est = LinReg.intercept_.item()\n",
        "\n",
        "loss_final = np.mean((a_est * x_test + b_est - y_test) ** 2) # or mean_square_error\n",
        "\n",
        "print(f\"Value of loss_final is {loss_final}.\")"
      ],
      "metadata": {
        "colab": {
          "base_uri": "https://localhost:8080/"
        },
        "id": "F4333djhMq10",
        "outputId": "797cb8fa-1622-47a7-ee00-5b56b2e7c4ef"
      },
      "execution_count": 5,
      "outputs": [
        {
          "output_type": "stream",
          "name": "stdout",
          "text": [
            "Value of loss_final is 0.01199110714351241.\n"
          ]
        }
      ]
    },
    {
      "cell_type": "markdown",
      "source": [
        "* Using SGD or Adam find new $a$ and $b$ minimizing function\n",
        "$$g(a,b)={1\\over n}\\sum_{i=1}^n (\\hat{y}_i-y_i)^2 + \\lambda(a^2+b^2)$$\n",
        "with $\\lambda=0.1$"
      ],
      "metadata": {
        "id": "OWuSuwkCNPMU"
      }
    },
    {
      "cell_type": "code",
      "source": [
        "class TorchLinearRegression1D(RegressorMixin, BaseEstimator):\n",
        "\n",
        "    def __init__(self, lr=0.06, lmb=0, n_epochs=500, optimizer_name=\"Adam\", device=None):\n",
        "        \"\"\"\n",
        "        Initialize the model with hyperparameters.\n",
        "\n",
        "        Parameters:\n",
        "            lr (float): Learning rate.\n",
        "            lmb (float): Penalty value; if lmb = 0, then the standard linear regression is produced\n",
        "            n_epochs (int): Number of training epochs.\n",
        "            optimizer_name (str): Optimizer to use (\"SGD\" or \"Adam\").\n",
        "            device (torch.device): Device to run computations on. Defaults to CPU.\n",
        "        \"\"\"\n",
        "        self.lr = lr\n",
        "        self.lmb = lmb\n",
        "        self.n_epochs = n_epochs\n",
        "        self.optimizer_name = optimizer_name\n",
        "        self.device = device if device is not None else torch.device(\"cpu\")\n",
        "        self.a = None\n",
        "        self.b = None\n",
        "        self.loss_history = []\n",
        "        self.a_history = []\n",
        "        self.b_history = []\n",
        "\n",
        "    def fit(self, x_train, y_train, verbose=False):\n",
        "\n",
        "        x_train_tensor = torch.tensor(np.ravel(x_train), dtype=torch.float32, device=self.device).view(-1, 1)\n",
        "        y_train_tensor = torch.tensor(np.ravel(y_train), dtype=torch.float32, device=self.device).view(-1, 1)\n",
        "\n",
        "        # Initialize parameters a and b randomly, with gradient tracking.\n",
        "        self.a = torch.randn(1, requires_grad=True, dtype=torch.float32, device=self.device)\n",
        "        self.b = torch.randn(1, requires_grad=True, dtype=torch.float32, device=self.device)\n",
        "\n",
        "        if self.optimizer_name.lower() == \"sgd\":\n",
        "            optimizer = torch.optim.SGD([self.a, self.b], lr=self.lr)\n",
        "        elif self.optimizer_name.lower() == \"adam\":\n",
        "            optimizer = torch.optim.Adam([self.a, self.b], lr=self.lr)\n",
        "        else:\n",
        "            raise ValueError(\"Unsupported optimizer. Choose 'SGD' or 'Adam'.\")\n",
        "\n",
        "        # Reset histories\n",
        "        self.loss_history = []\n",
        "        self.a_history = []\n",
        "        self.b_history = []\n",
        "\n",
        "        # Main training loop\n",
        "        for epoch in range(self.n_epochs):\n",
        "\n",
        "            yhat = self.a * x_train_tensor + self.b\n",
        "            error = y_train_tensor - yhat\n",
        "            loss = torch.mean(error ** 2) + self.lmb * (self.a ** 2 + self.b ** 2)\n",
        "\n",
        "            loss.backward()\n",
        "\n",
        "            optimizer.step()\n",
        "            optimizer.zero_grad()\n",
        "\n",
        "            # Record training history every 10 epochs.\n",
        "            if epoch % 10 == 0:\n",
        "                self.loss_history.append(loss.item())\n",
        "                self.a_history.append(self.a.item())\n",
        "                self.b_history.append(self.b.item())\n",
        "                if verbose:\n",
        "                    print(f\"Epoch {epoch}: loss = {loss.item():.4f}\")\n",
        "\n",
        "        return self\n",
        "\n",
        "    def predict(self, x):\n",
        "\n",
        "        x_tensor = torch.tensor(np.ravel(x), dtype=torch.float32, device=self.device).view(-1, 1)\n",
        "        y_prediction = self.a * x_tensor + self.b\n",
        "        return y_prediction.detach().cpu().numpy().flatten()"
      ],
      "metadata": {
        "id": "RBXzsGykNTJu"
      },
      "execution_count": 6,
      "outputs": []
    },
    {
      "cell_type": "code",
      "source": [
        "model_LT = TorchLinearRegression1D(lmb=0.1, optimizer_name=\"sgd\")\n",
        "model_LT.fit(x_train, y_train, verbose=True)\n",
        "\n",
        "print(f\"The most optimal params a and b for g(a, b) loss function\"\n",
        "      f\" are: a = {float(model_LT.a)}, b = {float(model_LT.b)}.\")"
      ],
      "metadata": {
        "colab": {
          "base_uri": "https://localhost:8080/"
        },
        "id": "LxmqMPHYNp5P",
        "outputId": "adc9d1ee-efba-4038-a6a3-ec381a5d2944"
      },
      "execution_count": 7,
      "outputs": [
        {
          "output_type": "stream",
          "name": "stdout",
          "text": [
            "Epoch 0: loss = 5.0025\n",
            "Epoch 10: loss = 0.5972\n",
            "Epoch 20: loss = 0.4426\n",
            "Epoch 30: loss = 0.4204\n",
            "Epoch 40: loss = 0.4081\n",
            "Epoch 50: loss = 0.3999\n",
            "Epoch 60: loss = 0.3945\n",
            "Epoch 70: loss = 0.3909\n",
            "Epoch 80: loss = 0.3885\n",
            "Epoch 90: loss = 0.3869\n",
            "Epoch 100: loss = 0.3859\n",
            "Epoch 110: loss = 0.3852\n",
            "Epoch 120: loss = 0.3847\n",
            "Epoch 130: loss = 0.3844\n",
            "Epoch 140: loss = 0.3842\n",
            "Epoch 150: loss = 0.3841\n",
            "Epoch 160: loss = 0.3840\n",
            "Epoch 170: loss = 0.3839\n",
            "Epoch 180: loss = 0.3839\n",
            "Epoch 190: loss = 0.3839\n",
            "Epoch 200: loss = 0.3838\n",
            "Epoch 210: loss = 0.3838\n",
            "Epoch 220: loss = 0.3838\n",
            "Epoch 230: loss = 0.3838\n",
            "Epoch 240: loss = 0.3838\n",
            "Epoch 250: loss = 0.3838\n",
            "Epoch 260: loss = 0.3838\n",
            "Epoch 270: loss = 0.3838\n",
            "Epoch 280: loss = 0.3838\n",
            "Epoch 290: loss = 0.3838\n",
            "Epoch 300: loss = 0.3838\n",
            "Epoch 310: loss = 0.3838\n",
            "Epoch 320: loss = 0.3838\n",
            "Epoch 330: loss = 0.3838\n",
            "Epoch 340: loss = 0.3838\n",
            "Epoch 350: loss = 0.3838\n",
            "Epoch 360: loss = 0.3838\n",
            "Epoch 370: loss = 0.3838\n",
            "Epoch 380: loss = 0.3838\n",
            "Epoch 390: loss = 0.3838\n",
            "Epoch 400: loss = 0.3838\n",
            "Epoch 410: loss = 0.3838\n",
            "Epoch 420: loss = 0.3838\n",
            "Epoch 430: loss = 0.3838\n",
            "Epoch 440: loss = 0.3838\n",
            "Epoch 450: loss = 0.3838\n",
            "Epoch 460: loss = 0.3838\n",
            "Epoch 470: loss = 0.3838\n",
            "Epoch 480: loss = 0.3838\n",
            "Epoch 490: loss = 0.3838\n",
            "The most optimal params a and b for g(a, b) loss function are: a = 1.2475669384002686, b = 1.2462921142578125.\n"
          ]
        }
      ]
    },
    {
      "cell_type": "markdown",
      "source": [
        "* Optimize    for `lambda>0` using `GridSearch` or `RandomizedSearch`. For fixed $\\lambda$ find $\\textrm{argmin}_{a,b} g(a,b)$ on the training set, and compute the $\\textrm{loss}_{\\rm final}$ on test set. Choose $\\lambda$ that yields lowest $\\textrm{loss}_{\\rm final}$. Compare with $\\lambda=0$ (i.e., original model)."
      ],
      "metadata": {
        "id": "Ro2BJsU2N0ok"
      }
    },
    {
      "cell_type": "code",
      "source": [
        "lambda_grid = {'lmb': [0.0001, 0.001, 0.01, 0.1, 0.2]}\n",
        "\n",
        "model = TorchLinearRegression1D(lr=0.1, n_epochs=1000)\n",
        "\n",
        "grid_search = GridSearchCV(model, lambda_grid, cv=5, scoring='neg_mean_squared_error')\n",
        "y_hat = grid_search.fit(x_train, y_train).predict(x_test)\n",
        "\n",
        "loss_final_cv = mean_squared_error(y_test, y_hat)\n",
        "\n",
        "model_2 = TorchLinearRegression1D(lr=0.1, lmb=grid_search.best_params_['lmb'], n_epochs=1000, optimizer_name=\"sgd\")\n",
        "model_2.fit(x_train, y_train)\n",
        "\n",
        "\n",
        "print(f\"The best lambda: {grid_search.best_params_['lmb']}, the loss_final: {loss_final_cv}\")\n",
        "print(f\"Then the best parameters a and b are: a = {model_2.a.item()}, b = {model_2.b.item()}\")"
      ],
      "metadata": {
        "colab": {
          "base_uri": "https://localhost:8080/"
        },
        "id": "0270U3DEN4VY",
        "outputId": "635c41a5-a011-4760-986b-f35a5007a8b6"
      },
      "execution_count": 9,
      "outputs": [
        {
          "output_type": "stream",
          "name": "stdout",
          "text": [
            "The best lambda: 0.0001, the loss_final: 0.012030831831220177\n",
            "Then the best parameters a and b are: a = 1.9904531240463257, b = 1.0112613439559937\n"
          ]
        }
      ]
    },
    {
      "cell_type": "markdown",
      "source": [
        "# Q2.2 (**10 pts**)\n",
        "On previous list we considered Ridge Regression for 1d data (exact solution was provided). Now consider Ridge Regresion for multidimensional data:\n",
        "We are given data points\n",
        "$$(\\textbf{x}_1,y_1),\\ldots,(\\textbf{x}_n,y_n)$$\n",
        "where each $x_i \\in \\mathbb{R}^d$, and our goal is to estimate parameters $\\beta_0, \\ldots, \\beta_d$  such that the model\n",
        "$$\n",
        "y = \\beta_0 + \\beta_1 x_1+\\ldots +\\beta_d x_d\n",
        "$$\n",
        "\"best\" fits the data. By \"best\" we mean that the parameters minimize the loss function\n",
        "$$\n",
        "g(\\beta_0,\\beta_1,\\ldots,\\beta_d, \\lambda)=\\sum_{i=1}^n \\Bigl(y_i-(\\beta_0+\\mathbf{x}_i^T \\boldsymbol{\\beta})\\Bigr)^2 +\\lambda\\sum_{i=0}^d \\beta_i^2,\n",
        "$$\n",
        "where $\\boldsymbol{\\beta} = (\\beta_1, \\beta_2, \\ldots, \\beta_d)^T$ and $\\mathbf{x}_i=(x_{i1},\\ldots,x_{id})^T$  and $\\lambda\\geq 0$ is a hyperparamter.\n",
        "* a) Implement multidimensional Ridge Regression `myRidgeRegression_multiD()` using gradient method (note: just form of loss function is needed, make options `sgd` and `adam` available). Preferred: implementation using a class."
      ],
      "metadata": {
        "id": "ja_O5zwYOUO3"
      }
    },
    {
      "cell_type": "code",
      "source": [
        "class myRidgeRegression_multiD(RegressorMixin, BaseEstimator):\n",
        "\n",
        "    def __init__(self, lr=0.06, lmb=0, n_epochs=500, optimizer_name=\"Adam\", device=None):\n",
        "\n",
        "        self.lr = lr\n",
        "        self.lmb = lmb\n",
        "        self.n_epochs = n_epochs\n",
        "        self.optimizer_name = optimizer_name\n",
        "        self.device = device if device is not None else torch.device(\"cpu\")\n",
        "        self.params = None\n",
        "        self.loss_history = []\n",
        "        self.params_history = []\n",
        "\n",
        "    def fit(self, x_train, y_train, verbose=False):\n",
        "\n",
        "        x_train_tensor = torch.tensor(np.c_[np.ones((x_train.shape[0], 1)), x_train], dtype=torch.float32,\n",
        "                                      device=self.device).view(x_train.shape[0], x_train.shape[1] + 1)\n",
        "\n",
        "        y_train_tensor = torch.tensor(np.ravel(y_train), dtype=torch.float32, device=self.device).view(-1, 1)\n",
        "\n",
        "        self.params = torch.nn.Parameter(torch.randn(x_train_tensor.shape[1], 1, dtype=torch.float32, device=self.device))\n",
        "\n",
        "        if self.optimizer_name.lower() == \"sgd\":\n",
        "            optimizer = torch.optim.SGD([self.params], lr=self.lr)\n",
        "        elif self.optimizer_name.lower() == \"adam\":\n",
        "            optimizer = torch.optim.Adam([self.params], lr=self.lr)\n",
        "        else:\n",
        "            raise ValueError(\"Unsupported optimizer. Choose 'SGD' or 'Adam'.\")\n",
        "\n",
        "        # Reset histories\n",
        "        self.loss_history = []\n",
        "        self.params_history = []\n",
        "\n",
        "        # Main training loop\n",
        "        for epoch in range(self.n_epochs):\n",
        "            yhat = torch.matmul(x_train_tensor, self.params)\n",
        "            error = y_train_tensor - yhat\n",
        "            loss = torch.mean(torch.pow(error, 2)) + self.lmb * torch.sum(torch.pow(self.params, 2))\n",
        "\n",
        "            loss.backward()\n",
        "\n",
        "            optimizer.step()\n",
        "            optimizer.zero_grad()\n",
        "\n",
        "            if epoch % 10 == 0:\n",
        "                self.loss_history.append(loss.item())\n",
        "                self.params_history.append([self.params[i] for i in range(len(self.params))])\n",
        "                if verbose:\n",
        "                    print(f\"Epoch {epoch}: loss = {loss.item():.4f}\")\n",
        "\n",
        "        return self\n",
        "\n",
        "    def predict(self, x):\n",
        "        x_tensor = torch.tensor(np.c_[np.ones((x.shape[0], 1)), x], dtype=torch.float32,\n",
        "                                device=self.device).view(x.shape[0], x.shape[1] + 1)\n",
        "        y_prediction = x_tensor @ self.params\n",
        "        return y_prediction.detach().cpu().numpy().flatten()"
      ],
      "metadata": {
        "id": "xEZ5G72DOcbA"
      },
      "execution_count": 11,
      "outputs": []
    },
    {
      "cell_type": "code",
      "source": [
        "model_ridge_reg = myRidgeRegression_multiD(lr=0.01, lmb=0.0001, n_epochs=1000)\n",
        "model_ridge_reg.fit(x_train, y_train)\n",
        "print(f\"myRidgeRegression_multiD model's parameters: b0 = {model_ridge_reg.params[0].item()}, b1 = {model_ridge_reg.params[1].item()}\")\n",
        "\n",
        "# print(model_ridge_reg.params)\n",
        "\n",
        "model_torch = TorchLinearRegression1D(lr=0.01, lmb=0.0001, n_epochs=1000)\n",
        "model_torch.fit(x_train, y_train)\n",
        "print(f\"TorchLinearRegression1D model's parameters: b0 = {model_torch.b.item()}, b1 = {model_torch.a.item()}\")"
      ],
      "metadata": {
        "colab": {
          "base_uri": "https://localhost:8080/"
        },
        "id": "cbVPBwxKPEoC",
        "outputId": "2ca521c1-1458-4155-9c0f-8d069fd9e6b8"
      },
      "execution_count": 28,
      "outputs": [
        {
          "output_type": "stream",
          "name": "stdout",
          "text": [
            "myRidgeRegression_multiD model's parameters: b0 = 1.1168948411941528, b1 = 1.7935035228729248\n",
            "TorchLinearRegression1D model's parameters: b0 = 1.0186325311660767, b1 = 1.9764670133590698\n"
          ]
        }
      ]
    },
    {
      "cell_type": "markdown",
      "source": [
        "* b) Re-consider California House Pricing from previous list. Choose several values of $\\lambda$ and compare results with `myLinearRegression_multiD()`"
      ],
      "metadata": {
        "id": "SOdlG0RrTm5-"
      }
    },
    {
      "cell_type": "code",
      "source": [
        "class myLinearRegression_multiD:\n",
        "\n",
        "    def __init__(self):\n",
        "        self.betas = None\n",
        "\n",
        "    def fit(self, X, y):\n",
        "        matrix_plan = np.c_[np.ones((X.shape[0], 1)), X]\n",
        "        self.betas = np.linalg.inv(matrix_plan.T @ matrix_plan) @ matrix_plan.T @ y\n",
        "        return self\n",
        "\n",
        "    def predict(self, X):\n",
        "        matrix_plan = np.c_[np.ones((X.shape[0], 1)), X]\n",
        "        return np.ravel(matrix_plan @ self.betas)\n",
        "\n",
        "    def get_params(self, deep=True):\n",
        "        return {}\n",
        "\n",
        "    def set_params(self, **params):\n",
        "        for key, value in params.items():\n",
        "            setattr(self, key, value)\n",
        "        return self"
      ],
      "metadata": {
        "id": "PdLEmRkETuwE"
      },
      "execution_count": 20,
      "outputs": []
    },
    {
      "cell_type": "code",
      "source": [
        "data = fetch_california_housing()\n",
        "X = data.data\n",
        "Y = data.target\n",
        "\n",
        "X_train, X_test, Y_train, Y_test = train_test_split(X, Y, test_size=0.2, random_state=42)"
      ],
      "metadata": {
        "id": "JP5cVUnCT5N0"
      },
      "execution_count": 23,
      "outputs": []
    },
    {
      "cell_type": "code",
      "source": [
        "lambda_grid = {'lmb': [0.0001, 0.001, 0.01, 0.1, 0.2, 0.5, 2]}\n",
        "\n",
        "model = myRidgeRegression_multiD(lr=0.01, n_epochs=1000)\n",
        "grid_search = GridSearchCV(model, lambda_grid, cv=5, scoring='neg_mean_squared_error')\n",
        "grid_search.fit(X_train, Y_train)\n",
        "y_hat = grid_search.best_estimator_.predict(X_test)\n",
        "\n",
        "print(grid_search.cv_results_.get('mean_test_score'))\n",
        "\n",
        "print(\"GridSearchCV best lambda:\", grid_search.best_params_['lmb'])\n",
        "print(\"GridSearchCV best CV MSE:\", -grid_search.best_score_)\n",
        "print(\"GridSearchCV best CV MSE (test set):\", mean_squared_error(Y_test, y_hat))\n",
        "\n",
        "model_linear_reg = myLinearRegression_multiD()\n",
        "Y_prediction = model_linear_reg.fit(X_train, Y_train).predict(X_test)\n",
        "\n",
        "print(f\"MSE of linear model (test set): {mean_squared_error(Y_test, Y_prediction)}\")"
      ],
      "metadata": {
        "colab": {
          "base_uri": "https://localhost:8080/"
        },
        "id": "WCsA58vnUEUx",
        "outputId": "749089cb-5d9c-4905-8ebf-d08be4177d2e"
      },
      "execution_count": 25,
      "outputs": [
        {
          "output_type": "stream",
          "name": "stdout",
          "text": [
            "[-1863.76497464 -4573.09229025  -131.00720877  -221.627834\n",
            "  -179.55472273 -1633.46239376  -336.48990995]\n",
            "GridSearchCV best lambda: 0.01\n",
            "GridSearchCV best CV MSE: 131.007208772179\n",
            "GridSearchCV best CV MSE (test set): 16.46951382891158\n",
            "MSE of linear model: 0.5558915986959397\n"
          ]
        }
      ]
    },
    {
      "cell_type": "markdown",
      "source": [
        "* c) Find \"best\" parameter lambda using `RandomizedSearchCV` (your implementation of `myRidgeRegression_multiD()` may require modification), search for it using uniform(0,5) distr., `cv=5` and `n_iter=100`. Compare model with best $\\lambda$ found this way with previous models.\n"
      ],
      "metadata": {
        "id": "2cOF3XO-VLvd"
      }
    },
    {
      "cell_type": "code",
      "source": [
        "lambda_dist = {'lmb': uniform(0, 5)}\n",
        "model_3 = myRidgeRegression_multiD(lr=0.01, n_epochs=1000)\n",
        "\n",
        "random_search = RandomizedSearchCV(model_3, lambda_dist, cv=5, scoring='neg_mean_squared_error',\n",
        "                                   n_iter=100, random_state=42)\n",
        "random_search.fit(X_train, Y_train)\n",
        "\n",
        "print(\"RandomizedSearchCV best lambda:\", random_search.best_params_['lmb'])\n",
        "print(\"RandomizedSearchCV best CV MSE:\", -random_search.best_score_)\n",
        "\n",
        "Y_hat = random_search.best_estimator_.predict(X_test)\n",
        "\n",
        "print(\"RandomizedSearchCV best CV MSE (test set):\", mean_squared_error(Y_test, Y_hat))"
      ],
      "metadata": {
        "colab": {
          "base_uri": "https://localhost:8080/"
        },
        "id": "_nYP7m19VQZf",
        "outputId": "0c5cba14-8f98-40fa-a8d3-24a6445da3fa"
      },
      "execution_count": 33,
      "outputs": [
        {
          "output_type": "stream",
          "name": "stdout",
          "text": [
            "RandomizedSearchCV best lambda: 3.005575058716044\n",
            "RandomizedSearchCV best CV MSE: 22.516970733532396\n",
            "RandomizedSearchCV best CV MSE (test set): 260.6386655215918\n"
          ]
        }
      ]
    },
    {
      "cell_type": "markdown",
      "source": [
        "# Q2.3 (**10 pts**)\n",
        "Consider matrix $Z$:\n",
        "\n",
        "```python\n",
        "d=15\n",
        "n=11\n",
        "Z = torch.randint(0,10,(n,d))\n",
        "print(Z)\n",
        "```\n",
        "\n",
        " $$dist_{Frob}(\\mathbf{Z},\\mathbf{W}\\mathbf{H})=||\\mathbf{Z}-\\mathbf{W}\\mathbf{H}||^2=\\sum_{i,j} (\\mathbf{Z}[i,j] -(\\mathbf{W}\\mathbf{H})[i,j])^2$$\n",
        "\n",
        "A)\n",
        "* Perform Truncated SVD, i.e., decompose $\\mathbf{Z}=\\mathbf{U}\\mathbf{\\Lambda}^{1\\over 2} \\mathbf{V}^T$, denote $\\mathbf{W}=\\mathbf{U}, \\mathbf{H}=\\mathbf{\\Lambda}^{1\\over 2} \\mathbf{V}^T$. Then approximate $\\mathbf{Z}$ by $\\mathbf{Z}_r=\\mathbf{W}_r \\mathbf{H}_r$. Compare with SGD/Adam methods for various values of $r$. What are the conclusions?"
      ],
      "metadata": {
        "id": "j3LKYGN8Wwom"
      }
    },
    {
      "cell_type": "code",
      "source": [
        "d = 15\n",
        "n = 11\n",
        "Z = torch.randint(0, 10, (n, d), dtype=torch.float32)\n",
        "\n",
        "W, Lmb, V = torch.svd(Z)\n",
        "H = torch.matmul(torch.diag(Lmb), V.T)\n",
        "# print(\"Z Shape: \", Z.shape)\n",
        "# print(\"H Shape: \", H.shape)\n",
        "# print(\"U Shape: \", W.shape)\n",
        "# print(\"V Shape: \", V.shape)"
      ],
      "metadata": {
        "id": "iYgUYFZRW6Ie"
      },
      "execution_count": 34,
      "outputs": []
    },
    {
      "cell_type": "code",
      "source": [
        "def greater_than_half(torch_Matrix):\n",
        "    with torch.no_grad():\n",
        "        elements_to_fix = torch_Matrix < 0.5\n",
        "        torch_Matrix[elements_to_fix] = 0.501\n",
        "    return torch_Matrix"
      ],
      "metadata": {
        "id": "r8JAm137uXE9"
      },
      "execution_count": 53,
      "outputs": []
    },
    {
      "cell_type": "code",
      "source": [
        "class Recovering:\n",
        "\n",
        "    def __init__(self, lr=0.06, n_epochs=500, optimizer_name=\"Adam\",device=None):\n",
        "        self.lr = lr\n",
        "        self.n_epochs = n_epochs\n",
        "        self.optimizer_name = optimizer_name\n",
        "        self.W_r = None\n",
        "        self.H_r = None\n",
        "        self.device = device if device is not None else torch.device(\"cpu\")\n",
        "        self.loss_list = []\n",
        "\n",
        "    def fit(self, Z, r, dist_pow, verbose=True):\n",
        "        self.loss_list = []\n",
        "\n",
        "        W_r = torch.randn((Z.shape[0], r), requires_grad=True, dtype=torch.float, device=self.device)\n",
        "        H_r = torch.randn((r, Z.shape[1]), requires_grad=True, dtype=torch.float, device=self.device)\n",
        "\n",
        "        if self.optimizer_name.lower() == \"sgd\":\n",
        "            optimizer = torch.optim.SGD([W_r, H_r], lr=self.lr)\n",
        "        elif self.optimizer_name.lower() == \"adam\":\n",
        "            optimizer = torch.optim.Adam([W_r, H_r], lr=self.lr)\n",
        "        else:\n",
        "            raise ValueError(\"Unsupported optimizer. Choose 'SGD' or 'Adam'.\")\n",
        "\n",
        "        for epoch in range(self.n_epochs):\n",
        "\n",
        "            loss = torch.mean(torch.pow(Z - torch.matmul(W_r, H_r), dist_pow))\n",
        "\n",
        "            loss.backward()\n",
        "\n",
        "            optimizer.step()\n",
        "            optimizer.zero_grad()\n",
        "\n",
        "            if epoch % 10 == 0:\n",
        "                self.loss_list.append(loss.item())\n",
        "                if verbose:\n",
        "                    print(f\"Epoch {epoch}: loss = {loss.item():.4f}\")\n",
        "\n",
        "        self.W_r = W_r\n",
        "        self.H_r = H_r\n",
        "\n",
        "    def fit_H_greater_than_half(self, Z, r, dist_pow, verbose=True):\n",
        "        self.loss_list = []\n",
        "\n",
        "        W_r = torch.randn((Z.shape[0], r), requires_grad=True, dtype=torch.float, device=self.device)\n",
        "        H_r = torch.randn((r, Z.shape[1]), requires_grad=True, dtype=torch.float, device=self.device)\n",
        "\n",
        "        if self.optimizer_name.lower() == \"sgd\":\n",
        "            optimizer = torch.optim.SGD([W_r, H_r], lr=self.lr)\n",
        "        elif self.optimizer_name.lower() == \"adam\":\n",
        "            optimizer = torch.optim.Adam([W_r, H_r], lr=self.lr)\n",
        "        else:\n",
        "            raise ValueError(\"Unsupported optimizer. Choose 'SGD' or 'Adam'.\")\n",
        "\n",
        "        for epoch in range(self.n_epochs):\n",
        "            H2_r = greater_than_half(H_r)\n",
        "\n",
        "            loss = torch.mean(torch.pow(Z - torch.matmul(W_r, H2_r), dist_pow))\n",
        "\n",
        "            loss.backward()\n",
        "\n",
        "            optimizer.step()\n",
        "            optimizer.zero_grad()\n",
        "\n",
        "            if epoch % 10 == 0:\n",
        "                self.loss_list.append(loss.item())\n",
        "                if verbose:\n",
        "                    print(f\"Epoch {epoch}: loss = {loss.item():.4f}\")\n",
        "\n",
        "        self.W_r = W_r\n",
        "        self.H_r = greater_than_half(H_r)\n",
        "\n",
        "    def fit_nonnegativeW(self, Z, r, dist_pow, verbose=True):\n",
        "        self.loss_list = []\n",
        "\n",
        "        W_r = torch.randn((Z.shape[0], r), requires_grad=True, dtype=torch.float, device=self.device)\n",
        "        H_r = torch.randn((r, Z.shape[1]), requires_grad=True, dtype=torch.float, device=self.device)\n",
        "\n",
        "        if self.optimizer_name.lower() == \"sgd\":\n",
        "            optimizer = torch.optim.SGD([W_r, H_r], lr=self.lr)\n",
        "        elif self.optimizer_name.lower() == \"adam\":\n",
        "            optimizer = torch.optim.Adam([W_r, H_r], lr=self.lr)\n",
        "        else:\n",
        "            raise ValueError(\"Unsupported optimizer. Choose 'SGD' or 'Adam'.\")\n",
        "\n",
        "        for epoch in range(self.n_epochs):\n",
        "            W2_r = torch.exp(W_r)\n",
        "\n",
        "            loss = torch.mean(torch.pow(Z - torch.matmul(W2_r, H_r), dist_pow))\n",
        "\n",
        "            loss.backward()\n",
        "\n",
        "            optimizer.step()\n",
        "            optimizer.zero_grad()\n",
        "\n",
        "            if epoch % 10 == 0:\n",
        "                self.loss_list.append(loss.item())\n",
        "                if verbose:\n",
        "                    print(f\"Epoch {epoch}: loss = {loss.item():.4f}\")\n",
        "\n",
        "        self.W_r = torch.exp(W_r)\n",
        "        self.H_r = H_r\n",
        "\n",
        "    def get_recovered_Z(self):\n",
        "        return torch.matmul(self.W_r, self.H_r)"
      ],
      "metadata": {
        "id": "CMDdtt1DXDQB"
      },
      "execution_count": 54,
      "outputs": []
    },
    {
      "cell_type": "code",
      "source": [
        "Rdist2 = Recovering(lr=0.02, n_epochs=1000)\n",
        "loss_dic_dist2 = {}\n",
        "\n",
        "for r in range(1, 12):\n",
        "    Rdist2.fit(Z, r, dist_pow=2, verbose=False)\n",
        "    loss_dic_dist2[r] = Rdist2.loss_list[-1]\n",
        "    print(f\" The loss for r = {r} = {Rdist2.loss_list[-1]}\")\n",
        "\n",
        "plt.plot(loss_dic_dist2.keys(), loss_dic_dist2.values(), label=\"power = 2 (Frob)\")\n",
        "plt.title(\"Value of loss for various r (Frob distance)\")\n",
        "plt.show()"
      ],
      "metadata": {
        "colab": {
          "base_uri": "https://localhost:8080/",
          "height": 648
        },
        "id": "KbV1YHJ0XUYW",
        "outputId": "49ca428e-9de9-4b6d-c488-49c6eb1e4028"
      },
      "execution_count": 55,
      "outputs": [
        {
          "output_type": "stream",
          "name": "stdout",
          "text": [
            " The loss for r = 1 = 6.973441123962402\n",
            " The loss for r = 2 = 5.355447292327881\n",
            " The loss for r = 3 = 3.900682210922241\n",
            " The loss for r = 4 = 2.678865432739258\n",
            " The loss for r = 5 = 1.7005555629730225\n",
            " The loss for r = 6 = 1.1348755359649658\n",
            " The loss for r = 7 = 0.6111811399459839\n",
            " The loss for r = 8 = 0.3625536561012268\n",
            " The loss for r = 9 = 0.182081401348114\n",
            " The loss for r = 10 = 0.050418708473443985\n",
            " The loss for r = 11 = 0.00022185331908985972\n"
          ]
        },
        {
          "output_type": "display_data",
          "data": {
            "text/plain": [
              "<Figure size 640x480 with 1 Axes>"
            ],
            "image/png": "[encoded data removed]"
          },
          "metadata": {}
        }
      ]
    },
    {
      "cell_type": "markdown",
      "source": [
        "* Consider different distance\n",
        " $$dist_{4}(\\mathbf{Z},\\mathbf{W}\\mathbf{H})=\\sum_{i,j} (\\mathbf{Z}[i,j] -(\\mathbf{W}\\mathbf{H})[i,j])^4$$\n",
        " Find \"best\" matrices $\\mathbf{W}, \\mathbf{H}$ using SGD/Adam methods. Compare with distance computed for truncated SVD."
      ],
      "metadata": {
        "id": "A1aDixUEaXe4"
      }
    },
    {
      "cell_type": "code",
      "source": [
        "Rdist4 = Recovering(lr=0.02, n_epochs=1000)\n",
        "loss_dic_dist4 = {}\n",
        "\n",
        "for r in range(1, 12):\n",
        "    Rdist4.fit(Z, r, dist_pow=4, verbose=False)\n",
        "    loss_dic_dist4[r] = Rdist4.loss_list[-1]\n",
        "    print(f\" The loss for r = {r} = {Rdist4.loss_list[-1]}\")\n",
        "\n",
        "plt.plot(loss_dic_dist2.keys(), loss_dic_dist2.values(), label=r'$\\text{dist}_2$')\n",
        "plt.plot(loss_dic_dist4.keys(), loss_dic_dist4.values(), label=r'$\\text{dist}_4$')\n",
        "plt.title(r'Comparison of value of loss with $dist_2$ and $dist_4$ for various r')\n",
        "plt.legend()\n",
        "plt.show()"
      ],
      "metadata": {
        "colab": {
          "base_uri": "https://localhost:8080/",
          "height": 650
        },
        "id": "YsTbn3jUXfKv",
        "outputId": "ac8ddb5f-2027-4f77-b320-0db2c9ea9a68"
      },
      "execution_count": 56,
      "outputs": [
        {
          "output_type": "stream",
          "name": "stdout",
          "text": [
            " The loss for r = 1 = 91.84764099121094\n",
            " The loss for r = 2 = 61.69110870361328\n",
            " The loss for r = 3 = 40.41175079345703\n",
            " The loss for r = 4 = 22.0336971282959\n",
            " The loss for r = 5 = 11.239727973937988\n",
            " The loss for r = 6 = 4.905696868896484\n",
            " The loss for r = 7 = 1.8864262104034424\n",
            " The loss for r = 8 = 1.0574413537979126\n",
            " The loss for r = 9 = 1.1756765842437744\n",
            " The loss for r = 10 = 0.5638241171836853\n",
            " The loss for r = 11 = 0.2923405170440674\n"
          ]
        },
        {
          "output_type": "display_data",
          "data": {
            "text/plain": [
              "<Figure size 640x480 with 1 Axes>"
            ],
            "image/png": "[encoded data removed]"
          },
          "metadata": {}
        }
      ]
    },
    {
      "cell_type": "markdown",
      "source": [
        "B)\n",
        "* Approximate the same  $\\mathbf{Z}$ as\n",
        "$$\\mathbf{Z}\\approx \\mathbf{W}\\mathbf{H}$$\n",
        "where $\\mathbf{W}$ is of size $n\\times r$ and $\\mathbf{H}$ is of size $r\\times d$ (fix some $r<d$) so that\n",
        "* a) $\\mathbf{W}$ is a symmetric matrix\n",
        "* b) $\\mathbf{W}$ is a symmetric matrix with nonnegative entries\n",
        "* c) $\\mathbf{W}$ is symmetric and each entry of $\\mathbf{H}$ is at least 0.5"
      ],
      "metadata": {
        "id": "VE8XNKQ1b1C8"
      }
    },
    {
      "cell_type": "code",
      "source": [
        "Rb = Recovering(lr=0.02, n_epochs=1000)\n",
        "for r in range(1, 8):\n",
        "    Rb.fit_nonnegativeW(Z, r, dist_pow=2, verbose=False)\n",
        "    print(f\" The loss for r = {r} = {Rb.loss_list[-1]}\")"
      ],
      "metadata": {
        "colab": {
          "base_uri": "https://localhost:8080/"
        },
        "id": "mNlibJMyb2DI",
        "outputId": "62c729ec-9219-4b59-831c-56ae1033bcdd"
      },
      "execution_count": 58,
      "outputs": [
        {
          "output_type": "stream",
          "name": "stdout",
          "text": [
            " The loss for r = 1 = 6.973442077636719\n",
            " The loss for r = 2 = 5.357255935668945\n",
            " The loss for r = 3 = 3.9097483158111572\n",
            " The loss for r = 4 = 2.678877592086792\n",
            " The loss for r = 5 = 1.7088077068328857\n",
            " The loss for r = 6 = 1.1383548974990845\n",
            " The loss for r = 7 = 0.6123573780059814\n",
            " The loss for r = 8 = 0.36936303973197937\n"
          ]
        }
      ]
    },
    {
      "cell_type": "code",
      "source": [
        "print(f\"Z matrix: {Z}\")\n",
        "print(f\"Recovered Z matrix: {Rb.get_recovered_Z()}\")\n",
        "print(f\"Nonnegative elements of W_r matrix: {Rb.W_r > 0}\")"
      ],
      "metadata": {
        "colab": {
          "base_uri": "https://localhost:8080/"
        },
        "id": "MKDzRq6Huykh",
        "outputId": "9b14fad8-2f3e-496e-85b0-02b85aa9f86f"
      },
      "execution_count": 68,
      "outputs": [
        {
          "output_type": "stream",
          "name": "stdout",
          "text": [
            "Z matrix: tensor([[9., 5., 4., 8., 5., 2., 2., 1., 7., 4., 2., 2., 4., 1., 7.],\n",
            "        [5., 8., 2., 5., 0., 6., 7., 6., 6., 7., 7., 9., 1., 1., 3.],\n",
            "        [5., 1., 8., 1., 4., 3., 0., 2., 8., 3., 8., 0., 1., 1., 0.],\n",
            "        [5., 5., 7., 2., 6., 2., 5., 0., 6., 9., 3., 9., 3., 1., 6.],\n",
            "        [2., 6., 1., 9., 7., 8., 0., 6., 4., 3., 8., 8., 3., 6., 8.],\n",
            "        [5., 3., 1., 0., 5., 6., 9., 8., 2., 7., 9., 6., 5., 8., 3.],\n",
            "        [6., 6., 3., 3., 7., 5., 0., 7., 2., 6., 3., 7., 0., 8., 6.],\n",
            "        [2., 3., 0., 6., 0., 3., 9., 4., 2., 8., 4., 2., 4., 5., 2.],\n",
            "        [1., 1., 8., 3., 3., 6., 9., 8., 8., 5., 3., 0., 2., 2., 4.],\n",
            "        [3., 1., 5., 0., 6., 5., 1., 8., 9., 0., 2., 3., 3., 7., 7.],\n",
            "        [4., 5., 3., 0., 6., 2., 1., 0., 3., 8., 9., 0., 3., 8., 8.]])\n",
            "Recovered Z matrix: tensor([[ 8.9484,  4.9053,  4.1434,  8.2072,  4.8567,  2.4096,  1.7525,  0.7761,\n",
            "          7.0962,  4.3935,  1.6793,  1.9701,  3.7671,  1.4049,  6.6064],\n",
            "        [ 4.7910,  6.6776,  2.6905,  5.9588,  1.5149,  6.1455,  7.0734,  5.7144,\n",
            "          5.0136,  7.0981,  7.0525,  9.5398,  1.6661,  0.8263,  1.9673],\n",
            "        [ 5.1665,  1.5003,  7.4906,  0.2725,  3.6386,  3.2044,  0.3086,  1.9319,\n",
            "          8.2480,  2.5067,  8.2071, -0.1622,  1.0851,  0.5425,  0.8537],\n",
            "        [ 5.1951,  5.9640,  7.0718,  1.7820,  5.3018,  1.8339,  4.7970,  0.6299,\n",
            "          6.0268,  9.3765,  2.7957,  8.2820,  1.9196,  1.1157,  6.3750],\n",
            "        [ 2.1174,  6.8908,  0.9292,  8.7519,  6.0778,  7.7141, -0.2649,  6.4936,\n",
            "          4.3969,  3.3475,  7.7988,  7.4651,  2.1283,  6.3588,  8.3118],\n",
            "        [ 5.0689,  3.8242,  1.2580,  0.1249,  3.9558,  5.9982,  8.3740,  8.4499,\n",
            "          2.3366,  7.9173,  8.4473,  5.3466,  3.6905,  8.8242,  2.7698],\n",
            "        [ 5.8479,  5.3271,  1.8030,  2.1076,  7.0844,  4.8924,  0.7221,  5.9795,\n",
            "          2.9724,  4.4864,  3.7637,  8.1491,  2.1364,  7.4012,  6.8067],\n",
            "        [ 2.2528,  3.3387, -0.3157,  5.3381,  0.3242,  3.4665,  9.5785,  3.9916,\n",
            "          1.5812,  7.3487,  4.3290,  1.7157,  4.0747,  3.9921,  2.9519],\n",
            "        [ 0.7477,  0.6303,  7.4454,  2.8512,  2.5723,  5.3138,  8.9849,  7.5982,\n",
            "          9.0483,  4.5705,  3.2262,  0.7878,  3.0473,  2.4423,  3.9361],\n",
            "        [ 3.1423,  0.8359,  5.9444,  0.6828,  7.0646,  5.4853,  0.9732,  8.4536,\n",
            "          7.5078,  0.5625,  1.7897,  2.4196,  2.1392,  6.5781,  6.5213],\n",
            "        [ 3.8003,  4.0472,  3.3584,  0.6363,  6.9039,  1.9030,  1.0196, -0.2356,\n",
            "          2.5805,  8.0089,  9.0717,  0.5144,  3.6330,  8.0214,  7.2600]],\n",
            "       grad_fn=<MmBackward0>)\n",
            "Nonnegative elements of W_r matrix: tensor([[True, True, True, True, True, True, True, True],\n",
            "        [True, True, True, True, True, True, True, True],\n",
            "        [True, True, True, True, True, True, True, True],\n",
            "        [True, True, True, True, True, True, True, True],\n",
            "        [True, True, True, True, True, True, True, True],\n",
            "        [True, True, True, True, True, True, True, True],\n",
            "        [True, True, True, True, True, True, True, True],\n",
            "        [True, True, True, True, True, True, True, True],\n",
            "        [True, True, True, True, True, True, True, True],\n",
            "        [True, True, True, True, True, True, True, True],\n",
            "        [True, True, True, True, True, True, True, True]])\n"
          ]
        }
      ]
    },
    {
      "cell_type": "code",
      "source": [
        "Rc = Recovering(lr=0.02, n_epochs=1000)\n",
        "for r in range(1, 9):\n",
        "    Rc.fit_H_greater_than_half(Z, r, dist_pow=2, verbose=False)\n",
        "    print(f\" The loss for r = {r} = {Rc.loss_list[-1]}\")"
      ],
      "metadata": {
        "colab": {
          "base_uri": "https://localhost:8080/"
        },
        "id": "Xb6h-Z-BvNH2",
        "outputId": "2b7ef93a-3e25-4169-df3e-defbb8c7e680"
      },
      "execution_count": 66,
      "outputs": [
        {
          "output_type": "stream",
          "name": "stdout",
          "text": [
            " The loss for r = 1 = 6.973442077636719\n",
            " The loss for r = 2 = 5.50858736038208\n",
            " The loss for r = 3 = 3.935673475265503\n",
            " The loss for r = 4 = 2.6868784427642822\n",
            " The loss for r = 5 = 1.709101676940918\n",
            " The loss for r = 6 = 1.167107105255127\n",
            " The loss for r = 7 = 0.6111830472946167\n",
            " The loss for r = 8 = 0.36261799931526184\n"
          ]
        }
      ]
    },
    {
      "cell_type": "code",
      "source": [
        "print(f\"Z matrix: {Z}\")\n",
        "print(f\"Recovered Z matrix: {Rc.get_recovered_Z()}\")\n",
        "print(f\"Elements greater than 0.5 in W_8 matrix: {Rc.H_r > 0.5}\")"
      ],
      "metadata": {
        "colab": {
          "base_uri": "https://localhost:8080/"
        },
        "id": "-schuGJevazF",
        "outputId": "fcb9a06a-f769-4fe0-d774-45c437a7f13b"
      },
      "execution_count": 69,
      "outputs": [
        {
          "output_type": "stream",
          "name": "stdout",
          "text": [
            "Z matrix: tensor([[9., 5., 4., 8., 5., 2., 2., 1., 7., 4., 2., 2., 4., 1., 7.],\n",
            "        [5., 8., 2., 5., 0., 6., 7., 6., 6., 7., 7., 9., 1., 1., 3.],\n",
            "        [5., 1., 8., 1., 4., 3., 0., 2., 8., 3., 8., 0., 1., 1., 0.],\n",
            "        [5., 5., 7., 2., 6., 2., 5., 0., 6., 9., 3., 9., 3., 1., 6.],\n",
            "        [2., 6., 1., 9., 7., 8., 0., 6., 4., 3., 8., 8., 3., 6., 8.],\n",
            "        [5., 3., 1., 0., 5., 6., 9., 8., 2., 7., 9., 6., 5., 8., 3.],\n",
            "        [6., 6., 3., 3., 7., 5., 0., 7., 2., 6., 3., 7., 0., 8., 6.],\n",
            "        [2., 3., 0., 6., 0., 3., 9., 4., 2., 8., 4., 2., 4., 5., 2.],\n",
            "        [1., 1., 8., 3., 3., 6., 9., 8., 8., 5., 3., 0., 2., 2., 4.],\n",
            "        [3., 1., 5., 0., 6., 5., 1., 8., 9., 0., 2., 3., 3., 7., 7.],\n",
            "        [4., 5., 3., 0., 6., 2., 1., 0., 3., 8., 9., 0., 3., 8., 8.]])\n",
            "Recovered Z matrix: tensor([[ 8.7116,  5.1923,  4.3557,  8.3226,  4.6514,  1.9054,  1.5966,  1.1500,\n",
            "          7.1109,  4.6327,  1.7193,  1.8327,  3.3889,  1.5313,  6.6788],\n",
            "        [ 5.0039,  6.6843,  2.6545,  5.9759,  1.4918,  6.1276,  7.0718,  5.7947,\n",
            "          5.0122,  7.0820,  6.9898,  9.4686,  1.6532,  0.8697,  1.8810],\n",
            "        [ 5.2082,  1.5848,  7.5128,  0.3051,  3.5702,  3.0757,  0.2583,  2.0632,\n",
            "          8.2573,  2.5669,  8.1884, -0.2280,  0.9551,  0.6064,  0.8197],\n",
            "        [ 4.9525,  5.7826,  7.0330,  1.7178,  5.4555,  2.1143,  4.8980,  0.3054,\n",
            "          6.0345,  9.2694,  2.8922,  8.4554,  2.1554,  0.9687,  6.4895],\n",
            "        [ 1.9059,  6.6905,  0.8737,  8.6792,  6.2415,  7.9458, -0.1610,  6.1776,\n",
            "          4.4059,  3.2075,  7.8999,  7.6750,  2.4159,  6.2007,  8.4098],\n",
            "        [ 4.5209,  3.9940,  1.4691,  0.1799,  3.8884,  5.9062,  8.2905,  8.4613,\n",
            "          2.3461,  8.1561,  8.4916,  5.3219,  3.4019,  8.8350,  2.9709],\n",
            "        [ 6.4467,  5.4720,  1.7303,  2.1401,  6.9316,  4.6856,  0.6444,  6.3351,\n",
            "          2.9578,  4.5044,  3.6012,  7.9371,  1.9615,  7.5984,  6.5486],\n",
            "        [ 2.4193,  3.3631, -0.3337,  5.3588,  0.2862,  3.3585,  9.5538,  4.1089,\n",
            "          1.5533,  7.3307,  4.3222,  1.6678,  4.0630,  4.0171,  2.8824],\n",
            "        [ 1.0340,  0.4549,  7.3033,  2.7761,  2.6812,  5.5322,  9.0733,  7.4718,\n",
            "          9.0238,  4.3988,  3.2053,  0.8560,  3.2954,  2.3883,  3.8480],\n",
            "        [ 2.9819,  0.8661,  5.9949,  0.7001,  7.0487,  5.5121,  0.9635,  8.4051,\n",
            "          7.5240,  0.6175,  1.7972,  2.4118,  2.0816,  6.5639,  6.5855],\n",
            "        [ 4.0284,  3.9217,  3.2431,  0.6024,  6.9748,  1.9668,  1.0944, -0.2958,\n",
            "          2.5835,  7.8568,  9.0648,  0.5699,  3.8430,  7.9849,  7.1956]],\n",
            "       grad_fn=<MmBackward0>)\n",
            "Elements greater than 0.5 in W_8 matrix: tensor([[True, True, True, True, True, True, True, True, True, True, True, True,\n",
            "         True, True, True],\n",
            "        [True, True, True, True, True, True, True, True, True, True, True, True,\n",
            "         True, True, True],\n",
            "        [True, True, True, True, True, True, True, True, True, True, True, True,\n",
            "         True, True, True],\n",
            "        [True, True, True, True, True, True, True, True, True, True, True, True,\n",
            "         True, True, True],\n",
            "        [True, True, True, True, True, True, True, True, True, True, True, True,\n",
            "         True, True, True],\n",
            "        [True, True, True, True, True, True, True, True, True, True, True, True,\n",
            "         True, True, True],\n",
            "        [True, True, True, True, True, True, True, True, True, True, True, True,\n",
            "         True, True, True],\n",
            "        [True, True, True, True, True, True, True, True, True, True, True, True,\n",
            "         True, True, True]])\n"
          ]
        }
      ]
    }
  ]
}